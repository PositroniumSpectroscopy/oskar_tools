{
 "cells": [
  {
   "cell_type": "markdown",
   "metadata": {
    "collapsed": true
   },
   "source": [
    "# Long-$n$ Rydberg Scan"
   ]
  },
  {
   "cell_type": "markdown",
   "metadata": {},
   "source": [
    "### Configure Ipython"
   ]
  },
  {
   "cell_type": "code",
   "execution_count": 3,
   "metadata": {
    "collapsed": false
   },
   "outputs": [],
   "source": [
    "#import python packages\n",
    "import os\n",
    "import numpy as np\n",
    "import pandas as pd\n",
    "import matplotlib.pyplot as plt\n",
    "from matplotlib.ticker import MultipleLocator\n",
    "%matplotlib inline\n",
    "#import custom packages\n",
    "import sspals, oskar\n",
    "import f2mods as f2"
   ]
  },
  {
   "cell_type": "markdown",
   "metadata": {},
   "source": [
    "### Import Data"
   ]
  },
  {
   "cell_type": "code",
   "execution_count": 4,
   "metadata": {
    "collapsed": false
   },
   "outputs": [],
   "source": [
    "rid = '20160318_153639'\n",
    "h5 = oskar.H5Data(rid)             # data\n",
    "h5.load_log()\n",
    "out_dire = h5.out_dire(\"Analysis\")  # output"
   ]
  },
  {
   "cell_type": "code",
   "execution_count": 5,
   "metadata": {
    "collapsed": false
   },
   "outputs": [
    {
     "name": "stdout",
     "output_type": "stream",
     "text": [
      "Loaded: av_SSPALS.dat\n"
     ]
    },
    {
     "data": {
      "text/html": [
       "<div>\n",
       "<table border=\"1\" class=\"dataframe\">\n",
       "  <thead>\n",
       "    <tr style=\"text-align: right;\">\n",
       "      <th></th>\n",
       "      <th>DLY_EA</th>\n",
       "      <th>IR</th>\n",
       "      <th>UV</th>\n",
       "      <th>VOL_u100</th>\n",
       "      <th>VOL_u101</th>\n",
       "      <th>t0_reps</th>\n",
       "      <th>t0_mean</th>\n",
       "      <th>t0_std</th>\n",
       "      <th>t0_sem</th>\n",
       "      <th>DF_reps</th>\n",
       "      <th>...</th>\n",
       "      <th>DF_std</th>\n",
       "      <th>DF_sem</th>\n",
       "      <th>Range_reps</th>\n",
       "      <th>Range_mean</th>\n",
       "      <th>Range_std</th>\n",
       "      <th>Range_sem</th>\n",
       "      <th>FWHM_reps</th>\n",
       "      <th>FWHM_mean</th>\n",
       "      <th>FWHM_std</th>\n",
       "      <th>FWHM_sem</th>\n",
       "    </tr>\n",
       "    <tr>\n",
       "      <th>VID</th>\n",
       "      <th></th>\n",
       "      <th></th>\n",
       "      <th></th>\n",
       "      <th></th>\n",
       "      <th></th>\n",
       "      <th></th>\n",
       "      <th></th>\n",
       "      <th></th>\n",
       "      <th></th>\n",
       "      <th></th>\n",
       "      <th></th>\n",
       "      <th></th>\n",
       "      <th></th>\n",
       "      <th></th>\n",
       "      <th></th>\n",
       "      <th></th>\n",
       "      <th></th>\n",
       "      <th></th>\n",
       "      <th></th>\n",
       "      <th></th>\n",
       "      <th></th>\n",
       "    </tr>\n",
       "  </thead>\n",
       "  <tbody>\n",
       "    <tr>\n",
       "      <th>1</th>\n",
       "      <td>5.950000e-07</td>\n",
       "      <td>735.6035</td>\n",
       "      <td>243.2</td>\n",
       "      <td>2000</td>\n",
       "      <td>2000</td>\n",
       "      <td>15845</td>\n",
       "      <td>1.783382e-07</td>\n",
       "      <td>2.192681e-10</td>\n",
       "      <td>1.741925e-12</td>\n",
       "      <td>15845</td>\n",
       "      <td>...</td>\n",
       "      <td>0.005855</td>\n",
       "      <td>0.000047</td>\n",
       "      <td>15845</td>\n",
       "      <td>0.478971</td>\n",
       "      <td>0.026768</td>\n",
       "      <td>0.000213</td>\n",
       "      <td>15845</td>\n",
       "      <td>1.123829e-08</td>\n",
       "      <td>5.397485e-10</td>\n",
       "      <td>4.287906e-12</td>\n",
       "    </tr>\n",
       "    <tr>\n",
       "      <th>2</th>\n",
       "      <td>5.950000e-07</td>\n",
       "      <td>736.4084</td>\n",
       "      <td>243.2</td>\n",
       "      <td>2000</td>\n",
       "      <td>2000</td>\n",
       "      <td>15856</td>\n",
       "      <td>1.783396e-07</td>\n",
       "      <td>2.165617e-10</td>\n",
       "      <td>1.719828e-12</td>\n",
       "      <td>15856</td>\n",
       "      <td>...</td>\n",
       "      <td>0.005985</td>\n",
       "      <td>0.000048</td>\n",
       "      <td>15856</td>\n",
       "      <td>0.478847</td>\n",
       "      <td>0.026927</td>\n",
       "      <td>0.000214</td>\n",
       "      <td>15856</td>\n",
       "      <td>1.124480e-08</td>\n",
       "      <td>5.354025e-10</td>\n",
       "      <td>4.251905e-12</td>\n",
       "    </tr>\n",
       "    <tr>\n",
       "      <th>3</th>\n",
       "      <td>5.950000e-07</td>\n",
       "      <td>737.3534</td>\n",
       "      <td>243.2</td>\n",
       "      <td>2000</td>\n",
       "      <td>2000</td>\n",
       "      <td>15844</td>\n",
       "      <td>1.783434e-07</td>\n",
       "      <td>2.170459e-10</td>\n",
       "      <td>1.724326e-12</td>\n",
       "      <td>15844</td>\n",
       "      <td>...</td>\n",
       "      <td>0.005990</td>\n",
       "      <td>0.000048</td>\n",
       "      <td>15844</td>\n",
       "      <td>0.478709</td>\n",
       "      <td>0.026818</td>\n",
       "      <td>0.000213</td>\n",
       "      <td>15844</td>\n",
       "      <td>1.125155e-08</td>\n",
       "      <td>5.461719e-10</td>\n",
       "      <td>4.339073e-12</td>\n",
       "    </tr>\n",
       "    <tr>\n",
       "      <th>4</th>\n",
       "      <td>5.950000e-07</td>\n",
       "      <td>738.4732</td>\n",
       "      <td>243.2</td>\n",
       "      <td>2000</td>\n",
       "      <td>2000</td>\n",
       "      <td>15904</td>\n",
       "      <td>1.783389e-07</td>\n",
       "      <td>2.197504e-10</td>\n",
       "      <td>1.742515e-12</td>\n",
       "      <td>15904</td>\n",
       "      <td>...</td>\n",
       "      <td>0.005968</td>\n",
       "      <td>0.000047</td>\n",
       "      <td>15904</td>\n",
       "      <td>0.478920</td>\n",
       "      <td>0.026912</td>\n",
       "      <td>0.000213</td>\n",
       "      <td>15904</td>\n",
       "      <td>1.124039e-08</td>\n",
       "      <td>5.372251e-10</td>\n",
       "      <td>4.259936e-12</td>\n",
       "    </tr>\n",
       "    <tr>\n",
       "      <th>5</th>\n",
       "      <td>5.950000e-07</td>\n",
       "      <td>739.8138</td>\n",
       "      <td>243.2</td>\n",
       "      <td>2000</td>\n",
       "      <td>2000</td>\n",
       "      <td>15828</td>\n",
       "      <td>1.783363e-07</td>\n",
       "      <td>2.200096e-10</td>\n",
       "      <td>1.748754e-12</td>\n",
       "      <td>15828</td>\n",
       "      <td>...</td>\n",
       "      <td>0.005979</td>\n",
       "      <td>0.000048</td>\n",
       "      <td>15828</td>\n",
       "      <td>0.478907</td>\n",
       "      <td>0.026731</td>\n",
       "      <td>0.000212</td>\n",
       "      <td>15828</td>\n",
       "      <td>1.124964e-08</td>\n",
       "      <td>5.419120e-10</td>\n",
       "      <td>4.307405e-12</td>\n",
       "    </tr>\n",
       "  </tbody>\n",
       "</table>\n",
       "<p>5 rows × 21 columns</p>\n",
       "</div>"
      ],
      "text/plain": [
       "           DLY_EA        IR     UV  VOL_u100  VOL_u101  t0_reps       t0_mean  \\\n",
       "VID                                                                             \n",
       "1    5.950000e-07  735.6035  243.2      2000      2000    15845  1.783382e-07   \n",
       "2    5.950000e-07  736.4084  243.2      2000      2000    15856  1.783396e-07   \n",
       "3    5.950000e-07  737.3534  243.2      2000      2000    15844  1.783434e-07   \n",
       "4    5.950000e-07  738.4732  243.2      2000      2000    15904  1.783389e-07   \n",
       "5    5.950000e-07  739.8138  243.2      2000      2000    15828  1.783363e-07   \n",
       "\n",
       "           t0_std        t0_sem  DF_reps      ...         DF_std    DF_sem  \\\n",
       "VID                                           ...                            \n",
       "1    2.192681e-10  1.741925e-12    15845      ...       0.005855  0.000047   \n",
       "2    2.165617e-10  1.719828e-12    15856      ...       0.005985  0.000048   \n",
       "3    2.170459e-10  1.724326e-12    15844      ...       0.005990  0.000048   \n",
       "4    2.197504e-10  1.742515e-12    15904      ...       0.005968  0.000047   \n",
       "5    2.200096e-10  1.748754e-12    15828      ...       0.005979  0.000048   \n",
       "\n",
       "     Range_reps  Range_mean  Range_std  Range_sem  FWHM_reps     FWHM_mean  \\\n",
       "VID                                                                          \n",
       "1         15845    0.478971   0.026768   0.000213      15845  1.123829e-08   \n",
       "2         15856    0.478847   0.026927   0.000214      15856  1.124480e-08   \n",
       "3         15844    0.478709   0.026818   0.000213      15844  1.125155e-08   \n",
       "4         15904    0.478920   0.026912   0.000213      15904  1.124039e-08   \n",
       "5         15828    0.478907   0.026731   0.000212      15828  1.124964e-08   \n",
       "\n",
       "         FWHM_std      FWHM_sem  \n",
       "VID                              \n",
       "1    5.397485e-10  4.287906e-12  \n",
       "2    5.354025e-10  4.251905e-12  \n",
       "3    5.461719e-10  4.339073e-12  \n",
       "4    5.372251e-10  4.259936e-12  \n",
       "5    5.419120e-10  4.307405e-12  \n",
       "\n",
       "[5 rows x 21 columns]"
      ]
     },
     "execution_count": 5,
     "metadata": {},
     "output_type": "execute_result"
    }
   ],
   "source": [
    "#read data\n",
    "DF = h5.load_av(verbose=True, loop=True, exclude=['avL_SSPALS.dat', \n",
    "                                                    'avL_SSPALS_CH_L0[ -1.00e-08   2.20e-07   6.50e-07].dat'])\n",
    "DF.head()"
   ]
  },
  {
   "cell_type": "markdown",
   "metadata": {},
   "source": [
    "## Plot Data"
   ]
  },
  {
   "cell_type": "code",
   "execution_count": 6,
   "metadata": {
    "collapsed": false
   },
   "outputs": [
    {
     "data": {
      "image/png": "[encoded data removed]",
      "text/plain": [
       "<matplotlib.figure.Figure at 0x9cde828>"
      ]
     },
     "metadata": {},
     "output_type": "display_data"
    }
   ],
   "source": [
    "X = 'IR'\n",
    "Y = 'DF'\n",
    "#plot setup\n",
    "fig, ax = plt.subplots()\n",
    "\n",
    "sg = DF.sort_values(by=X)\n",
    "x = sg[X].values\n",
    "y = sg[Y+'_mean'].values\n",
    "yerr = sg[Y+'_sem'].values\n",
    "ax.errorbar(x, y, yerr=yerr, fmt ='.-', color=oskar.colors[1])\n",
    "\n",
    "#format\n",
    "ax.set_ylabel(\"$f_{D}$ (%)\")\n",
    "ax.set_xlabel(\"Radiant Wavelength (nm)\")\n",
    "ax.set_xlim(x.min(), x.max())\n",
    "ax.grid(True)\n",
    "ax.set_title(rid)\n",
    "plt.tight_layout()\n",
    "\n",
    "#save data\n",
    "fileout = os.path.join(out_dire, \"long_n_DF.png\")\n",
    "plt.savefig(fileout, dpi=150, bbox_inches='tight')\n",
    "plt.show()"
   ]
  },
  {
   "cell_type": "markdown",
   "metadata": {},
   "source": [
    "## Signal"
   ]
  },
  {
   "cell_type": "code",
   "execution_count": 7,
   "metadata": {
    "collapsed": false
   },
   "outputs": [],
   "source": [
    "#calculate signal \n",
    "back = DF[(DF[X] > 750) & (DF[X] < 753)][Y+'_mean'] #define background\n",
    "bk = back.mean()\n",
    "bk_sem = back.std()/np.sqrt(back.count())\n",
    "sig = sspals.signal(DF[Y+'_mean'], DF[Y+'_sem'], bk, bk_sem)\n",
    "DF['S'] = sig[0]\n",
    "DF['S_err'] = sig[1]"
   ]
  },
  {
   "cell_type": "code",
   "execution_count": 8,
   "metadata": {
    "collapsed": false,
    "scrolled": true
   },
   "outputs": [
    {
     "data": {
      "image/png": "[encoded data removed]",
      "text/plain": [
       "<matplotlib.figure.Figure at 0x9cdea58>"
      ]
     },
     "metadata": {},
     "output_type": "display_data"
    }
   ],
   "source": [
    "X = 'IR'\n",
    "Y2 = 'S'\n",
    "#plot setup\n",
    "fig, ax = plt.subplots(figsize=(6, 4))\n",
    "\n",
    "#plot\n",
    "DF = DF.sort_values(by=X)\n",
    "x = f2.rad_cal(DF[X].values)\n",
    "y = DF[Y2].values\n",
    "yerr = DF[Y2+'_err'].values\n",
    "eb = ax.errorbar(x, y, yerr=yerr, fmt ='.-', color=oskar.colors[2])\n",
    "\n",
    "#labels\n",
    "ax.set_ylabel(\"$S_\\gamma$ (%)\")\n",
    "ax.set_xlabel(\"$\\lambda_{IR}$ (nm)\")\n",
    "\n",
    "ax.set_xlim(x.min(), x.max())\n",
    "ax, ax_top, ticks = f2.ryd_ticks(ax, color = oskar.colors[1], unit='nm',\n",
    "                          labels=[10, 12, 14, 17, 22, 33, 100])\n",
    "ax_top.set_xlim(ax.get_xlim())\n",
    "ax.axhline(0, alpha=0.5, c='k')\n",
    "\n",
    "ax_top.tick_params(axis='both', which='major', length=8, width=1.5, color = oskar.colors[1])\n",
    "ax_top.tick_params(axis='both', which='minor', length=3, width=1)\n",
    "\n",
    "ax.set_title(rid, y=1.08)\n",
    "\n",
    "#save data\n",
    "plt.tight_layout()\n",
    "fileout = os.path.join(out_dire, \"long_n_S.png\")\n",
    "plt.savefig(fileout, dpi=150, bbox_inches='tight')\n",
    "plt.show()"
   ]
  },
  {
   "cell_type": "code",
   "execution_count": null,
   "metadata": {
    "collapsed": true
   },
   "outputs": [],
   "source": []
  }
 ],
 "metadata": {
  "kernelspec": {
   "display_name": "Python 2",
   "language": "python",
   "name": "python2"
  },
  "language_info": {
   "codemirror_mode": {
    "name": "ipython",
    "version": 2
   },
   "file_extension": ".py",
   "mimetype": "text/x-python",
   "name": "python",
   "nbconvert_exporter": "python",
   "pygments_lexer": "ipython2",
   "version": "2.7.11"
  }
 },
 "nbformat": 4,
 "nbformat_minor": 0
}
