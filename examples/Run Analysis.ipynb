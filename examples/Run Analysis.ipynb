{
 "cells": [
  {
   "cell_type": "markdown",
   "metadata": {},
   "source": [
    "# Run Analysis\n",
    "\n",
    "####  <span style=\"color:red\">IMPORTANT</span> - Always PAUSE Sequencer.vi to run analysis for current sequence (HDF5 r/w conflict)!"
   ]
  },
  {
   "cell_type": "code",
   "execution_count": 1,
   "metadata": {
    "collapsed": false
   },
   "outputs": [],
   "source": [
    "import oskar\n",
    "scripts = oskar.Scripts()"
   ]
  },
  {
   "cell_type": "markdown",
   "metadata": {},
   "source": [
    "## defaults"
   ]
  },
  {
   "cell_type": "code",
   "execution_count": 2,
   "metadata": {
    "collapsed": false
   },
   "outputs": [],
   "source": [
    "# base directory\n",
    "%run $scripts.dset --base \"Z:\\Data\""
   ]
  },
  {
   "cell_type": "code",
   "execution_count": null,
   "metadata": {
    "collapsed": false
   },
   "outputs": [],
   "source": [
    "# override building of base/YYYY/MM/DD by specifying a custom data directory\n",
    "# %run $scripts.dset --dire \"C:\\Users\\Adam\\Desktop\""
   ]
  },
  {
   "cell_type": "code",
   "execution_count": null,
   "metadata": {
    "collapsed": true
   },
   "outputs": [],
   "source": [
    "# remove custom data directory from defaults.json to revert to loading data from [base]/YYYY/MM/DD\n",
    "# %run $scripts.dset -u dire"
   ]
  },
  {
   "cell_type": "markdown",
   "metadata": {},
   "source": [
    "## data"
   ]
  },
  {
   "cell_type": "code",
   "execution_count": 3,
   "metadata": {
    "collapsed": false
   },
   "outputs": [
    {
     "data": {
      "text/plain": [
       "'Z:\\\\Data\\\\2016\\\\05\\\\07\\\\20160507_145210\\\\20160507_145210_raw.h5'"
      ]
     },
     "execution_count": 3,
     "metadata": {},
     "output_type": "execute_result"
    }
   ],
   "source": [
    "rid = '20160507_145210'\n",
    "h5 = oskar.H5Data(rid)\n",
    "h5.fil"
   ]
  },
  {
   "cell_type": "code",
   "execution_count": 4,
   "metadata": {
    "collapsed": false
   },
   "outputs": [
    {
     "name": "stdout",
     "output_type": "stream",
     "text": [
      "20160507_145210\n",
      "   Author:\t AA\n",
      "   Description:  n = 10 high res lineshape\n"
     ]
    }
   ],
   "source": [
    "h5.load_log(update=True)      # this is a little slow but it's important the log file is up to date for plotting\n",
    "h5.pprint()"
   ]
  },
  {
   "cell_type": "markdown",
   "metadata": {},
   "source": [
    "## average \n",
    "(~1 min / 24 hours of data)\n",
    "\n",
    "Average hdf5 data from specified columns."
   ]
  },
  {
   "cell_type": "code",
   "execution_count": null,
   "metadata": {
    "collapsed": false
   },
   "outputs": [],
   "source": [
    "#%run $scripts.average --help"
   ]
  },
  {
   "cell_type": "code",
   "execution_count": 5,
   "metadata": {
    "collapsed": false
   },
   "outputs": [
    {
     "name": "stdout",
     "output_type": "stream",
     "text": [
      "20160507_145210\n"
     ]
    },
    {
     "name": "stderr",
     "output_type": "stream",
     "text": [
      "100%|█████████████████████████████████| 1350/1350 [02:37<00:00,  8.55 squids/s]\n"
     ]
    },
    {
     "name": "stdout",
     "output_type": "stream",
     "text": [
      "SSPALS : averaged 1350 out of 1350 seqs.\n"
     ]
    }
   ],
   "source": [
    "# per squid\n",
    "ftype = \"{'SSPALS':['t0','DF','Range','FWHM']}\"\n",
    "%run $scripts.average -r $rid -f $ftype -t"
   ]
  },
  {
   "cell_type": "code",
   "execution_count": 6,
   "metadata": {
    "collapsed": false
   },
   "outputs": [
    {
     "name": "stdout",
     "output_type": "stream",
     "text": [
      "20160507_145210\n"
     ]
    },
    {
     "name": "stderr",
     "output_type": "stream",
     "text": [
      "100%|███████████████████████████████████████| 87/87 [00:04<00:00, 21.02 vids/s]\n"
     ]
    },
    {
     "name": "stdout",
     "output_type": "stream",
     "text": [
      "SSPALS : averaged 87 of 87 unique seqs from 15.52 loop(s).\n"
     ]
    }
   ],
   "source": [
    "# over loops\n",
    "%run $scripts.average -r $rid -f $ftype -L -t"
   ]
  },
  {
   "cell_type": "markdown",
   "metadata": {},
   "source": [
    "## count events \n",
    "(~5 min / 24 hours of data)\n",
    "\n",
    "Find the number of triggers in trace data. Output DataFrame to pandas .pkl file(s). ftypes\n",
    "are specfied in defaults.json (key: counts), or by using option -f."
   ]
  },
  {
   "cell_type": "code",
   "execution_count": 7,
   "metadata": {
    "collapsed": false
   },
   "outputs": [
    {
     "name": "stdout",
     "output_type": "stream",
     "text": [
      "20160507_145210\n"
     ]
    },
    {
     "name": "stderr",
     "output_type": "stream",
     "text": [
      "100%|█████████████████████████████████| 1350/1350 [05:50<00:00,  3.85 squids/s]\n"
     ]
    },
    {
     "name": "stdout",
     "output_type": "stream",
     "text": [
      "CH_A0 : Found 738997  trigger events from 134631 traces, for 1350 out of 1350 seqs.\n"
     ]
    },
    {
     "name": "stderr",
     "output_type": "stream",
     "text": [
      "100%|████████████████████████████████| 1350/1350 [00:02<00:00, 524.48 squids/s]\n"
     ]
    },
    {
     "name": "stdout",
     "output_type": "stream",
     "text": [
      "CH_A1 : no triggers found\n"
     ]
    }
   ],
   "source": [
    "# %run $scripts.count --help\n",
    "%run $scripts.count -r $rid -f \"CH_A0\" \"CH_A1\" --negative --min_level=0.004 --min_width=2e-8 --n_bsub 50 -t"
   ]
  },
  {
   "cell_type": "markdown",
   "metadata": {},
   "source": [
    "## vrange\n",
    "(~5 min / 24 hours of data)\n",
    "\n",
    "Find the vertical range of traces in hdf5 file.  Output average to tsv file."
   ]
  },
  {
   "cell_type": "code",
   "execution_count": null,
   "metadata": {
    "collapsed": false
   },
   "outputs": [],
   "source": [
    "# %run $scripts.vrange --help\n",
    "%run $scripts.vrange -r $rid -f \"CH_L1\" -t"
   ]
  },
  {
   "cell_type": "markdown",
   "metadata": {},
   "source": [
    "## sspals\n",
    "(~5 min / 24 hours of data)\n",
    "\n",
    "Combine hdf5 data (chmx).  Re-analyse each to find t0 (cfd trigger) and the delayed fraction (DF = BC/ AC) for limits (A,B,C).  \n",
    "        \n",
    "Output average to tsv file."
   ]
  },
  {
   "cell_type": "code",
   "execution_count": null,
   "metadata": {
    "collapsed": false
   },
   "outputs": [],
   "source": [
    "# %run $scripts.sspals --help\n",
    "%run $scripts.sspals -r $rid -f \"CH_L2\" \"CH_L3\" -t --validate --limits \"-1e-8, 1.8e-7, 6.5e-7\" --cfd_offset 8e-9 -L"
   ]
  },
  {
   "cell_type": "code",
   "execution_count": null,
   "metadata": {
    "collapsed": true
   },
   "outputs": [],
   "source": []
  }
 ],
 "metadata": {
  "kernelspec": {
   "display_name": "Python 2",
   "language": "python",
   "name": "python2"
  },
  "language_info": {
   "codemirror_mode": {
    "name": "ipython",
    "version": 2
   },
   "file_extension": ".py",
   "mimetype": "text/x-python",
   "name": "python",
   "nbconvert_exporter": "python",
   "pygments_lexer": "ipython2",
   "version": "2.7.11"
  }
 },
 "nbformat": 4,
 "nbformat_minor": 0
}
