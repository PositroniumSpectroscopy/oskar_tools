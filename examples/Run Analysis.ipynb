{
 "cells": [
  {
   "cell_type": "markdown",
   "metadata": {},
   "source": [
    "# Run Analysis\n",
    "\n",
    "####  <span style=\"color:red\">IMPORTANT</span> - Always PAUSE Sequencer.vi to run analysis for current sequence (HDF5 r/w conflict)!"
   ]
  },
  {
   "cell_type": "code",
   "execution_count": null,
   "metadata": {
    "collapsed": false
   },
   "outputs": [],
   "source": [
    "import oskar\n",
    "scripts = oskar.Scripts()"
   ]
  },
  {
   "cell_type": "markdown",
   "metadata": {},
   "source": [
    "## defaults"
   ]
  },
  {
   "cell_type": "code",
   "execution_count": null,
   "metadata": {
    "collapsed": false
   },
   "outputs": [],
   "source": [
    "# base directory\n",
    "%run $scripts.dset --base \"Z:\\Data\""
   ]
  },
  {
   "cell_type": "code",
   "execution_count": null,
   "metadata": {
    "collapsed": false
   },
   "outputs": [],
   "source": [
    "# override building of base/YYYY/MM/DD by specifying a custom data directory\n",
    "# %run $scripts.dset --dire \"C:\\Users\\Adam\\Desktop\""
   ]
  },
  {
   "cell_type": "code",
   "execution_count": null,
   "metadata": {
    "collapsed": true
   },
   "outputs": [],
   "source": [
    "# remove custom data directory from defaults.json to revert to loading data from [base]/YYYY/MM/DD\n",
    "# %run $scripts.dset -u dire"
   ]
  },
  {
   "cell_type": "markdown",
   "metadata": {},
   "source": [
    "## data"
   ]
  },
  {
   "cell_type": "code",
   "execution_count": null,
   "metadata": {
    "collapsed": false
   },
   "outputs": [],
   "source": [
    "rid = \"20160424_115511\"\n",
    "h5 = oskar.H5Data(rid)\n",
    "h5.fil"
   ]
  },
  {
   "cell_type": "code",
   "execution_count": null,
   "metadata": {
    "collapsed": false
   },
   "outputs": [],
   "source": [
    "h5.load_log(update=True)      # this is a little slow but it's important the log file is up to date for plotting\n",
    "h5.pprint()"
   ]
  },
  {
   "cell_type": "markdown",
   "metadata": {},
   "source": [
    "## average \n",
    "(~1 min / 24 hours of data)\n",
    "\n",
    "Average hdf5 data from specified columns."
   ]
  },
  {
   "cell_type": "code",
   "execution_count": null,
   "metadata": {
    "collapsed": false
   },
   "outputs": [],
   "source": [
    "#%run $scripts.average --help"
   ]
  },
  {
   "cell_type": "code",
   "execution_count": null,
   "metadata": {
    "collapsed": false
   },
   "outputs": [],
   "source": [
    "# per squid\n",
    "ftype = \"{'SSPALS':['t0','DF','Range','FWHM']}\"\n",
    "%run $scripts.average -r $rid -f $ftype -t"
   ]
  },
  {
   "cell_type": "code",
   "execution_count": null,
   "metadata": {
    "collapsed": false
   },
   "outputs": [],
   "source": [
    "# over loops\n",
    "%run $scripts.average -r $rid -f $ftype -L -t"
   ]
  },
  {
   "cell_type": "markdown",
   "metadata": {},
   "source": [
    "## count events \n",
    "(~5 min / 24 hours of data)\n",
    "\n",
    "Find the number of triggers in trace data. Output DataFrame to pandas .pkl file(s). ftypes\n",
    "are specfied in defaults.json (key: counts), or by using option -f."
   ]
  },
  {
   "cell_type": "code",
   "execution_count": null,
   "metadata": {
    "collapsed": false
   },
   "outputs": [],
   "source": [
    "# %run $scripts.count --help\n",
    "%run $scripts.count -r $rid -f \"CH_A0\" \"CH_A1\" --negative --min_level=0.004 --min_width=2e-8 --n_bsub 50 -t"
   ]
  },
  {
   "cell_type": "markdown",
   "metadata": {},
   "source": [
    "## vrange\n",
    "(~5 min / 24 hours of data)\n",
    "\n",
    "Find the vertical range of traces in hdf5 file.  Output average to tsv file."
   ]
  },
  {
   "cell_type": "code",
   "execution_count": null,
   "metadata": {
    "collapsed": false
   },
   "outputs": [],
   "source": [
    "# %run $scripts.vrange --help\n",
    "%run $scripts.vrange -r $rid -f \"CH_L1\" -t"
   ]
  },
  {
   "cell_type": "markdown",
   "metadata": {},
   "source": [
    "## sspals\n",
    "(~5 min / 24 hours of data)\n",
    "\n",
    "Combine hdf5 data (chmx).  Re-analyse each to find t0 (cfd trigger) and the delayed fraction (DF = BC/ AC) for limits (A,B,C).  \n",
    "        \n",
    "Output average to tsv file."
   ]
  },
  {
   "cell_type": "code",
   "execution_count": null,
   "metadata": {
    "collapsed": false
   },
   "outputs": [],
   "source": [
    "# %run $scripts.sspals --help\n",
    "%run $scripts.sspals -r $rid -f \"CH_L2\" \"CH_L3\" -t --validate --limits \"-1e-8, 1.8e-7, 6.5e-7\" --cfd_offset 8e-9 -L"
   ]
  },
  {
   "cell_type": "code",
   "execution_count": null,
   "metadata": {
    "collapsed": true
   },
   "outputs": [],
   "source": []
  }
 ],
 "metadata": {
  "kernelspec": {
   "display_name": "Python 2",
   "language": "python",
   "name": "python2"
  },
  "language_info": {
   "codemirror_mode": {
    "name": "ipython",
    "version": 2
   },
   "file_extension": ".py",
   "mimetype": "text/x-python",
   "name": "python",
   "nbconvert_exporter": "python",
   "pygments_lexer": "ipython2",
   "version": "2.7.11"
  }
 },
 "nbformat": 4,
 "nbformat_minor": 0
}
