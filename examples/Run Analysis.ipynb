{
 "cells": [
  {
   "cell_type": "markdown",
   "metadata": {},
   "source": [
    "# Run Analysis\n",
    "\n",
    "####  <span style=\"color:red\">IMPORTANT</span> - Always PAUSE Sequencer.vi to run analysis for current sequence (HDF5 r/w conflict)!"
   ]
  },
  {
   "cell_type": "code",
   "execution_count": 2,
   "metadata": {
    "collapsed": false
   },
   "outputs": [],
   "source": [
    "import oskar\n",
    "scripts = oskar.Scripts()"
   ]
  },
  {
   "cell_type": "code",
   "execution_count": 7,
   "metadata": {
    "collapsed": false
   },
   "outputs": [
    {
     "name": "stdout",
     "output_type": "stream",
     "text": [
      "20160301_212247\n",
      "   Author:\t AA, AD\n",
      "   Description:  LYSO (0.9 kV) vs PWO (1.4 kV) n = 12 lineshape\n",
      "\t\t IR: 7.5 mJ  (waveplate out)\n",
      "\t\t UV: 450 uJ (waveplate in)\n",
      "\t\t \n"
     ]
    }
   ],
   "source": [
    "rid = \"20160301_212247\"\n",
    "h5 = oskar.H5Data(rid)\n",
    "h5.load_log(update=True)      # this is a little slow but it's important the log file is up to date for plotting\n",
    "h5.pprint()"
   ]
  },
  {
   "cell_type": "markdown",
   "metadata": {},
   "source": [
    "# average SSPALS data \n",
    "(~1 min / 24 hours of data)"
   ]
  },
  {
   "cell_type": "code",
   "execution_count": 3,
   "metadata": {
    "collapsed": false
   },
   "outputs": [
    {
     "name": "stdout",
     "output_type": "stream",
     "text": [
      "20160321_185959\n"
     ]
    },
    {
     "name": "stderr",
     "output_type": "stream",
     "text": [
      "100%|█████████████████████████████████| 1186/1186 [01:17<00:00, 15.21 squids/s]\n"
     ]
    },
    {
     "name": "stdout",
     "output_type": "stream",
     "text": [
      "SSPALS : averaged 1186 out of 1186 seqs.\n"
     ]
    }
   ],
   "source": [
    "ftype = \"{'SSPALS':['t0','DF','Range','FWHM']}\"\n",
    "%run $scripts.average -r $rid -f $ftype -b"
   ]
  },
  {
   "cell_type": "code",
   "execution_count": 6,
   "metadata": {
    "collapsed": false
   },
   "outputs": [
    {
     "name": "stdout",
     "output_type": "stream",
     "text": [
      "20160323_203518\n"
     ]
    },
    {
     "name": "stderr",
     "output_type": "stream",
     "text": [
      "100%|█████████████████████████████████████| 168/168 [00:45<00:00,  3.71 vids/s]\n"
     ]
    },
    {
     "name": "stdout",
     "output_type": "stream",
     "text": [
      "SSPALS : averaged 168 of 168 unique seqs from 3.00 loop(s).\n"
     ]
    }
   ],
   "source": [
    "# over loops\n",
    "%run $scripts.average -r $rid -f $ftype -L -b"
   ]
  },
  {
   "cell_type": "markdown",
   "metadata": {},
   "source": [
    "# count trigger events \n",
    "(~5 min / 24 hours of data)"
   ]
  },
  {
   "cell_type": "code",
   "execution_count": 10,
   "metadata": {
    "collapsed": false
   },
   "outputs": [
    {
     "name": "stdout",
     "output_type": "stream",
     "text": [
      "20160323_203518\n"
     ]
    },
    {
     "name": "stderr",
     "output_type": "stream",
     "text": [
      "100%|███████████████████████████████████| 504/504 [03:07<00:00,  2.69 squids/s]\n"
     ]
    },
    {
     "name": "stdout",
     "output_type": "stream",
     "text": [
      "CH_A0 : Found 69264  trigger events from 50265 traces, for 504 out of 504 seqs.\n"
     ]
    },
    {
     "name": "stderr",
     "output_type": "stream",
     "text": [
      "100%|███████████████████████████████████| 504/504 [03:03<00:00,  2.74 squids/s]\n"
     ]
    },
    {
     "name": "stdout",
     "output_type": "stream",
     "text": [
      "CH_A1 : Found 57010  trigger events from 50265 traces, for 504 out of 504 seqs.\n"
     ]
    }
   ],
   "source": [
    "%run $scripts.count -r $rid -f \"CH_A0\" \"CH_A1\" --negative --min_level=0.001 --min_width=1e-7 --n_bsub 0 -b"
   ]
  },
  {
   "cell_type": "markdown",
   "metadata": {},
   "source": [
    "## find the vertical range of trace data\n",
    "(~5 min / 24 hours of data)"
   ]
  },
  {
   "cell_type": "code",
   "execution_count": 11,
   "metadata": {
    "collapsed": false
   },
   "outputs": [
    {
     "name": "stdout",
     "output_type": "stream",
     "text": [
      "20160301_212247\n"
     ]
    },
    {
     "name": "stderr",
     "output_type": "stream",
     "text": [
      "100%|███████████████████████████████████| 847/847 [01:32<00:00,  9.13 squids/s]\n"
     ]
    },
    {
     "name": "stdout",
     "output_type": "stream",
     "text": [
      "CH_L1 : found the average vertical range of 50721 traces, for 847 out of 847 seqs.\n"
     ]
    }
   ],
   "source": [
    "%run $scripts.vrange -r $rid -f \"CH_L1\" -b"
   ]
  },
  {
   "cell_type": "markdown",
   "metadata": {},
   "source": [
    "## sspals analysis \n",
    "(~5 min / 24 hours of data)"
   ]
  },
  {
   "cell_type": "code",
   "execution_count": 10,
   "metadata": {
    "collapsed": false
   },
   "outputs": [
    {
     "name": "stdout",
     "output_type": "stream",
     "text": [
      "20160301_212247\n"
     ]
    },
    {
     "name": "stderr",
     "output_type": "stream",
     "text": [
      "100%|███████████████████████████████████████| 58/58 [03:53<00:00,  0.20 vids/s]\n"
     ]
    },
    {
     "name": "stdout",
     "output_type": "stream",
     "text": [
      "SSPALS [ CH_L0 ,  CH_L1 ] : re-analysed  50721  spectra, for 58 out of 58 unique seqs from 14.60 loop(s)\n"
     ]
    }
   ],
   "source": [
    "# %run $scripts.sspals --help\n",
    "%run $scripts.sspals -r $rid -f \"CH_L0\" \"CH_L1\" -b --validate --limits \"-1e-8, 2.7e-7, 6.5e-7\" --cfd_offset 8e-9 -L"
   ]
  },
  {
   "cell_type": "code",
   "execution_count": null,
   "metadata": {
    "collapsed": true
   },
   "outputs": [],
   "source": []
  }
 ],
 "metadata": {
  "kernelspec": {
   "display_name": "Python 2",
   "language": "python",
   "name": "python2"
  },
  "language_info": {
   "codemirror_mode": {
    "name": "ipython",
    "version": 2
   },
   "file_extension": ".py",
   "mimetype": "text/x-python",
   "name": "python",
   "nbconvert_exporter": "python",
   "pygments_lexer": "ipython2",
   "version": "2.7.11"
  }
 },
 "nbformat": 4,
 "nbformat_minor": 0
}
