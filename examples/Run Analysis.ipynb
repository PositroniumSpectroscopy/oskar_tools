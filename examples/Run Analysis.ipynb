{
 "cells": [
  {
   "cell_type": "markdown",
   "metadata": {},
   "source": [
    "# Run Analysis\n",
    "\n",
    "####  <span style=\"color:red\">IMPORTANT</span> - Always PAUSE Sequencer.vi to run analysis for current sequence (HDF5 r/w conflict)!"
   ]
  },
  {
   "cell_type": "code",
   "execution_count": 2,
   "metadata": {
    "collapsed": false
   },
   "outputs": [],
   "source": [
    "import oskar\n",
    "scripts = oskar.Scripts()"
   ]
  },
  {
   "cell_type": "code",
   "execution_count": 3,
   "metadata": {
    "collapsed": false
   },
   "outputs": [
    {
     "name": "stdout",
     "output_type": "stream",
     "text": [
      "20160323_203518\n",
      "   Author:\t AA\n",
      "   Description:  n = 11 Stark split line.\n",
      "\t\t UV: 460 uJ (vertical pol)\n",
      "\t\t IR: 8 mJ (vertical pol)\n",
      "\t\t T = 3500 V\n",
      "\t\t R = 2000 V\n",
      "\t\t IR: 751 - 756 (0.03) nm\n"
     ]
    }
   ],
   "source": [
    "rid = \"20160323_203518\"\n",
    "h5 = oskar.H5Data(rid)\n",
    "h5.load_log(update=True)      # this is a little slow but it's important the log file is up to date for plotting\n",
    "h5.pprint()"
   ]
  },
  {
   "cell_type": "code",
   "execution_count": 3,
   "metadata": {
    "collapsed": false
   },
   "outputs": [
    {
     "name": "stdout",
     "output_type": "stream",
     "text": [
      "20160321_185959\n"
     ]
    },
    {
     "name": "stderr",
     "output_type": "stream",
     "text": [
      "100%|█████████████████████████████████| 1186/1186 [01:17<00:00, 15.21 squids/s]\n"
     ]
    },
    {
     "name": "stdout",
     "output_type": "stream",
     "text": [
      "SSPALS : averaged 1186 out of 1186 seqs.\n"
     ]
    }
   ],
   "source": [
    "# average SSPALS data (~1 min / 24 hours of data)\n",
    "ftype = \"{'SSPALS':['t0','DF','Range','FWHM']}\"\n",
    "%run $scripts.average -r $rid -f $ftype -b"
   ]
  },
  {
   "cell_type": "code",
   "execution_count": 6,
   "metadata": {
    "collapsed": false
   },
   "outputs": [
    {
     "name": "stdout",
     "output_type": "stream",
     "text": [
      "20160323_203518\n"
     ]
    },
    {
     "name": "stderr",
     "output_type": "stream",
     "text": [
      "100%|█████████████████████████████████████| 168/168 [00:45<00:00,  3.71 vids/s]\n"
     ]
    },
    {
     "name": "stdout",
     "output_type": "stream",
     "text": [
      "SSPALS : averaged 168 of 168 unique seqs from 3.00 loop(s).\n"
     ]
    }
   ],
   "source": [
    "# average SSPALS data over loops (~1 min / 24 hours of data)\n",
    "ftype = \"{'SSPALS':['t0','DF','Range','FWHM']}\"\n",
    "%run $scripts.average -r $rid -f $ftype -L -b"
   ]
  },
  {
   "cell_type": "code",
   "execution_count": 10,
   "metadata": {
    "collapsed": false
   },
   "outputs": [
    {
     "name": "stdout",
     "output_type": "stream",
     "text": [
      "20160323_203518\n"
     ]
    },
    {
     "name": "stderr",
     "output_type": "stream",
     "text": [
      "100%|███████████████████████████████████| 504/504 [03:07<00:00,  2.69 squids/s]\n"
     ]
    },
    {
     "name": "stdout",
     "output_type": "stream",
     "text": [
      "CH_A0 : Found 69264  trigger events from 50265 traces, for 504 out of 504 seqs.\n"
     ]
    },
    {
     "name": "stderr",
     "output_type": "stream",
     "text": [
      "100%|███████████████████████████████████| 504/504 [03:03<00:00,  2.74 squids/s]\n"
     ]
    },
    {
     "name": "stdout",
     "output_type": "stream",
     "text": [
      "CH_A1 : Found 57010  trigger events from 50265 traces, for 504 out of 504 seqs.\n"
     ]
    }
   ],
   "source": [
    "# count events (~5 min / 24 hours of data)\n",
    "%run $scripts.count -r $rid -f \"CH_A0\" \"CH_A1\" --negative --min_level=0.001 --min_width=1e-7 --n_bsub 0 -b"
   ]
  },
  {
   "cell_type": "code",
   "execution_count": 6,
   "metadata": {
    "collapsed": false
   },
   "outputs": [],
   "source": [
    "# analyse traces to find the vertical range (~5 min / 24 hours of data)\n",
    "#%run $scripts.vrange -r $rid -f \"CH_L1\" -b"
   ]
  },
  {
   "cell_type": "code",
   "execution_count": 7,
   "metadata": {
    "collapsed": false
   },
   "outputs": [],
   "source": [
    "# (re)analyse sspals traces (~5 min / 24 hours of data)\n",
    "#%run $scripts.sspals -r $rid -f \"CH_L0\" \"CH_L1\" -b --validate --limits \"-1e-8, 2.7e-7, 6.5e-7\" --cfd_offset 8e-9"
   ]
  },
  {
   "cell_type": "code",
   "execution_count": null,
   "metadata": {
    "collapsed": true
   },
   "outputs": [],
   "source": []
  }
 ],
 "metadata": {
  "kernelspec": {
   "display_name": "Python 2",
   "language": "python",
   "name": "python2"
  },
  "language_info": {
   "codemirror_mode": {
    "name": "ipython",
    "version": 2
   },
   "file_extension": ".py",
   "mimetype": "text/x-python",
   "name": "python",
   "nbconvert_exporter": "python",
   "pygments_lexer": "ipython2",
   "version": "2.7.11"
  }
 },
 "nbformat": 4,
 "nbformat_minor": 0
}
