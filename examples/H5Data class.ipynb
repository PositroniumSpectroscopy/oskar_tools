{
 "cells": [
  {
   "cell_type": "markdown",
   "metadata": {},
   "source": [
    "# H5Data class\n",
    "\n",
    "This class builds paths to stored h5 data files.  It contains methods to read h5 attributes\n",
    "and to generate a log file containing all of the VAR information.  It also has methods for load array and DataFrame data from the h5 files."
   ]
  },
  {
   "cell_type": "code",
   "execution_count": null,
   "metadata": {
    "collapsed": false
   },
   "outputs": [],
   "source": [
    "import oskar"
   ]
  },
  {
   "cell_type": "code",
   "execution_count": null,
   "metadata": {
    "collapsed": false
   },
   "outputs": [],
   "source": [
    "# create an instance of the data class for a particular run ID\n",
    "h5 = oskar.H5Data('20160318_153639')"
   ]
  },
  {
   "cell_type": "code",
   "execution_count": null,
   "metadata": {
    "collapsed": false
   },
   "outputs": [],
   "source": [
    "# find the raw data file path\n",
    "h5.fil"
   ]
  },
  {
   "cell_type": "code",
   "execution_count": null,
   "metadata": {
    "collapsed": false
   },
   "outputs": [],
   "source": [
    "# pretty print the h5 attributes\n",
    "h5.pprint()"
   ]
  },
  {
   "cell_type": "code",
   "execution_count": null,
   "metadata": {
    "collapsed": false
   },
   "outputs": [],
   "source": [
    "# build a path to an directory for output\n",
    "h5.out_dire('Analysis')"
   ]
  },
  {
   "cell_type": "code",
   "execution_count": null,
   "metadata": {
    "collapsed": false
   },
   "outputs": [],
   "source": [
    "h5.load_log(update=False) # reads h5 attributes.  'update=True' forces building of a new log file (slower).\n",
    "log_df = h5.log\n",
    "log_df"
   ]
  },
  {
   "cell_type": "code",
   "execution_count": null,
   "metadata": {
    "collapsed": false
   },
   "outputs": [],
   "source": [
    "# vars\n",
    "v_df = h5.var_df()\n",
    "v_df.head()"
   ]
  },
  {
   "cell_type": "code",
   "execution_count": null,
   "metadata": {
    "collapsed": false
   },
   "outputs": [],
   "source": [
    "# unique vars\n",
    "u_df = h5.unique_df()\n",
    "u_df.head()"
   ]
  },
  {
   "cell_type": "code",
   "execution_count": null,
   "metadata": {
    "collapsed": false
   },
   "outputs": [],
   "source": [
    "# concatenate array data from multiple squids\n",
    "squids=[1, 2]\n",
    "arr, info = h5.load_array(squids, name='CH_L0')\n",
    "print(info),\n",
    "print(arr)"
   ]
  },
  {
   "cell_type": "code",
   "execution_count": null,
   "metadata": {
    "collapsed": false
   },
   "outputs": [],
   "source": [
    "# concatenate DataFrame data from multiple squids\n",
    "df, info = h5.load_df(squids, name='SSPALS')\n",
    "print(info)\n",
    "df"
   ]
  },
  {
   "cell_type": "markdown",
   "metadata": {
    "collapsed": true
   },
   "source": [
    "## loading data from a custom directory"
   ]
  },
  {
   "cell_type": "code",
   "execution_count": null,
   "metadata": {
    "collapsed": false
   },
   "outputs": [],
   "source": [
    "# explictly override attributes\n",
    "h5_1 = oskar.H5Data('20160424_115511')\n",
    "h5_1.dire = 'C:\\\\Users\\\\Adam\\\\Desktop'\n",
    "h5_1.update_fils()\n",
    "h5_1.fil"
   ]
  },
  {
   "cell_type": "code",
   "execution_count": null,
   "metadata": {
    "collapsed": false
   },
   "outputs": [],
   "source": [
    "# alternatively, specify dire when creating the instance\n",
    "h5_2 = oskar.H5Data('20160424_115511', dire='C:\\\\Users\\\\Adam\\\\Desktop')\n",
    "h5_2.fil"
   ]
  },
  {
   "cell_type": "code",
   "execution_count": null,
   "metadata": {
    "collapsed": false
   },
   "outputs": [],
   "source": [
    "# or alternatively still, specify dire using the defaults file\n",
    "scripts = oskar.Scripts()\n",
    "%run $scripts.dset -a \"dire\" \"C:\\Users\\Adam\\Desktop\"\n",
    "h5_3 = oskar.H5Data('20160424_115511')\n",
    "h5_3.fil"
   ]
  },
  {
   "cell_type": "code",
   "execution_count": null,
   "metadata": {
    "collapsed": false
   },
   "outputs": [],
   "source": [
    "# delete default dire to stop it from affecting other scripts\n",
    "%run $scripts.dset -u \"dire\""
   ]
  },
  {
   "cell_type": "code",
   "execution_count": null,
   "metadata": {
    "collapsed": true
   },
   "outputs": [],
   "source": []
  }
 ],
 "metadata": {
  "kernelspec": {
   "display_name": "Python 2",
   "language": "python",
   "name": "python2"
  },
  "language_info": {
   "codemirror_mode": {
    "name": "ipython",
    "version": 2
   },
   "file_extension": ".py",
   "mimetype": "text/x-python",
   "name": "python",
   "nbconvert_exporter": "python",
   "pygments_lexer": "ipython2",
   "version": "2.7.11"
  }
 },
 "nbformat": 4,
 "nbformat_minor": 0
}
