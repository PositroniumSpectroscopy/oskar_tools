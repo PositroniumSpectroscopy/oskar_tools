{
 "cells": [
  {
   "cell_type": "markdown",
   "metadata": {},
   "source": [
    "# Information\n",
    "\n",
    "###  <span style=\"color:red\">IMPORTANT</span> - Always PAUSE Sequencer.vi to run info for current sequence (HDF5 r/w conflict)!"
   ]
  },
  {
   "cell_type": "code",
   "execution_count": 1,
   "metadata": {
    "collapsed": false
   },
   "outputs": [],
   "source": [
    "import oskar\n",
    "scripts = oskar.Scripts()"
   ]
  },
  {
   "cell_type": "code",
   "execution_count": 2,
   "metadata": {
    "collapsed": false
   },
   "outputs": [],
   "source": [
    "%run $scripts.dset -a \"base\" \"Z:\\Data\""
   ]
  },
  {
   "cell_type": "code",
   "execution_count": 3,
   "metadata": {
    "collapsed": false
   },
   "outputs": [],
   "source": [
    "rid = \"20160304_201648\""
   ]
  },
  {
   "cell_type": "code",
   "execution_count": 4,
   "metadata": {
    "collapsed": false
   },
   "outputs": [
    {
     "name": "stdout",
     "output_type": "stream",
     "text": [
      "20160304_201648\n",
      "   Author:\t AD\n",
      "   Description:  LYSO (0.9 kV) vs PWO (1.4 kV) \n",
      "\t\t Rydberg scan n=16-19 + 730 nm + 728.3 nm.\n",
      "\t\t UV (243.2 nm): 0.5 mJ (waveplate IN), \n",
      "\t\t IR: 5.5 mJ (waveplate OUT)\n",
      "\t\t T = 2.0 kV, R = 2.0 kV\n",
      "\t\t DLY 590 ns\n",
      "SQUIDS: 2057\n",
      "VARS: [u'DLY_EA' u'IR' u'UV' u'VOL_u100' u'VOL_u101']\n",
      "REC: []\n",
      "Unique VAR combinations: 93\n",
      "Number of loops: 22.1182795699\n"
     ]
    }
   ],
   "source": [
    "# inspect run meta-data for var/ uvar and rec vals.\n",
    "%run $scripts.info -r $rid"
   ]
  },
  {
   "cell_type": "code",
   "execution_count": null,
   "metadata": {
    "collapsed": true
   },
   "outputs": [],
   "source": []
  }
 ],
 "metadata": {
  "kernelspec": {
   "display_name": "Python 2",
   "language": "python",
   "name": "python2"
  },
  "language_info": {
   "codemirror_mode": {
    "name": "ipython",
    "version": 2
   },
   "file_extension": ".py",
   "mimetype": "text/x-python",
   "name": "python",
   "nbconvert_exporter": "python",
   "pygments_lexer": "ipython2",
   "version": "2.7.11"
  }
 },
 "nbformat": 4,
 "nbformat_minor": 0
}
