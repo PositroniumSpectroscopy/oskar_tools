{
 "cells": [
  {
   "cell_type": "markdown",
   "metadata": {},
   "source": [
    "# Compare background subtracted SSPALS traces (looped data)"
   ]
  },
  {
   "cell_type": "markdown",
   "metadata": {},
   "source": [
    "<span style=\"color:red\">IMPORTANT</span> - This notebook reads HDF5 files. Always PAUSE Sequencer.vi to run analysis for current sequence (HDF5 r/w conflict)!"
   ]
  },
  {
   "cell_type": "code",
   "execution_count": 1,
   "metadata": {
    "collapsed": false
   },
   "outputs": [],
   "source": [
    "#import python packages\n",
    "import os\n",
    "import numpy as np\n",
    "import pandas as pd\n",
    "from tqdm import tqdm\n",
    "import matplotlib.pyplot as plt\n",
    "from matplotlib.ticker import MultipleLocator\n",
    "%matplotlib inline\n",
    "import oskar, sspals"
   ]
  },
  {
   "cell_type": "markdown",
   "metadata": {},
   "source": [
    "### Import"
   ]
  },
  {
   "cell_type": "code",
   "execution_count": 3,
   "metadata": {
    "collapsed": false
   },
   "outputs": [
    {
     "name": "stdout",
     "output_type": "stream",
     "text": [
      "20160424_115511\n",
      "   Author:\t AA,BC\n",
      "   Description:  Pulser delay scan, lineshapes at each delay\n",
      "\t\t (pulser) DLY_GA: 1.05u, 1.4u, 10u\n",
      "\t\t (lasers) DLY_EA: 635ns\n",
      "\t\t IR: 755.63 - 761.81 (0.06)nm\n",
      "\t\t T = 2.2kV\n",
      "\t\t G = 200 V\n",
      "\t\t Initial temp: 97.1deg \n"
     ]
    }
   ],
   "source": [
    "rid = '20160424_115511'\n",
    "h5 = oskar.H5Data(rid)             # data\n",
    "h5.load_log()\n",
    "vDF = h5.var_df()\n",
    "uDF = h5.unique_df()\n",
    "out_dire = h5.out_dire(\"Traces\")    # output\n",
    "h5.pprint()"
   ]
  },
  {
   "cell_type": "code",
   "execution_count": 4,
   "metadata": {
    "collapsed": false
   },
   "outputs": [
    {
     "data": {
      "text/html": [
       "<div>\n",
       "<table border=\"1\" class=\"dataframe\">\n",
       "  <thead>\n",
       "    <tr style=\"text-align: right;\">\n",
       "      <th></th>\n",
       "      <th>DLY_EA</th>\n",
       "      <th>DLY_GA</th>\n",
       "      <th>IR</th>\n",
       "      <th>VOL_u101</th>\n",
       "      <th>VOL_u104</th>\n",
       "    </tr>\n",
       "    <tr>\n",
       "      <th>VID</th>\n",
       "      <th></th>\n",
       "      <th></th>\n",
       "      <th></th>\n",
       "      <th></th>\n",
       "      <th></th>\n",
       "    </tr>\n",
       "  </thead>\n",
       "  <tbody>\n",
       "    <tr>\n",
       "      <th>1</th>\n",
       "      <td>6.350000e-07</td>\n",
       "      <td>0.000001</td>\n",
       "      <td>755.63</td>\n",
       "      <td>200</td>\n",
       "      <td>2200</td>\n",
       "    </tr>\n",
       "    <tr>\n",
       "      <th>2</th>\n",
       "      <td>6.350000e-07</td>\n",
       "      <td>0.000001</td>\n",
       "      <td>755.69</td>\n",
       "      <td>200</td>\n",
       "      <td>2200</td>\n",
       "    </tr>\n",
       "    <tr>\n",
       "      <th>3</th>\n",
       "      <td>6.350000e-07</td>\n",
       "      <td>0.000001</td>\n",
       "      <td>755.75</td>\n",
       "      <td>200</td>\n",
       "      <td>2200</td>\n",
       "    </tr>\n",
       "    <tr>\n",
       "      <th>4</th>\n",
       "      <td>6.350000e-07</td>\n",
       "      <td>0.000001</td>\n",
       "      <td>755.81</td>\n",
       "      <td>200</td>\n",
       "      <td>2200</td>\n",
       "    </tr>\n",
       "    <tr>\n",
       "      <th>5</th>\n",
       "      <td>6.350000e-07</td>\n",
       "      <td>0.000001</td>\n",
       "      <td>755.87</td>\n",
       "      <td>200</td>\n",
       "      <td>2200</td>\n",
       "    </tr>\n",
       "  </tbody>\n",
       "</table>\n",
       "</div>"
      ],
      "text/plain": [
       "           DLY_EA    DLY_GA      IR  VOL_u101  VOL_u104\n",
       "VID                                                    \n",
       "1    6.350000e-07  0.000001  755.63       200      2200\n",
       "2    6.350000e-07  0.000001  755.69       200      2200\n",
       "3    6.350000e-07  0.000001  755.75       200      2200\n",
       "4    6.350000e-07  0.000001  755.81       200      2200\n",
       "5    6.350000e-07  0.000001  755.87       200      2200"
      ]
     },
     "execution_count": 4,
     "metadata": {},
     "output_type": "execute_result"
    }
   ],
   "source": [
    "uDF.head()"
   ]
  },
  {
   "cell_type": "code",
   "execution_count": 10,
   "metadata": {
    "collapsed": false
   },
   "outputs": [
    {
     "data": {
      "text/html": [
       "<div>\n",
       "<table border=\"1\" class=\"dataframe\">\n",
       "  <thead>\n",
       "    <tr style=\"text-align: right;\">\n",
       "      <th></th>\n",
       "      <th>DLY_EA</th>\n",
       "      <th>DLY_GA</th>\n",
       "      <th>IR</th>\n",
       "      <th>VOL_u101</th>\n",
       "      <th>VOL_u104</th>\n",
       "    </tr>\n",
       "    <tr>\n",
       "      <th>VID</th>\n",
       "      <th></th>\n",
       "      <th></th>\n",
       "      <th></th>\n",
       "      <th></th>\n",
       "      <th></th>\n",
       "    </tr>\n",
       "  </thead>\n",
       "  <tbody>\n",
       "    <tr>\n",
       "      <th>33</th>\n",
       "      <td>6.350000e-07</td>\n",
       "      <td>0.000001</td>\n",
       "      <td>757.55</td>\n",
       "      <td>200</td>\n",
       "      <td>2200</td>\n",
       "    </tr>\n",
       "    <tr>\n",
       "      <th>137</th>\n",
       "      <td>6.350000e-07</td>\n",
       "      <td>0.000001</td>\n",
       "      <td>757.55</td>\n",
       "      <td>200</td>\n",
       "      <td>2200</td>\n",
       "    </tr>\n",
       "    <tr>\n",
       "      <th>241</th>\n",
       "      <td>6.350000e-07</td>\n",
       "      <td>0.000010</td>\n",
       "      <td>757.55</td>\n",
       "      <td>200</td>\n",
       "      <td>2200</td>\n",
       "    </tr>\n",
       "  </tbody>\n",
       "</table>\n",
       "</div>"
      ],
      "text/plain": [
       "           DLY_EA    DLY_GA      IR  VOL_u101  VOL_u104\n",
       "VID                                                    \n",
       "33   6.350000e-07  0.000001  757.55       200      2200\n",
       "137  6.350000e-07  0.000001  757.55       200      2200\n",
       "241  6.350000e-07  0.000010  757.55       200      2200"
      ]
     },
     "execution_count": 10,
     "metadata": {},
     "output_type": "execute_result"
    }
   ],
   "source": [
    "uDF[uDF.IR == 757.55]"
   ]
  },
  {
   "cell_type": "code",
   "execution_count": 24,
   "metadata": {
    "collapsed": false,
    "scrolled": true
   },
   "outputs": [
    {
     "name": "stderr",
     "output_type": "stream",
     "text": []
    }
   ],
   "source": [
    "VIDS = np.array([1, 137]) # import data\n",
    "chan_hi = 'CH_L2'\n",
    "chan_low = 'CH_L3'\n",
    "# params\n",
    "limits = [-1e-8, 1.7e-7, 6.5e-7]\n",
    "dtype=[('t0','float'),('AC','float'),('BC','float'),('DF','float')]\n",
    "# get data\n",
    "DF = pd.DataFrame(np.array([],dtype=dtype))\n",
    "data = dict()\n",
    "max_num = 100  # maximum number of squids to include\n",
    "for vid in tqdm(VIDS):\n",
    "    squids = vDF[(vDF == uDF.loc[vid]).all(1)].index.values[:max_num]\n",
    "    hi, osc_hi = h5.load_array(squids, chan_hi)\n",
    "    low, osc_low = h5.load_array(squids, chan_low)\n",
    "    dt = osc_hi['dt']\n",
    "    chmx = sspals.chmx(hi, low, invert=True, n_bsub=100,\n",
    "                       validate=True, min_range=0.1)\n",
    "    # sspals\n",
    "    DF = sspals.sspals(chmx, dt, limits=limits)\n",
    "    x = (np.arange(np.shape(chmx)[1])*dt) - DF.t0.mean()\n",
    "    data[vid] = {'x':x, 'y':chmx, 'DF':DF}"
   ]
  },
  {
   "cell_type": "code",
   "execution_count": 19,
   "metadata": {
    "collapsed": true
   },
   "outputs": [],
   "source": [
    "pvids = [137]  # plot these vids\n",
    "bvids = [1]   # with these backgrounds"
   ]
  },
  {
   "cell_type": "code",
   "execution_count": 25,
   "metadata": {
    "collapsed": false
   },
   "outputs": [
    {
     "data": {
      "image/png": "[encoded data removed]",
      "text/plain": [
       "<matplotlib.figure.Figure at 0xa0055c0>"
      ]
     },
     "metadata": {},
     "output_type": "display_data"
    }
   ],
   "source": [
    "from mpl_toolkits.axes_grid1 import make_axes_locatable\n",
    "from matplotlib.ticker import MaxNLocator\n",
    "\n",
    "# plot setup\n",
    "fig, ax = plt.subplots(figsize=(7,5))\n",
    "\n",
    "# background subtraction subplot\n",
    "divider = make_axes_locatable(ax)\n",
    "axx = divider.append_axes(\"bottom\", size=1.5, pad=0.18, sharex=ax)\n",
    "\n",
    "# plot traces\n",
    "for i, vid in enumerate(pvids):\n",
    "    bvid = bvids[i]\n",
    "    x = 1e9 * data[vid]['x']\n",
    "    norm = np.divide(data[vid]['y'].T, 1e9 * data[vid]['DF'].AC.values).T\n",
    "    y1 = np.mean(norm, 0)\n",
    "    bnorm = np.divide(data[bvid]['y'].T, 1e9 * data[bvid]['DF'].AC.values).T\n",
    "    b1 = np.mean(bnorm, 0)\n",
    "    reps = len(data[vid]['DF'].index)\n",
    "    breps = len(data[bvid]['DF'].index)\n",
    "    sig = sspals.signal(data[vid]['DF'].DF.mean(), data[vid]['DF'].DF.std() / np.sqrt(reps),\n",
    "              data[bvid]['DF'].DF.mean(), data[bvid]['DF'].DF.std() / np.sqrt(breps))\n",
    "    ax.plot(x, y1, c=oskar.colors[i], label=str(uDF.loc[vid, 'IR']) + r', $S_\\gamma$ = %.2f $\\pm$ %.2f'%sig)\n",
    "    ax.plot(x, b1, c='k', alpha=0.2)\n",
    "    axx.plot(x, (y1 - b1), c=oskar.colors[i])\n",
    "    axx.plot(x, 10*(y1 - b1), c=oskar.colors[i], alpha=0.3)\n",
    "    \n",
    "ax.set_ylim(1e-5, 1e-1)\n",
    "ax.set_yscale('log')\n",
    "axx.set_ylim(-0.0005, 0.0005)\n",
    "#axx.set_yticks([-0.01, 0, 0.01])\n",
    "plt.locator_params(nbins=3, axis='y')\n",
    "\n",
    "#format\n",
    "ax.set_xlim(-20, 900)\n",
    "ax.set_ylabel(\"Signal (arb.)\");\n",
    "lgd = ax.legend(loc=1)\n",
    "plt.setp(ax.get_xticklabels(), visible=False)\n",
    "axx.set_xlabel(r\"Time (ns)\");\n",
    "plt.axhline(0, color='k', alpha=0.5)\n",
    "for lim in limits:\n",
    "    plt.axvline(lim * 1e9, ls='--', c='k', alpha=0.5)\n",
    "ax.set_title(rid)\n",
    "\n",
    "#save data\n",
    "plt.tight_layout();\n",
    "fileout = os.path.join(out_dire, \"bsub_pwo.png\")\n",
    "plt.savefig(fileout, dpi=300)\n",
    "plt.show()"
   ]
  },
  {
   "cell_type": "code",
   "execution_count": null,
   "metadata": {
    "collapsed": true
   },
   "outputs": [],
   "source": []
  }
 ],
 "metadata": {
  "kernelspec": {
   "display_name": "Python 2",
   "language": "python",
   "name": "python2"
  },
  "language_info": {
   "codemirror_mode": {
    "name": "ipython",
    "version": 2
   },
   "file_extension": ".py",
   "mimetype": "text/x-python",
   "name": "python",
   "nbconvert_exporter": "python",
   "pygments_lexer": "ipython2",
   "version": "2.7.11"
  }
 },
 "nbformat": 4,
 "nbformat_minor": 0
}
