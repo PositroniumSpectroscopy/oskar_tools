{
 "cells": [
  {
   "cell_type": "markdown",
   "metadata": {},
   "source": [
    "# SSPALS signal-to-noise ratio"
   ]
  },
  {
   "cell_type": "markdown",
   "metadata": {},
   "source": [
    "<span style=\"color:red\">IMPORTANT</span> - This notebook reads HDF5 files. Always PAUSE Sequencer.vi to run analysis for current sequence (HDF5 r/w conflict)!"
   ]
  },
  {
   "cell_type": "code",
   "execution_count": 1,
   "metadata": {
    "collapsed": false
   },
   "outputs": [],
   "source": [
    "#import python packages\n",
    "import os\n",
    "import numpy as np\n",
    "import pandas as pd\n",
    "from tqdm import tqdm, trange\n",
    "import matplotlib.pyplot as plt\n",
    "%matplotlib inline\n",
    "import sspals\n",
    "import oskar"
   ]
  },
  {
   "cell_type": "markdown",
   "metadata": {},
   "source": [
    "### Import"
   ]
  },
  {
   "cell_type": "code",
   "execution_count": 2,
   "metadata": {
    "collapsed": false
   },
   "outputs": [
    {
     "name": "stdout",
     "output_type": "stream",
     "text": [
      "20160311_121805\n",
      "   Author:\t AA, AD\n",
      "   Description:  n = 45 on/off\n"
     ]
    }
   ],
   "source": [
    "rid = '20160311_121805'\n",
    "h5 = oskar.H5Data(rid)              # data\n",
    "h5.load_log()\n",
    "vDF = h5.var_df()\n",
    "uDF = h5.unique_df()\n",
    "out_dire = h5.out_dire(\"Traces\")    # output\n",
    "h5.pprint()"
   ]
  },
  {
   "cell_type": "code",
   "execution_count": 3,
   "metadata": {
    "collapsed": false
   },
   "outputs": [
    {
     "data": {
      "text/html": [
       "<div>\n",
       "<table border=\"1\" class=\"dataframe\">\n",
       "  <thead>\n",
       "    <tr style=\"text-align: right;\">\n",
       "      <th></th>\n",
       "      <th>DLY_EA</th>\n",
       "      <th>IR</th>\n",
       "      <th>VOL_u100</th>\n",
       "      <th>VOL_u101</th>\n",
       "    </tr>\n",
       "    <tr>\n",
       "      <th>VID</th>\n",
       "      <th></th>\n",
       "      <th></th>\n",
       "      <th></th>\n",
       "      <th></th>\n",
       "    </tr>\n",
       "  </thead>\n",
       "  <tbody>\n",
       "    <tr>\n",
       "      <th>1</th>\n",
       "      <td>5.950000e-07</td>\n",
       "      <td>729.6791</td>\n",
       "      <td>4000</td>\n",
       "      <td>3950</td>\n",
       "    </tr>\n",
       "    <tr>\n",
       "      <th>2</th>\n",
       "      <td>5.950000e-07</td>\n",
       "      <td>749.2000</td>\n",
       "      <td>4000</td>\n",
       "      <td>3950</td>\n",
       "    </tr>\n",
       "  </tbody>\n",
       "</table>\n",
       "</div>"
      ],
      "text/plain": [
       "           DLY_EA        IR  VOL_u100  VOL_u101\n",
       "VID                                            \n",
       "1    5.950000e-07  729.6791      4000      3950\n",
       "2    5.950000e-07  749.2000      4000      3950"
      ]
     },
     "execution_count": 3,
     "metadata": {},
     "output_type": "execute_result"
    }
   ],
   "source": [
    "uDF.head()"
   ]
  },
  {
   "cell_type": "code",
   "execution_count": 4,
   "metadata": {
    "collapsed": false,
    "scrolled": true
   },
   "outputs": [
    {
     "name": "stderr",
     "output_type": "stream",
     "text": []
    }
   ],
   "source": [
    "# params\n",
    "VIDS = np.array([1, 2])\n",
    "channels = [['CH_L0', 'CH_L1'],\n",
    "            ['CH_L2', 'CH_L3']]\n",
    "limits = [[-1e-8, 2.5e-7, 6.5e-7],\n",
    "          [-1e-8, 3.5e-7, 6.5e-7]]\n",
    "# get data\n",
    "dtype=[('t0','float'),('AC','float'),('BC','float'),('DF','float')]\n",
    "DF = pd.DataFrame(np.array([],dtype=dtype))\n",
    "data = dict()\n",
    "max_num = 1000           # maximum number of squids to include\n",
    "for vid in tqdm(VIDS):\n",
    "    i = 0\n",
    "    for chan in channels:\n",
    "        squids = vDF[(vDF == uDF.loc[vid]).all(1)].index.values[:max_num]\n",
    "        hi, osc_hi = h5.load_array(squids, chan[0], ignore_missing=True)\n",
    "        low, osc_low = h5.load_array(squids, chan[1], ignore_missing=True)\n",
    "        dt = osc_hi['dt']\n",
    "        chmx = sspals.chmx(hi, low, invert=True, n_bsub=100,\n",
    "                           validate=True, min_range=0.1)\n",
    "        # sspals\n",
    "        DF = sspals.sspals(chmx, dt, limits=limits[i])\n",
    "        x = (np.arange(np.shape(chmx)[1])*dt) - DF.t0.mean()\n",
    "        data[str(vid) + \":\" + chan[0]] = {'x':x, 'y':chmx, 'DF':DF}\n",
    "        i = i + 1"
   ]
  },
  {
   "cell_type": "code",
   "execution_count": 5,
   "metadata": {
    "collapsed": false
   },
   "outputs": [
    {
     "name": "stderr",
     "output_type": "stream",
     "text": []
    }
   ],
   "source": [
    "all_dat = dict()\n",
    "for chan in channels:\n",
    "    signal = []\n",
    "    signal_err = []\n",
    "    # background\n",
    "    bk_vid = 2\n",
    "    # signal\n",
    "    vid = 1\n",
    "    num = min(len(data[str(bk_vid) + \":\" + chan[0]]['DF'].index),\n",
    "              len(data[str(vid) + \":\" + chan[0]]['DF'].index))\n",
    "    for rep in trange(num):\n",
    "        dat_on = data[str(vid) + \":\" + chan[0]]['DF'].loc[0:rep, 'DF']\n",
    "        av_on = dat_on.mean()\n",
    "        stderr_on = dat_on.std() / np.sqrt(rep)\n",
    "        dat_off = data[str(bk_vid) + \":\" + chan[0]]['DF'].loc[0:rep, 'DF']\n",
    "        av_off = dat_off.mean()\n",
    "        stderr_off = dat_off.std() / np.sqrt(rep)\n",
    "        S, S_err = sspals.signal(av_on, stderr_on, av_off, stderr_off)\n",
    "        signal.append(S)\n",
    "        signal_err.append(S_err)\n",
    "    signal = np.array(signal)\n",
    "    signal_err = np.array(signal_err)\n",
    "    all_dat[chan[0]] = [signal, signal_err]"
   ]
  },
  {
   "cell_type": "code",
   "execution_count": 6,
   "metadata": {
    "collapsed": false
   },
   "outputs": [
    {
     "data": {
      "image/png": "[encoded data removed]",
      "text/plain": [
       "<matplotlib.figure.Figure at 0x9891f98>"
      ]
     },
     "metadata": {},
     "output_type": "display_data"
    }
   ],
   "source": [
    "# plot setup\n",
    "fig, ax = plt.subplots(3, 1, figsize=(6,8))\n",
    "\n",
    "#plot\n",
    "labels = [r'PbWO$_4$', 'LYSO']\n",
    "for i, chan in enumerate(channels):\n",
    "    signal, signal_err = all_dat[chan[0]]\n",
    "    repeats = np.arange(len(signal))\n",
    "    ax[0].plot(repeats, signal, label=labels[i], color=oskar.colors[i%7])\n",
    "    ax[1].plot(repeats, signal_err, color=oskar.colors[i])\n",
    "    ax[2].plot(repeats, np.divide(signal, signal_err), color=oskar.colors[i%7])\n",
    "\n",
    "\n",
    "# plot range\n",
    "ax[2].set_xlim(0, len(signal))\n",
    "ax[0].set_xlim(ax[2].get_xlim())\n",
    "ax[1].set_xlim(ax[2].get_xlim())\n",
    "    \n",
    "#format\n",
    "ax[0].set_title(rid)\n",
    "ax[0].set_ylabel(\"$S_\\gamma$ (%)\");\n",
    "ax[1].set_ylabel(\"$\\Delta S_\\gamma$ (%)\");\n",
    "ax[2].set_ylabel(\"$S_\\gamma / \\Delta S_\\gamma$\");\n",
    "ax[2].set_xlabel(r\"Repeats\");\n",
    "plt.setp(ax[0].get_xticklabels(), visible=False)\n",
    "plt.setp(ax[1].get_xticklabels(), visible=False)\n",
    "lgd = ax[0].legend(loc=0, frameon=False)\n",
    "\n",
    "plt.tight_layout(h_pad=0.1)\n",
    "fileout = os.path.join(out_dire, \"snr.png\")\n",
    "plt.savefig(fileout, dpi=600, bbox_inches='tight')\n",
    "plt.show()"
   ]
  },
  {
   "cell_type": "code",
   "execution_count": null,
   "metadata": {
    "collapsed": true
   },
   "outputs": [],
   "source": []
  }
 ],
 "metadata": {
  "kernelspec": {
   "display_name": "Python 2",
   "language": "python",
   "name": "python2"
  },
  "language_info": {
   "codemirror_mode": {
    "name": "ipython",
    "version": 2
   },
   "file_extension": ".py",
   "mimetype": "text/x-python",
   "name": "python",
   "nbconvert_exporter": "python",
   "pygments_lexer": "ipython2",
   "version": "2.7.11"
  }
 },
 "nbformat": 4,
 "nbformat_minor": 0
}
