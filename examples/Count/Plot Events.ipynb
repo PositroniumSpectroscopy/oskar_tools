{
 "cells": [
  {
   "cell_type": "markdown",
   "metadata": {},
   "source": [
    "# Plot the output of count_events.py"
   ]
  },
  {
   "cell_type": "code",
   "execution_count": 1,
   "metadata": {
    "collapsed": false
   },
   "outputs": [],
   "source": [
    "#import python packages\n",
    "import os\n",
    "import numpy as np\n",
    "import pandas as pd\n",
    "import matplotlib.pyplot as plt\n",
    "%matplotlib inline\n",
    "import oskar"
   ]
  },
  {
   "cell_type": "markdown",
   "metadata": {},
   "source": [
    "### Import data"
   ]
  },
  {
   "cell_type": "code",
   "execution_count": 6,
   "metadata": {
    "collapsed": false
   },
   "outputs": [],
   "source": [
    "rid = '20160314_193512'\n",
    "h5 = oskar.h5_data(rid)             # data\n",
    "out_dire = h5.out_dire(\"Count\")     # output\n",
    "# log \n",
    "h5.load_log()\n",
    "logDF = h5.log\n",
    "varDF = h5.vDF()\n",
    "uDF = h5.uDF()\n",
    "# count data\n",
    "NAMES = ['CH_A0', 'CH_A1']\n",
    "allDF = h5.load_count(NAMES, include_vars=True)"
   ]
  },
  {
   "cell_type": "code",
   "execution_count": 13,
   "metadata": {
    "collapsed": false
   },
   "outputs": [
    {
     "data": {
      "text/html": [
       "<div>\n",
       "<table border=\"1\" class=\"dataframe\">\n",
       "  <thead>\n",
       "    <tr style=\"text-align: right;\">\n",
       "      <th></th>\n",
       "      <th>DLY_EA</th>\n",
       "      <th>IR</th>\n",
       "      <th>UV</th>\n",
       "      <th>VOL_u100</th>\n",
       "      <th>VOL_u101</th>\n",
       "    </tr>\n",
       "    <tr>\n",
       "      <th>VID</th>\n",
       "      <th></th>\n",
       "      <th></th>\n",
       "      <th></th>\n",
       "      <th></th>\n",
       "      <th></th>\n",
       "    </tr>\n",
       "  </thead>\n",
       "  <tbody>\n",
       "    <tr>\n",
       "      <th>1</th>\n",
       "      <td>5.950000e-07</td>\n",
       "      <td>739.83</td>\n",
       "      <td>243.2</td>\n",
       "      <td>2000</td>\n",
       "      <td>2000</td>\n",
       "    </tr>\n",
       "    <tr>\n",
       "      <th>2</th>\n",
       "      <td>5.950000e-07</td>\n",
       "      <td>750.70</td>\n",
       "      <td>243.2</td>\n",
       "      <td>2000</td>\n",
       "      <td>2000</td>\n",
       "    </tr>\n",
       "  </tbody>\n",
       "</table>\n",
       "</div>"
      ],
      "text/plain": [
       "           DLY_EA      IR     UV  VOL_u100  VOL_u101\n",
       "VID                                                 \n",
       "1    5.950000e-07  739.83  243.2      2000      2000\n",
       "2    5.950000e-07  750.70  243.2      2000      2000"
      ]
     },
     "execution_count": 13,
     "metadata": {},
     "output_type": "execute_result"
    }
   ],
   "source": [
    "uDF.head()"
   ]
  },
  {
   "cell_type": "code",
   "execution_count": 8,
   "metadata": {
    "collapsed": false
   },
   "outputs": [
    {
     "data": {
      "image/png": "[encoded data removed]",
      "text/plain": [
       "<matplotlib.figure.Figure at 0xbddd0f0>"
      ]
     },
     "metadata": {},
     "output_type": "display_data"
    }
   ],
   "source": [
    "## plot setup\n",
    "fig, ax = plt.subplots()\n",
    "bin_width = 0.5\n",
    "bins=np.arange(0.5,20 + bin_width, bin_width)\n",
    "\n",
    "max_amp = 0.025\n",
    "max_width = 0.5e-6\n",
    "\n",
    "# select data\n",
    "VIDS = [1, 2]\n",
    "for vid in VIDS:\n",
    "    # select data\n",
    "    data = allDF[((allDF[uDF.columns] == uDF.loc[vid]).all(1))]\n",
    "    # cut triggers\n",
    "    data = data[(data['amp'] < max_amp) & (data['width'] < max_width)]\n",
    "    trigs = (data['trigger'].values)*1e6\n",
    "    ax.hist(trigs, bins=bins, alpha=0.5, label='%.2f'%uDF.loc[vid, 'IR'])\n",
    "    \n",
    "#format\n",
    "plt.axhline(0, color='k', alpha=0.5)\n",
    "lgd = ax.legend(loc=0, fontsize=10, title='IR')\n",
    "ax.set_ylabel(\"Triggers / 500 ns\");\n",
    "ax.set_xlabel(r\"Time ($\\mu$s)\");\n",
    "ax.set_ylim(0,1000)\n",
    "plt.title(rid);\n",
    "ax.grid(True)\n",
    "\n",
    "#save data\n",
    "plt.tight_layout();\n",
    "fileout = os.path.join(out_dire, \"_\".join(NAMES) + '_triggers.png')\n",
    "plt.savefig(fileout, dpi=150)"
   ]
  },
  {
   "cell_type": "code",
   "execution_count": 12,
   "metadata": {
    "collapsed": false
   },
   "outputs": [
    {
     "data": {
      "image/png": "[encoded data removed]",
      "text/plain": [
       "<matplotlib.figure.Figure at 0x9ba2898>"
      ]
     },
     "metadata": {},
     "output_type": "display_data"
    }
   ],
   "source": [
    "# histogram bins\n",
    "bin_width = 0.5\n",
    "bins=np.arange(0.5,20 + bin_width, bin_width)\n",
    "\n",
    "# background\n",
    "vid_off = 2\n",
    "# select data\n",
    "data = allDF[(allDF[uDF.columns] == uDF.loc[vid_off]).all(1)]\n",
    "acq_off = logDF.loc[np.unique(data.squid.values), 'ACQUIRE'].sum()\n",
    "# cut triggers\n",
    "data = data[(data['amp'] < max_amp) & (data['width'] < max_width)]\n",
    "trigs = (data['trigger'].values)*1e6\n",
    "n_off = np.histogram(trigs, bins=bins)\n",
    "x = n_off[1][:-1]+bin_width/2\n",
    "\n",
    "# data\n",
    "VIDS = [1]\n",
    "n_rows = len(VIDS)\n",
    "#plot setup\n",
    "fig, ax = plt.subplots(n_rows, 1, figsize=(6,4*n_rows))\n",
    "ax = np.array([ax]).flatten()\n",
    "j = 0\n",
    "hr = []\n",
    "for vid in VIDS:\n",
    "    # select data\n",
    "    data = allDF[(allDF[uDF.columns] == uDF.loc[vid]).all(1)]\n",
    "    acq_on = logDF.loc[np.unique(data.squid.values), 'ACQUIRE'].sum()\n",
    "    # cut triggers\n",
    "    data = data[(data['amp'] < max_amp) & (data['width'] < max_width)]\n",
    "    trigs = (data['trigger'].values)*1e6\n",
    "    n_on = np.histogram(trigs, bins=bins)\n",
    "    # normalise and subtract background\n",
    "    y =  np.subtract(n_on[0]/ acq_on, n_off[0] / acq_off)\n",
    "    yerr  = np.add(np.sqrt(n_on[0])/ acq_on, np.sqrt(n_off[0])/ acq_off)\n",
    "    ax[j].errorbar(x, y, yerr=yerr, drawstyle='steps-mid', label='%.2f'%uDF.loc[vid, 'IR'])\n",
    "    ax[j].legend(loc=0, fontsize=10)\n",
    "    ax[j].set_ylabel(\"Hit Rate / 500 ns\")\n",
    "    ax[j].axhline(0, color='k', alpha=0.5)\n",
    "    ax[j].text(10, -0.005,y[5:].sum())\n",
    "    hr.append(y[4:].sum())\n",
    "    j = j + 1\n",
    "\n",
    "# format\n",
    "ax[-1].set_xlabel(r\"Time ($\\mu$s)\");\n",
    "ax[0].set_title(rid + ': (' + str(vid_off) + ')');\n",
    "\n",
    "# save data\n",
    "plt.tight_layout();\n",
    "fileout = os.path.join(out_dire, \"_\".join(NAMES) + '_bsub.png')\n",
    "plt.savefig(fileout, dpi=150)\n",
    "plt.show()"
   ]
  },
  {
   "cell_type": "code",
   "execution_count": null,
   "metadata": {
    "collapsed": true
   },
   "outputs": [],
   "source": []
  }
 ],
 "metadata": {
  "kernelspec": {
   "display_name": "Python 2",
   "language": "python",
   "name": "python2"
  },
  "language_info": {
   "codemirror_mode": {
    "name": "ipython",
    "version": 2
   },
   "file_extension": ".py",
   "mimetype": "text/x-python",
   "name": "python",
   "nbconvert_exporter": "python",
   "pygments_lexer": "ipython2",
   "version": "2.7.11"
  }
 },
 "nbformat": 4,
 "nbformat_minor": 0
}
