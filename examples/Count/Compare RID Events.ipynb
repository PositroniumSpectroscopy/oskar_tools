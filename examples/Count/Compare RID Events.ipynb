{
 "cells": [
  {
   "cell_type": "markdown",
   "metadata": {},
   "source": [
    "# Plot the output of count_events.py"
   ]
  },
  {
   "cell_type": "code",
   "execution_count": 1,
   "metadata": {
    "collapsed": false
   },
   "outputs": [],
   "source": [
    "#import python packages\n",
    "import os\n",
    "import numpy as np\n",
    "import pandas as pd\n",
    "import matplotlib.pyplot as plt\n",
    "%matplotlib inline\n",
    "import oskar"
   ]
  },
  {
   "cell_type": "markdown",
   "metadata": {},
   "source": [
    "### Import data"
   ]
  },
  {
   "cell_type": "code",
   "execution_count": 2,
   "metadata": {
    "collapsed": false
   },
   "outputs": [
    {
     "data": {
      "text/html": [
       "<div>\n",
       "<table border=\"1\" class=\"dataframe\">\n",
       "  <thead>\n",
       "    <tr style=\"text-align: right;\">\n",
       "      <th></th>\n",
       "      <th>DLY_EA</th>\n",
       "      <th>IR</th>\n",
       "      <th>UV</th>\n",
       "      <th>VOL_u100</th>\n",
       "      <th>VOL_u101</th>\n",
       "    </tr>\n",
       "    <tr>\n",
       "      <th>VID</th>\n",
       "      <th></th>\n",
       "      <th></th>\n",
       "      <th></th>\n",
       "      <th></th>\n",
       "      <th></th>\n",
       "    </tr>\n",
       "  </thead>\n",
       "  <tbody>\n",
       "    <tr>\n",
       "      <th>1</th>\n",
       "      <td>5.950000e-07</td>\n",
       "      <td>739.83</td>\n",
       "      <td>243.2</td>\n",
       "      <td>2000</td>\n",
       "      <td>2000</td>\n",
       "    </tr>\n",
       "    <tr>\n",
       "      <th>2</th>\n",
       "      <td>5.950000e-07</td>\n",
       "      <td>750.70</td>\n",
       "      <td>243.2</td>\n",
       "      <td>2000</td>\n",
       "      <td>2000</td>\n",
       "    </tr>\n",
       "  </tbody>\n",
       "</table>\n",
       "</div>"
      ],
      "text/plain": [
       "           DLY_EA      IR     UV  VOL_u100  VOL_u101\n",
       "VID                                                 \n",
       "1    5.950000e-07  739.83  243.2      2000      2000\n",
       "2    5.950000e-07  750.70  243.2      2000      2000"
      ]
     },
     "execution_count": 2,
     "metadata": {},
     "output_type": "execute_result"
    }
   ],
   "source": [
    "RIDS = ['20160314_132242','20160314_193512']\n",
    "# count data\n",
    "NAMES = ['CH_A0', 'CH_A1']\n",
    "logDF = oskar.log_data(RIDS)\n",
    "allDF = oskar.count_data(RIDS, NAMES, include_vars=True)\n",
    "# output folder and unique vars\n",
    "h5 = oskar.h5_data(RIDS[0])\n",
    "h5.load_log()\n",
    "uDF = h5.uDF()\n",
    "out_dire = h5.out_dire(\"Count\")     # output\n",
    "uDF.head()"
   ]
  },
  {
   "cell_type": "code",
   "execution_count": 3,
   "metadata": {
    "collapsed": false
   },
   "outputs": [
    {
     "data": {
      "text/html": [
       "<div>\n",
       "<table border=\"1\" class=\"dataframe\">\n",
       "  <thead>\n",
       "    <tr style=\"text-align: right;\">\n",
       "      <th></th>\n",
       "      <th></th>\n",
       "      <th></th>\n",
       "      <th>trigger</th>\n",
       "      <th>width</th>\n",
       "      <th>amp</th>\n",
       "      <th>squid</th>\n",
       "      <th>rep</th>\n",
       "      <th>DLY_EA</th>\n",
       "      <th>IR</th>\n",
       "      <th>UV</th>\n",
       "      <th>VOL_u100</th>\n",
       "      <th>VOL_u101</th>\n",
       "    </tr>\n",
       "    <tr>\n",
       "      <th>RID</th>\n",
       "      <th>FTYPE</th>\n",
       "      <th>EVENT</th>\n",
       "      <th></th>\n",
       "      <th></th>\n",
       "      <th></th>\n",
       "      <th></th>\n",
       "      <th></th>\n",
       "      <th></th>\n",
       "      <th></th>\n",
       "      <th></th>\n",
       "      <th></th>\n",
       "      <th></th>\n",
       "    </tr>\n",
       "  </thead>\n",
       "  <tbody>\n",
       "    <tr>\n",
       "      <th rowspan=\"5\" valign=\"top\">20160314_132242</th>\n",
       "      <th rowspan=\"5\" valign=\"top\">CH_A0</th>\n",
       "      <th>0</th>\n",
       "      <td>0.000002</td>\n",
       "      <td>1.680000e-07</td>\n",
       "      <td>0.003750</td>\n",
       "      <td>1</td>\n",
       "      <td>4</td>\n",
       "      <td>5.950000e-07</td>\n",
       "      <td>750.7</td>\n",
       "      <td>243.2</td>\n",
       "      <td>2000</td>\n",
       "      <td>2000</td>\n",
       "    </tr>\n",
       "    <tr>\n",
       "      <th>1</th>\n",
       "      <td>0.000002</td>\n",
       "      <td>2.940000e-07</td>\n",
       "      <td>0.008042</td>\n",
       "      <td>1</td>\n",
       "      <td>4</td>\n",
       "      <td>5.950000e-07</td>\n",
       "      <td>750.7</td>\n",
       "      <td>243.2</td>\n",
       "      <td>2000</td>\n",
       "      <td>2000</td>\n",
       "    </tr>\n",
       "    <tr>\n",
       "      <th>2</th>\n",
       "      <td>0.000002</td>\n",
       "      <td>5.460000e-07</td>\n",
       "      <td>0.013979</td>\n",
       "      <td>1</td>\n",
       "      <td>5</td>\n",
       "      <td>5.950000e-07</td>\n",
       "      <td>750.7</td>\n",
       "      <td>243.2</td>\n",
       "      <td>2000</td>\n",
       "      <td>2000</td>\n",
       "    </tr>\n",
       "    <tr>\n",
       "      <th>3</th>\n",
       "      <td>0.000008</td>\n",
       "      <td>1.200000e-07</td>\n",
       "      <td>0.005000</td>\n",
       "      <td>1</td>\n",
       "      <td>5</td>\n",
       "      <td>5.950000e-07</td>\n",
       "      <td>750.7</td>\n",
       "      <td>243.2</td>\n",
       "      <td>2000</td>\n",
       "      <td>2000</td>\n",
       "    </tr>\n",
       "    <tr>\n",
       "      <th>4</th>\n",
       "      <td>0.000003</td>\n",
       "      <td>2.280000e-07</td>\n",
       "      <td>0.006667</td>\n",
       "      <td>1</td>\n",
       "      <td>8</td>\n",
       "      <td>5.950000e-07</td>\n",
       "      <td>750.7</td>\n",
       "      <td>243.2</td>\n",
       "      <td>2000</td>\n",
       "      <td>2000</td>\n",
       "    </tr>\n",
       "  </tbody>\n",
       "</table>\n",
       "</div>"
      ],
      "text/plain": [
       "                              trigger         width       amp  squid  rep  \\\n",
       "RID             FTYPE EVENT                                                 \n",
       "20160314_132242 CH_A0 0      0.000002  1.680000e-07  0.003750      1    4   \n",
       "                      1      0.000002  2.940000e-07  0.008042      1    4   \n",
       "                      2      0.000002  5.460000e-07  0.013979      1    5   \n",
       "                      3      0.000008  1.200000e-07  0.005000      1    5   \n",
       "                      4      0.000003  2.280000e-07  0.006667      1    8   \n",
       "\n",
       "                                   DLY_EA     IR     UV  VOL_u100  VOL_u101  \n",
       "RID             FTYPE EVENT                                                  \n",
       "20160314_132242 CH_A0 0      5.950000e-07  750.7  243.2      2000      2000  \n",
       "                      1      5.950000e-07  750.7  243.2      2000      2000  \n",
       "                      2      5.950000e-07  750.7  243.2      2000      2000  \n",
       "                      3      5.950000e-07  750.7  243.2      2000      2000  \n",
       "                      4      5.950000e-07  750.7  243.2      2000      2000  "
      ]
     },
     "execution_count": 3,
     "metadata": {},
     "output_type": "execute_result"
    }
   ],
   "source": [
    "#this is how you slice the pandas DataFrame by rid, ftype, or event number: .loc(axis=0)[ ]\n",
    "allDF.loc(axis=0)[:,'CH_A0', :].head()"
   ]
  },
  {
   "cell_type": "code",
   "execution_count": 4,
   "metadata": {
    "collapsed": false
   },
   "outputs": [
    {
     "data": {
      "image/png": "[encoded data removed]",
      "text/plain": [
       "<matplotlib.figure.Figure at 0x9e395c0>"
      ]
     },
     "metadata": {},
     "output_type": "display_data"
    }
   ],
   "source": [
    "## plot setup\n",
    "fig, ax = plt.subplots(1, len(RIDS), figsize=(10,4))\n",
    "bin_width = 0.5\n",
    "bins=np.arange(0.5,20 + bin_width, bin_width)\n",
    "\n",
    "max_amp = 0.025\n",
    "max_width = 0.5e-6\n",
    "\n",
    "# select data\n",
    "VIDS = [1, 2]\n",
    "for i, rid in enumerate(RIDS):\n",
    "    rdat = allDF.loc[rid]\n",
    "    for vid in VIDS:\n",
    "        # select data\n",
    "        data = rdat[((rdat[uDF.columns] == uDF.loc[vid]).all(1))]\n",
    "        # cut triggers\n",
    "        data = data[(data['amp'] < max_amp) & (data['width'] < max_width)]\n",
    "        trigs = (data['trigger'].values)*1e6\n",
    "        ax[i].hist(trigs, bins=bins, alpha=0.5, label='%.2f'%uDF.loc[vid, 'IR'])\n",
    "    \n",
    "#format\n",
    "plt.axhline(0, color='k', alpha=0.5)\n",
    "lgd = ax[0].legend(loc=0, fontsize=10, title='IR')\n",
    "ax[0].set_ylabel(\"Triggers / 500 ns\");\n",
    "ax[0].set_xlabel(r\"Time ($\\mu$s)\");\n",
    "ax[0].set_ylim(0,1000)\n",
    "ax[0].set_title(RIDS[0]);\n",
    "ax[0].grid(True)\n",
    "\n",
    "ax[1].set_xlabel(r\"Time ($\\mu$s)\");\n",
    "ax[1].set_ylim(0,1000)\n",
    "ax[1].set_title(RIDS[1]);\n",
    "ax[1].grid(True)\n",
    "\n",
    "\n",
    "#save data\n",
    "plt.tight_layout();\n",
    "fileout = os.path.join(out_dire, \"_\".join(NAMES) + '_trigger_comp.png')\n",
    "plt.savefig(fileout, dpi=150)"
   ]
  },
  {
   "cell_type": "code",
   "execution_count": 5,
   "metadata": {
    "collapsed": false
   },
   "outputs": [
    {
     "data": {
      "image/png": "[encoded data removed]",
      "text/plain": [
       "<matplotlib.figure.Figure at 0x9869ac8>"
      ]
     },
     "metadata": {},
     "output_type": "display_data"
    }
   ],
   "source": [
    "# histogram bins\n",
    "bin_width = 0.5\n",
    "bins=np.arange(0.5,20 + bin_width, bin_width)\n",
    "\n",
    "fig, ax = plt.subplots(1, 1, figsize=(6,4))\n",
    "for i, rid in enumerate(RIDS):\n",
    "    rdat = allDF.loc[rid]\n",
    "    log = logDF.loc[rid]\n",
    "    # background\n",
    "    vid_off = 2\n",
    "    # select data\n",
    "    data = rdat[(rdat[uDF.columns] == uDF.loc[vid_off]).all(1)]\n",
    "    acq_off = log.loc[np.unique(data.squid.values), 'ACQUIRE'].sum()\n",
    "    # cut triggers\n",
    "    data = data[(data['amp'] < max_amp) & (data['width'] < max_width)]\n",
    "    trigs = (data['trigger'].values)*1e6\n",
    "    n_off = np.histogram(trigs, bins=bins)\n",
    "    x = n_off[1][:-1]+bin_width/2\n",
    "    # data\n",
    "    VIDS = [1]\n",
    "    n_rows = len(VIDS)\n",
    "    #plot setup\n",
    "    hr = []\n",
    "    for vid in VIDS:\n",
    "        # select data\n",
    "        data = rdat[(rdat[uDF.columns] == uDF.loc[vid]).all(1)]\n",
    "        acq_on = log.loc[np.unique(data.squid.values), 'ACQUIRE'].sum()\n",
    "        # cut triggers\n",
    "        data = data[(data['amp'] < max_amp) & (data['width'] < max_width)]\n",
    "        trigs = (data['trigger'].values)*1e6\n",
    "        n_on = np.histogram(trigs, bins=bins)\n",
    "        # normalise and subtract background\n",
    "        y =  np.subtract(n_on[0]/ acq_on, n_off[0] / acq_off)\n",
    "        yerr  = np.add(np.sqrt(n_on[0])/ acq_on, np.sqrt(n_off[0])/ acq_off)\n",
    "        ax.errorbar(x, y, yerr=yerr, drawstyle='steps-mid', label=rid)\n",
    "        ax.legend(loc=0, fontsize=10)\n",
    "        ax.set_ylabel(\"Hit Rate / 500 ns\")\n",
    "        ax.axhline(0, color='k', alpha=0.5)\n",
    "        ax.text(10, [-0.01, -0.005][i],y[5:].sum(), color=['b', 'g'][i])\n",
    "        hr.append(y[4:].sum())\n",
    "\n",
    "# format\n",
    "ax.set_xlabel(r\"Time ($\\mu$s)\");\n",
    "ax.set_ylim(-0.015, 0.03)\n",
    "# save data\n",
    "plt.tight_layout();\n",
    "fileout = os.path.join(out_dire, \"_\".join(NAMES) + '_bsub_comp.png')\n",
    "plt.savefig(fileout, dpi=150)\n",
    "plt.show()"
   ]
  },
  {
   "cell_type": "code",
   "execution_count": null,
   "metadata": {
    "collapsed": true
   },
   "outputs": [],
   "source": []
  }
 ],
 "metadata": {
  "kernelspec": {
   "display_name": "Python 2",
   "language": "python",
   "name": "python2"
  },
  "language_info": {
   "codemirror_mode": {
    "name": "ipython",
    "version": 2
   },
   "file_extension": ".py",
   "mimetype": "text/x-python",
   "name": "python",
   "nbconvert_exporter": "python",
   "pygments_lexer": "ipython2",
   "version": "2.7.11"
  }
 },
 "nbformat": 4,
 "nbformat_minor": 0
}
