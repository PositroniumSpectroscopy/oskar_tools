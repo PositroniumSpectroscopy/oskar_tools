{
 "cells": [
  {
   "cell_type": "markdown",
   "metadata": {},
   "source": [
    "# Plot the output of count_events.py"
   ]
  },
  {
   "cell_type": "code",
   "execution_count": 1,
   "metadata": {
    "collapsed": false
   },
   "outputs": [],
   "source": [
    "#import python packages\n",
    "import os\n",
    "import numpy as np\n",
    "import pandas as pd\n",
    "import matplotlib.pyplot as plt\n",
    "%matplotlib inline\n",
    "import oskar, positronium\n",
    "import f2mods as f2"
   ]
  },
  {
   "cell_type": "markdown",
   "metadata": {},
   "source": [
    "### Import data"
   ]
  },
  {
   "cell_type": "code",
   "execution_count": 9,
   "metadata": {
    "collapsed": false
   },
   "outputs": [
    {
     "data": {
      "text/html": [
       "<div>\n",
       "<table border=\"1\" class=\"dataframe\">\n",
       "  <thead>\n",
       "    <tr style=\"text-align: right;\">\n",
       "      <th></th>\n",
       "      <th>DLY_EA</th>\n",
       "      <th>IR</th>\n",
       "      <th>UV</th>\n",
       "      <th>VOL_u100</th>\n",
       "      <th>VOL_u101</th>\n",
       "    </tr>\n",
       "    <tr>\n",
       "      <th>VID</th>\n",
       "      <th></th>\n",
       "      <th></th>\n",
       "      <th></th>\n",
       "      <th></th>\n",
       "      <th></th>\n",
       "    </tr>\n",
       "  </thead>\n",
       "  <tbody>\n",
       "    <tr>\n",
       "      <th>164</th>\n",
       "      <td>5.950000e-07</td>\n",
       "      <td>755.89</td>\n",
       "      <td>243.2</td>\n",
       "      <td>3500</td>\n",
       "      <td>2000</td>\n",
       "    </tr>\n",
       "    <tr>\n",
       "      <th>165</th>\n",
       "      <td>5.950000e-07</td>\n",
       "      <td>755.92</td>\n",
       "      <td>243.2</td>\n",
       "      <td>3500</td>\n",
       "      <td>2000</td>\n",
       "    </tr>\n",
       "    <tr>\n",
       "      <th>166</th>\n",
       "      <td>5.950000e-07</td>\n",
       "      <td>755.95</td>\n",
       "      <td>243.2</td>\n",
       "      <td>3500</td>\n",
       "      <td>2000</td>\n",
       "    </tr>\n",
       "    <tr>\n",
       "      <th>167</th>\n",
       "      <td>5.950000e-07</td>\n",
       "      <td>755.98</td>\n",
       "      <td>243.2</td>\n",
       "      <td>3500</td>\n",
       "      <td>2000</td>\n",
       "    </tr>\n",
       "    <tr>\n",
       "      <th>168</th>\n",
       "      <td>5.950000e-07</td>\n",
       "      <td>756.01</td>\n",
       "      <td>243.2</td>\n",
       "      <td>3500</td>\n",
       "      <td>2000</td>\n",
       "    </tr>\n",
       "  </tbody>\n",
       "</table>\n",
       "</div>"
      ],
      "text/plain": [
       "           DLY_EA      IR     UV  VOL_u100  VOL_u101\n",
       "VID                                                 \n",
       "164  5.950000e-07  755.89  243.2      3500      2000\n",
       "165  5.950000e-07  755.92  243.2      3500      2000\n",
       "166  5.950000e-07  755.95  243.2      3500      2000\n",
       "167  5.950000e-07  755.98  243.2      3500      2000\n",
       "168  5.950000e-07  756.01  243.2      3500      2000"
      ]
     },
     "execution_count": 9,
     "metadata": {},
     "output_type": "execute_result"
    }
   ],
   "source": [
    "rid = '20160323_203518'\n",
    "h5 = oskar.H5Data(rid)             # data\n",
    "out_dire = h5.out_dire(\"Count\")     # output\n",
    "# log \n",
    "h5.load_log()\n",
    "logDF = h5.log\n",
    "varDF = h5.vDF()\n",
    "uDF = h5.uDF()\n",
    "# count data\n",
    "NAMES = ['CH_A0', 'CH_A1']\n",
    "allDF = h5.load_count(NAMES, include_vars=True)\n",
    "uDF.tail()"
   ]
  },
  {
   "cell_type": "code",
   "execution_count": 7,
   "metadata": {
    "collapsed": false
   },
   "outputs": [
    {
     "data": {
      "image/png": "[encoded data removed]",
      "text/plain": [
       "<matplotlib.figure.Figure at 0xbee0898>"
      ]
     },
     "metadata": {},
     "output_type": "display_data"
    }
   ],
   "source": [
    "#plot setup\n",
    "fig, ax = plt.subplots()\n",
    "bin_width = 0.5\n",
    "bins=np.arange(0.5,20 + bin_width, bin_width)\n",
    "\n",
    "max_amp = 0.025\n",
    "max_width = 0.5e-6\n",
    "min_t = 3e-6\n",
    "# select data\n",
    "VIDS = [2, 4]\n",
    "for vid in VIDS:\n",
    "    # select data\n",
    "    data = allDF[((allDF[uDF.columns] == uDF.loc[vid]).all(1))]\n",
    "    # cut triggers\n",
    "    data = data[(data['amp'] < max_amp) & (data['width'] < max_width)]\n",
    "    trigs = (data['trigger'].values)*1e6\n",
    "    ax.hist(trigs, bins=bins, alpha=0.5, label='%.2f'%uDF.loc[vid, 'IR'])\n",
    "    \n",
    "#format\n",
    "plt.axhline(0, color='k', alpha=0.5)\n",
    "lgd = ax.legend(loc=0, fontsize=10, title='IR')\n",
    "ax.set_ylabel(\"Triggers / 500 ns\");\n",
    "ax.set_xlabel(r\"Time ($\\mu$s)\");\n",
    "#ax.set_ylim(0,2000)\n",
    "plt.title(rid);\n",
    "ax.grid(True)\n",
    "\n",
    "#save data\n",
    "plt.tight_layout();\n",
    "fileout = os.path.join(out_dire, \"_\".join(NAMES) + '_triggers.png')\n",
    "#plt.savefig(fileout, dpi=150)\n",
    "plt.show()"
   ]
  },
  {
   "cell_type": "code",
   "execution_count": 10,
   "metadata": {
    "collapsed": false
   },
   "outputs": [],
   "source": [
    "hits = []\n",
    "for vid in uDF.index:\n",
    "    data = allDF[((allDF[uDF.columns] == uDF.loc[vid]).all(1))]\n",
    "    acq_on = logDF.loc[np.unique(data.squid.values), 'ACQUIRE'].sum()\n",
    "    # cut triggers\n",
    "    #data = data[(data['amp'] < max_amp) & (data['width'] < max_width) & (data['trigger'] > min_t)]\n",
    "    data = data[(data['trigger'] > min_t)]\n",
    "    trigs = (data['trigger'].values)*1e6\n",
    "    ntrigs = len(trigs)\n",
    "    hit_rate = ntrigs/ acq_on\n",
    "    hits.append(hit_rate)"
   ]
  },
  {
   "cell_type": "code",
   "execution_count": 13,
   "metadata": {
    "collapsed": false
   },
   "outputs": [],
   "source": [
    "fileout = os.path.join(out_dire, \"vid_HR.tsv\")\n",
    "np.savetxt(fileout, hits)"
   ]
  },
  {
   "cell_type": "code",
   "execution_count": 11,
   "metadata": {
    "collapsed": false
   },
   "outputs": [
    {
     "data": {
      "image/png": "[encoded data removed]",
      "text/plain": [
       "<matplotlib.figure.Figure at 0xc37ad68>"
      ]
     },
     "metadata": {},
     "output_type": "display_data"
    }
   ],
   "source": [
    "X = 'IR'\n",
    "#plot setup\n",
    "fig, ax = plt.subplots()\n",
    "\n",
    "#plot\n",
    "x = f2.rad_cal(uDF[X])\n",
    "y = hits\n",
    "ax.plot(x, y, 'k')\n",
    "ax.set_xlim(x.min(), x.max())\n",
    "ax, ax_top, ticks = f2.ryd_ticks(ax, color = oskar.colors[1], unit='nm',\n",
    "                          labels=[10, 11, 12, 13, 14, 15, \n",
    "                                  16, 17, 19, 21, 23,\n",
    "                                  100])\n",
    "ax_top.grid(ls='-', which = 'both', alpha=0.4, color=oskar.colors[1], lw=2)\n",
    "ax_top.set_xlim(ax.get_xlim())\n",
    "#labels\n",
    "ax.set_ylabel(\"Total hit rate (Hz)\")\n",
    "ax.set_xlabel(\"$\\lambda$ (nm)\")\n",
    "plt.title(rid, y=1.08)\n",
    "\n",
    "\n",
    "#save data\n",
    "plt.tight_layout()\n",
    "fileout = os.path.join(out_dire, \"long_n_HR.png\")\n",
    "plt.savefig(fileout, dpi=300, bbox_inches='tight')\n",
    "plt.show()"
   ]
  },
  {
   "cell_type": "code",
   "execution_count": null,
   "metadata": {
    "collapsed": true
   },
   "outputs": [],
   "source": [
    "\n"
   ]
  }
 ],
 "metadata": {
  "kernelspec": {
   "display_name": "Python 2",
   "language": "python",
   "name": "python2"
  },
  "language_info": {
   "codemirror_mode": {
    "name": "ipython",
    "version": 2
   },
   "file_extension": ".py",
   "mimetype": "text/x-python",
   "name": "python",
   "nbconvert_exporter": "python",
   "pygments_lexer": "ipython2",
   "version": "2.7.11"
  }
 },
 "nbformat": 4,
 "nbformat_minor": 0
}
