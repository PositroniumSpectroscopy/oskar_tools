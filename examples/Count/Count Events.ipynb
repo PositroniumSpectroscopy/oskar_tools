{
 "cells": [
  {
   "cell_type": "markdown",
   "metadata": {},
   "source": [
    "# Counting Events in HDF5 data\n",
    "<span style=\"color:red\">IMPORTANT</span> - This notebook reads HDF5 files. Always PAUSE Sequencer.vi to run analysis for current sequence (HDF5 r/w conflict)!"
   ]
  },
  {
   "cell_type": "code",
   "execution_count": 1,
   "metadata": {
    "collapsed": false
   },
   "outputs": [],
   "source": [
    "#import python packages\n",
    "import os\n",
    "import numpy as np\n",
    "import pandas as pd\n",
    "import matplotlib.pyplot as plt\n",
    "%matplotlib inline\n",
    "from matplotlib.ticker import MultipleLocator\n",
    "import oskar"
   ]
  },
  {
   "cell_type": "markdown",
   "metadata": {},
   "source": [
    "## Import Data"
   ]
  },
  {
   "cell_type": "code",
   "execution_count": 2,
   "metadata": {
    "collapsed": false
   },
   "outputs": [],
   "source": [
    "rid = '20160311_191136'\n",
    "h5 = oskar.h5_data(rid)         # data\n",
    "out_dire = h5.out_dire(\"Count\") # output"
   ]
  },
  {
   "cell_type": "code",
   "execution_count": 3,
   "metadata": {
    "collapsed": false
   },
   "outputs": [
    {
     "data": {
      "text/plain": [
       "{u'Manufacturer': 'Agilent',\n",
       " u'Model': 'DSO6104A,MY51510237,06.17.0001\\n',\n",
       " u'dt': 1e-08,\n",
       " u'input impedance': '50 ohms',\n",
       " u'name': 'Channel 2',\n",
       " u'probe attenuation': 1.0,\n",
       " u't0': -9.999999999999701e-07,\n",
       " u'vertical coupling': 'DC',\n",
       " u'vertical offset': -0.02,\n",
       " u'vertical range': 0.070000000000000007}"
      ]
     },
     "execution_count": 3,
     "metadata": {},
     "output_type": "execute_result"
    }
   ],
   "source": [
    "# data\n",
    "ftype = 'CH_A1'\n",
    "squid = 4\n",
    "trace, info = h5.load_array(squid, ftype)\n",
    "info"
   ]
  },
  {
   "cell_type": "markdown",
   "metadata": {},
   "source": [
    "## Trigger Settings"
   ]
  },
  {
   "cell_type": "code",
   "execution_count": 4,
   "metadata": {
    "collapsed": false
   },
   "outputs": [],
   "source": [
    "min_level = 0.001      # minimum threshold (V)\n",
    "min_width = 1E-7        # minimum pulse width (s)\n",
    "dt = info['dt'] \n",
    "min_x = min_width / dt  # width in number of data points"
   ]
  },
  {
   "cell_type": "code",
   "execution_count": 5,
   "metadata": {
    "collapsed": false
   },
   "outputs": [
    {
     "name": "stdout",
     "output_type": "stream",
     "text": [
      "trigger : [2.2199999999999999e-06]\n",
      "width : [2.1e-07]\n",
      "amp : [-0.0047984347]\n"
     ]
    },
    {
     "data": {
      "image/png": "[encoded data removed]",
      "text/plain": [
       "<matplotlib.figure.Figure at 0x969f128>"
      ]
     },
     "metadata": {},
     "output_type": "display_data"
    }
   ],
   "source": [
    "rep = 1\n",
    "ydata = trace[rep]\n",
    "xdata = np.arange(len(ydata)) * info['dt'] / 1e-6\n",
    "\n",
    "#plot\n",
    "fig, ax = plt.subplots()\n",
    "ax.plot(xdata, ydata, 'k')\n",
    "# find where trace exceeds threshold\n",
    "threshold = -ydata > min_level\n",
    "ax.plot(xdata, np.int_(threshold)*min_level, '-r')\n",
    "# first and last element must be False\n",
    "threshold[0] = False\n",
    "threshold[-1] = False\n",
    "# find where True goes to False (pulse start/ stop)\n",
    "rngs = np.where(np.diff(threshold))[0].reshape(-1, 2)\n",
    "# find the pulses wider than the min_width\n",
    "pulse = rngs[rngs[:,1]-rngs[:,0] > min_x]\n",
    "#leading edge, width, and max value (assume negative)\n",
    "trigger = pulse[:,0]\n",
    "print \"trigger : \" + str(list(trigger * dt))\n",
    "width = (pulse[:,1] - pulse[:,0]) * dt\n",
    "print \"width : \" + str(list(width))\n",
    "amp = [np.min(ydata[p[0]:p[1]]) for p in pulse]\n",
    "print \"amp : \" + str(amp)\n",
    "for trig in trigger:\n",
    "    ax.axvline(x=xdata[trig])\n",
    "    \n",
    "#format\n",
    "ax.set_ylabel( ftype + \" (V)\");\n",
    "ax.set_xlabel(r\"Time ($\\mu$s)\");\n",
    "plt.title(rid + ' [' + str(rep) + ']');\n",
    "plt.axhline(0, color='k', alpha=0.5)\n",
    "plt.axvline(0, color='k', alpha=0.5)\n",
    "ax.grid(True)\n",
    "\n",
    "#save data\n",
    "plt.tight_layout();\n",
    "fileout = os.path.join(out_dire, ftype + \"_\" + str(squid) + \"(\" + str(rep) +\").png\")\n",
    "plt.savefig(fileout, dpi=300)\n",
    "plt.show()"
   ]
  },
  {
   "cell_type": "code",
   "execution_count": 6,
   "metadata": {
    "collapsed": true
   },
   "outputs": [],
   "source": [
    "# test against count.py\n",
    "from oskar.count import find_triggers_1D"
   ]
  },
  {
   "cell_type": "code",
   "execution_count": 7,
   "metadata": {
    "collapsed": false
   },
   "outputs": [
    {
     "data": {
      "text/html": [
       "<div>\n",
       "<table border=\"1\" class=\"dataframe\">\n",
       "  <thead>\n",
       "    <tr style=\"text-align: right;\">\n",
       "      <th></th>\n",
       "      <th>trigger</th>\n",
       "      <th>width</th>\n",
       "      <th>amp</th>\n",
       "    </tr>\n",
       "  </thead>\n",
       "  <tbody>\n",
       "    <tr>\n",
       "      <th>0</th>\n",
       "      <td>0.000002</td>\n",
       "      <td>2.100000e-07</td>\n",
       "      <td>0.004798</td>\n",
       "    </tr>\n",
       "  </tbody>\n",
       "</table>\n",
       "</div>"
      ],
      "text/plain": [
       "    trigger         width       amp\n",
       "0  0.000002  2.100000e-07  0.004798"
      ]
     },
     "execution_count": 7,
     "metadata": {},
     "output_type": "execute_result"
    }
   ],
   "source": [
    "events = pd.DataFrame(find_triggers_1D(-ydata, dt, min_x, min_level))\n",
    "events.head()"
   ]
  },
  {
   "cell_type": "code",
   "execution_count": null,
   "metadata": {
    "collapsed": true
   },
   "outputs": [],
   "source": []
  }
 ],
 "metadata": {
  "kernelspec": {
   "display_name": "Python 2",
   "language": "python",
   "name": "python2"
  },
  "language_info": {
   "codemirror_mode": {
    "name": "ipython",
    "version": 2
   },
   "file_extension": ".py",
   "mimetype": "text/x-python",
   "name": "python",
   "nbconvert_exporter": "python",
   "pygments_lexer": "ipython2",
   "version": "2.7.11"
  }
 },
 "nbformat": 4,
 "nbformat_minor": 0
}
