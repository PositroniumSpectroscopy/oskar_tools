{
 "cells": [
  {
   "cell_type": "markdown",
   "metadata": {},
   "source": [
    "# Compare background subtracted SSPALS traces (looped data)"
   ]
  },
  {
   "cell_type": "markdown",
   "metadata": {},
   "source": [
    "<span style=\"color:red\">IMPORTANT</span> - This notebook reads HDF5 files. Always PAUSE Sequencer.vi to run analysis for current sequence (HDF5 r/w conflict)!"
   ]
  },
  {
   "cell_type": "code",
   "execution_count": 1,
   "metadata": {
    "collapsed": false
   },
   "outputs": [],
   "source": [
    "#import python packages\n",
    "import os\n",
    "import numpy as np\n",
    "import pandas as pd\n",
    "from tqdm import tqdm\n",
    "import matplotlib.pyplot as plt\n",
    "from matplotlib.ticker import MultipleLocator\n",
    "%matplotlib inline\n",
    "import sspals\n",
    "import oskar"
   ]
  },
  {
   "cell_type": "markdown",
   "metadata": {},
   "source": [
    "### Import"
   ]
  },
  {
   "cell_type": "code",
   "execution_count": 2,
   "metadata": {
    "collapsed": false
   },
   "outputs": [
    {
     "name": "stdout",
     "output_type": "stream",
     "text": [
      "20160108_190922\n",
      "   Author:\t AD\n",
      "   Description:  IR n = 18  Delay scan & TOF\n",
      "\t\t UV 680 uJ with waveplate.\n",
      "\t\t IR  2.5 mJ no waveplate\n",
      "\t\t Target 2.0 kV, Grid electrode (no grid) 2.0 kV.\n"
     ]
    }
   ],
   "source": [
    "rid = '20160108_190922'\n",
    "h5 = oskar.h5_data(rid)             # data\n",
    "h5.load_log()\n",
    "vDF = h5.vDF()\n",
    "uDF = h5.uDF()\n",
    "out_dire = h5.out_dire(\"Traces\")    # output\n",
    "h5.pprint()"
   ]
  },
  {
   "cell_type": "code",
   "execution_count": 3,
   "metadata": {
    "collapsed": false
   },
   "outputs": [
    {
     "data": {
      "text/html": [
       "<div>\n",
       "<table border=\"1\" class=\"dataframe\">\n",
       "  <thead>\n",
       "    <tr style=\"text-align: right;\">\n",
       "      <th></th>\n",
       "      <th>DLY_EA</th>\n",
       "      <th>IR</th>\n",
       "      <th>VOL_u100</th>\n",
       "      <th>VOL_u101</th>\n",
       "    </tr>\n",
       "    <tr>\n",
       "      <th>VID</th>\n",
       "      <th></th>\n",
       "      <th></th>\n",
       "      <th></th>\n",
       "      <th></th>\n",
       "    </tr>\n",
       "  </thead>\n",
       "  <tbody>\n",
       "    <tr>\n",
       "      <th>1</th>\n",
       "      <td>5.600000e-07</td>\n",
       "      <td>737.353421</td>\n",
       "      <td>2000</td>\n",
       "      <td>2000</td>\n",
       "    </tr>\n",
       "    <tr>\n",
       "      <th>2</th>\n",
       "      <td>5.850000e-07</td>\n",
       "      <td>737.353421</td>\n",
       "      <td>2000</td>\n",
       "      <td>2000</td>\n",
       "    </tr>\n",
       "    <tr>\n",
       "      <th>3</th>\n",
       "      <td>5.950000e-07</td>\n",
       "      <td>737.353421</td>\n",
       "      <td>2000</td>\n",
       "      <td>2000</td>\n",
       "    </tr>\n",
       "    <tr>\n",
       "      <th>4</th>\n",
       "      <td>6.050000e-07</td>\n",
       "      <td>737.353421</td>\n",
       "      <td>2000</td>\n",
       "      <td>2000</td>\n",
       "    </tr>\n",
       "  </tbody>\n",
       "</table>\n",
       "</div>"
      ],
      "text/plain": [
       "           DLY_EA          IR  VOL_u100  VOL_u101\n",
       "VID                                              \n",
       "1    5.600000e-07  737.353421      2000      2000\n",
       "2    5.850000e-07  737.353421      2000      2000\n",
       "3    5.950000e-07  737.353421      2000      2000\n",
       "4    6.050000e-07  737.353421      2000      2000"
      ]
     },
     "execution_count": 3,
     "metadata": {},
     "output_type": "execute_result"
    }
   ],
   "source": [
    "uDF.head()"
   ]
  },
  {
   "cell_type": "code",
   "execution_count": 4,
   "metadata": {
    "collapsed": false,
    "scrolled": true
   },
   "outputs": [
    {
     "name": "stderr",
     "output_type": "stream",
     "text": []
    }
   ],
   "source": [
    "VIDS = np.array([1, 2, 3, 4]) # data\n",
    "# params\n",
    "lims = [-1e-8, 2.5e-7, 6.5e-7]\n",
    "dtype=[('t0','float'),('AC','float'),('BC','float'),('DF','float')]\n",
    "# get data\n",
    "DF = pd.DataFrame(np.array([],dtype=dtype))\n",
    "data = dict()\n",
    "max_num = 10           # use -1 for all squids\n",
    "for vid in tqdm(VIDS):\n",
    "    squids = vDF[(vDF == uDF.loc[vid]).all(1)].index.values[:max_num]\n",
    "    hi, osc_hi = h5.load_array(squids, 'CH_L0', ignore_missing=True)\n",
    "    low, osc_low = h5.load_array(squids, 'CH_L1', ignore_missing=True)\n",
    "    dt = osc_hi['dt']\n",
    "    chmx = sspals.chmx(hi, low, invert=True, n_bsub=100,\n",
    "                       validate=True, min_range=0.1)\n",
    "    # sspals\n",
    "    DF = sspals.sspals(chmx, dt, lims=lims)\n",
    "    x = (np.arange(np.shape(chmx)[1])*dt) - DF.t0.mean()\n",
    "    data[vid] = {'x':x, 'y':chmx, 'DF':DF}"
   ]
  },
  {
   "cell_type": "code",
   "execution_count": 11,
   "metadata": {
    "collapsed": false
   },
   "outputs": [
    {
     "data": {
      "text/html": [
       "<div>\n",
       "<table border=\"1\" class=\"dataframe\">\n",
       "  <thead>\n",
       "    <tr style=\"text-align: right;\">\n",
       "      <th></th>\n",
       "      <th>t0</th>\n",
       "      <th>AC</th>\n",
       "      <th>BC</th>\n",
       "      <th>DF</th>\n",
       "    </tr>\n",
       "  </thead>\n",
       "  <tbody>\n",
       "    <tr>\n",
       "      <th>0</th>\n",
       "      <td>1.804647e-07</td>\n",
       "      <td>5.730775e-09</td>\n",
       "      <td>3.582991e-10</td>\n",
       "      <td>0.062522</td>\n",
       "    </tr>\n",
       "    <tr>\n",
       "      <th>1</th>\n",
       "      <td>1.801624e-07</td>\n",
       "      <td>5.710317e-09</td>\n",
       "      <td>3.000718e-10</td>\n",
       "      <td>0.052549</td>\n",
       "    </tr>\n",
       "    <tr>\n",
       "      <th>2</th>\n",
       "      <td>1.809384e-07</td>\n",
       "      <td>5.584750e-09</td>\n",
       "      <td>3.595107e-10</td>\n",
       "      <td>0.064374</td>\n",
       "    </tr>\n",
       "    <tr>\n",
       "      <th>3</th>\n",
       "      <td>1.809808e-07</td>\n",
       "      <td>5.975537e-09</td>\n",
       "      <td>3.487369e-10</td>\n",
       "      <td>0.058361</td>\n",
       "    </tr>\n",
       "    <tr>\n",
       "      <th>4</th>\n",
       "      <td>1.802827e-07</td>\n",
       "      <td>6.047573e-09</td>\n",
       "      <td>3.751191e-10</td>\n",
       "      <td>0.062028</td>\n",
       "    </tr>\n",
       "  </tbody>\n",
       "</table>\n",
       "</div>"
      ],
      "text/plain": [
       "             t0            AC            BC        DF\n",
       "0  1.804647e-07  5.730775e-09  3.582991e-10  0.062522\n",
       "1  1.801624e-07  5.710317e-09  3.000718e-10  0.052549\n",
       "2  1.809384e-07  5.584750e-09  3.595107e-10  0.064374\n",
       "3  1.809808e-07  5.975537e-09  3.487369e-10  0.058361\n",
       "4  1.802827e-07  6.047573e-09  3.751191e-10  0.062028"
      ]
     },
     "execution_count": 11,
     "metadata": {},
     "output_type": "execute_result"
    }
   ],
   "source": [
    "DF.head()"
   ]
  },
  {
   "cell_type": "code",
   "execution_count": 5,
   "metadata": {
    "collapsed": true
   },
   "outputs": [],
   "source": [
    "pvids = [2, 3, 4]  # plot these vids\n",
    "bvids = [1, 1, 1]   # with these backgrounds"
   ]
  },
  {
   "cell_type": "code",
   "execution_count": 6,
   "metadata": {
    "collapsed": false
   },
   "outputs": [
    {
     "data": {
      "image/png": "[encoded data removed]",
      "text/plain": [
       "<matplotlib.figure.Figure at 0x9fcbd30>"
      ]
     },
     "metadata": {},
     "output_type": "display_data"
    }
   ],
   "source": [
    "from mpl_toolkits.axes_grid1 import make_axes_locatable\n",
    "from matplotlib.ticker import MaxNLocator\n",
    "\n",
    "# plot setup\n",
    "fig, ax = plt.subplots(figsize=(6,5))\n",
    "\n",
    "# background subtraction subplot\n",
    "divider = make_axes_locatable(ax)\n",
    "axx = divider.append_axes(\"bottom\", size=1.5, pad=0.18, sharex=ax)\n",
    "\n",
    "# plot traces\n",
    "for i, vid in enumerate(pvids):\n",
    "    bvid = bvids[i]\n",
    "    x = 1e9 * data[vid]['x']\n",
    "    norm = np.divide(data[vid]['y'].T, 1e9 * data[vid]['DF'].AC.values).T\n",
    "    y1 = np.mean(norm, 0)\n",
    "    bnorm = np.divide(data[bvid]['y'].T, 1e9 * data[bvid]['DF'].AC.values).T\n",
    "    b1 = np.mean(bnorm, 0)\n",
    "    reps = len(data[vid]['DF'].index)\n",
    "    breps = len(data[bvid]['DF'].index)\n",
    "    sig = sspals.signal(data[vid]['DF'].DF.mean(), data[vid]['DF'].DF.std() / np.sqrt(reps),\n",
    "              data[bvid]['DF'].DF.mean(), data[bvid]['DF'].DF.std() / np.sqrt(breps))\n",
    "    ax.plot(x, y1, c=oskar.colors[i], lw=1.5, label='%d ns'%(uDF.loc[vid, 'DLY_EA'] * 1e9 - 580) )\n",
    "    #ax.plot(x, b1, c='k', alpha=0.2)\n",
    "    axx.plot(x, (y1 - b1), c=oskar.colors[i], lw=1.5)\n",
    "    #axx.plot(x, 4*(y1 - b1), c=oskar.colors[i], alpha=0.3)\n",
    "    \n",
    "ax.set_ylim(1e-5, 1e-1)\n",
    "ax.set_yscale('log')\n",
    "axx.set_ylim(-0.00025, 0.00025)\n",
    "#axx.set_yticks([-0.01, 0, 0.01])\n",
    "plt.locator_params(nbins=4, axis='y')\n",
    "\n",
    "#format\n",
    "ax.set_xlim(-20, 700)\n",
    "ax.set_ylabel(\"Signal (arb.)\");\n",
    "lgd = ax.legend(loc=1, fontsize=14, frameon=False)\n",
    "plt.setp(ax.get_xticklabels(), visible=False)\n",
    "axx.set_xlabel(r\"Time (ns)\");\n",
    "plt.axhline(0, color='k', alpha=0.5)\n",
    "for lim in lims:\n",
    "    plt.axvline(lim * 1e9, ls='--', c='k', alpha=0.5)\n",
    "\n",
    "#save data\n",
    "plt.tight_layout();\n",
    "fileout = os.path.join(out_dire, \"bsub_sspals.pdf\")\n",
    "plt.savefig(fileout, dpi=600, bbox_inches='tight')\n",
    "plt.show()"
   ]
  },
  {
   "cell_type": "markdown",
   "metadata": {},
   "source": [
    "# Optimise"
   ]
  },
  {
   "cell_type": "code",
   "execution_count": 7,
   "metadata": {
    "collapsed": false
   },
   "outputs": [
    {
     "name": "stderr",
     "output_type": "stream",
     "text": []
    }
   ],
   "source": [
    "results = []\n",
    "bk_vid = 1\n",
    "vid = 2\n",
    "for B in tqdm((np.arange(-5, 650, 10)*1e-9)):\n",
    "    bfrac = sspals.sspals(data[bk_vid]['y'], dt, lims=[-10e-9, B, 650e-9]).DF\n",
    "    bf_mean = bfrac.mean()\n",
    "    bf_sem= bfrac.std() / np.sqrt(len(bfrac))\n",
    "    # vid 2\n",
    "    dfrac0 = sspals.sspals(data[vid]['y'], dt, lims=[-10e-9, B, 650e-9]).DF\n",
    "    df0_mean = dfrac0.mean()\n",
    "    df0_sem = dfrac0.std() / np.sqrt(len(dfrac0))\n",
    "    sig0 = sspals.signal(df0_mean, df0_sem, bf_mean, bf_sem)\n",
    "    results.append([B, sig0[0], sig0[1]])\n",
    "arr = np.array(results)"
   ]
  },
  {
   "cell_type": "code",
   "execution_count": 9,
   "metadata": {
    "collapsed": false
   },
   "outputs": [
    {
     "data": {
      "image/png": "[encoded data removed]",
      "text/plain": [
       "<matplotlib.figure.Figure at 0x10461710>"
      ]
     },
     "metadata": {},
     "output_type": "display_data"
    }
   ],
   "source": [
    "fig, ax = plt.subplots(2, 1, figsize=(6, 7))\n",
    "ax[0].errorbar(arr[:,0]*1e9, arr[:,1], arr[:,2], fmt='o', c=oskar.colors[0])\n",
    "ax[1].plot(arr[:,0]*1e9, arr[:,1]/ arr[:,2], lw=1.5, c=oskar.colors[0])\n",
    "\n",
    "ax[0].set_xlabel(\"$B$ (ns)\");\n",
    "ax[0].set_ylabel(\"$S_\\gamma$ (%)\");\n",
    "ax[1].set_xlabel(\"$B$ (ns)\");\n",
    "ax[1].set_ylabel(\"$S_\\gamma / \\Delta S_\\gamma$\");\n",
    "\n",
    "ax[0].axhline(0, c='k', alpha=0.5)\n",
    "ax[1].axhline(0, c='k', alpha=0.5)\n",
    "\n",
    "#save data\n",
    "plt.tight_layout();\n",
    "fileout = os.path.join(out_dire, \"optimise_B.pdf\")\n",
    "plt.savefig(fileout, dpi=600, bbox_inches='tight')\n",
    "plt.show()"
   ]
  },
  {
   "cell_type": "code",
   "execution_count": null,
   "metadata": {
    "collapsed": true
   },
   "outputs": [],
   "source": []
  }
 ],
 "metadata": {
  "kernelspec": {
   "display_name": "Python 2",
   "language": "python",
   "name": "python2"
  },
  "language_info": {
   "codemirror_mode": {
    "name": "ipython",
    "version": 2
   },
   "file_extension": ".py",
   "mimetype": "text/x-python",
   "name": "python",
   "nbconvert_exporter": "python",
   "pygments_lexer": "ipython2",
   "version": "2.7.11"
  }
 },
 "nbformat": 4,
 "nbformat_minor": 0
}
