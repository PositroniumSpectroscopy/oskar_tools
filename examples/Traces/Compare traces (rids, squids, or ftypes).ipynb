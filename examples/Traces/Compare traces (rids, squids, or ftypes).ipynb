{
 "cells": [
  {
   "cell_type": "markdown",
   "metadata": {},
   "source": [
    "# Plot average hdf5 traces from multiple sources"
   ]
  },
  {
   "cell_type": "markdown",
   "metadata": {},
   "source": [
    "<span style=\"color:red\">IMPORTANT</span> - This notebook reads HDF5 files. Always PAUSE Sequencer.vi to run analysis for current sequence (HDF5 r/w conflict)!"
   ]
  },
  {
   "cell_type": "markdown",
   "metadata": {},
   "source": [
    "### Configure IPython"
   ]
  },
  {
   "cell_type": "code",
   "execution_count": 11,
   "metadata": {
    "collapsed": false
   },
   "outputs": [],
   "source": [
    "#import python packages\n",
    "import os\n",
    "import numpy as np\n",
    "import matplotlib.pyplot as plt\n",
    "%matplotlib inline\n",
    "from matplotlib.ticker import MultipleLocator\n",
    "import oskar"
   ]
  },
  {
   "cell_type": "markdown",
   "metadata": {},
   "source": [
    "## Import data"
   ]
  },
  {
   "cell_type": "markdown",
   "metadata": {},
   "source": [
    "### dataset #0"
   ]
  },
  {
   "cell_type": "code",
   "execution_count": 2,
   "metadata": {
    "collapsed": false
   },
   "outputs": [
    {
     "name": "stdout",
     "output_type": "stream",
     "text": [
      "20160429_113914\n",
      "   Author:\t AA\n",
      "   Description:  n = 10 low res lineshape\n"
     ]
    }
   ],
   "source": [
    "rid_0 = '20160429_113914'\n",
    "h5_0 = oskar.H5Data(rid_0)              # dataset #0\n",
    "h5_0.load_log()\n",
    "vDF_0 = h5_0.var_df()\n",
    "out_dire = h5_0.out_dire(\"Traces\")    # output\n",
    "h5_0.pprint()"
   ]
  },
  {
   "cell_type": "code",
   "execution_count": 3,
   "metadata": {
    "collapsed": false
   },
   "outputs": [
    {
     "data": {
      "text/html": [
       "<div>\n",
       "<table border=\"1\" class=\"dataframe\">\n",
       "  <thead>\n",
       "    <tr style=\"text-align: right;\">\n",
       "      <th></th>\n",
       "      <th>DLY_EA</th>\n",
       "      <th>IR</th>\n",
       "      <th>VOL_u101</th>\n",
       "      <th>VOL_u104</th>\n",
       "      <th>WAV</th>\n",
       "    </tr>\n",
       "    <tr>\n",
       "      <th>SQUID</th>\n",
       "      <th></th>\n",
       "      <th></th>\n",
       "      <th></th>\n",
       "      <th></th>\n",
       "      <th></th>\n",
       "    </tr>\n",
       "  </thead>\n",
       "  <tbody>\n",
       "    <tr>\n",
       "      <th>2</th>\n",
       "      <td>6.350000e-07</td>\n",
       "      <td>758.9336</td>\n",
       "      <td>2200</td>\n",
       "      <td>2200</td>\n",
       "      <td>243.2</td>\n",
       "    </tr>\n",
       "    <tr>\n",
       "      <th>46</th>\n",
       "      <td>6.350000e-07</td>\n",
       "      <td>758.9336</td>\n",
       "      <td>2200</td>\n",
       "      <td>2200</td>\n",
       "      <td>243.2</td>\n",
       "    </tr>\n",
       "    <tr>\n",
       "      <th>67</th>\n",
       "      <td>6.350000e-07</td>\n",
       "      <td>758.9336</td>\n",
       "      <td>2200</td>\n",
       "      <td>2200</td>\n",
       "      <td>243.2</td>\n",
       "    </tr>\n",
       "  </tbody>\n",
       "</table>\n",
       "</div>"
      ],
      "text/plain": [
       "             DLY_EA        IR  VOL_u101  VOL_u104    WAV\n",
       "SQUID                                                   \n",
       "2      6.350000e-07  758.9336      2200      2200  243.2\n",
       "46     6.350000e-07  758.9336      2200      2200  243.2\n",
       "67     6.350000e-07  758.9336      2200      2200  243.2"
      ]
     },
     "execution_count": 3,
     "metadata": {},
     "output_type": "execute_result"
    }
   ],
   "source": [
    "vDF_0[vDF_0.IR == 758.9336]"
   ]
  },
  {
   "cell_type": "code",
   "execution_count": 4,
   "metadata": {
    "collapsed": false
   },
   "outputs": [
    {
     "name": "stdout",
     "output_type": "stream",
     "text": [
      "(179L, 2858L)\n",
      "{u'Manufacturer': 'Agilent',\n",
      " u'Model': 'DSO6104A,MY51510237,06.17.0001\\n',\n",
      " u'dt': 3.5000000000000003e-09,\n",
      " u'input impedance': '50 ohms',\n",
      " u'name': 'Channel 1',\n",
      " u'probe attenuation': 1.0,\n",
      " u't0': 2.9999999999995308e-07,\n",
      " u'vertical coupling': 'DC',\n",
      " u'vertical offset': -0.035000000000000003,\n",
      " u'vertical range': 0.080000000000000002}\n"
     ]
    }
   ],
   "source": [
    "# data\n",
    "ftype_0 = 'CH_A0'\n",
    "squids_0 = [2, 46, 67]\n",
    "trace_0, info_0 = h5_0.load_array(squids_0, ftype_0)\n",
    "print(np.shape(trace_0))\n",
    "pprint.pprint(info_0)"
   ]
  },
  {
   "cell_type": "markdown",
   "metadata": {},
   "source": [
    "### dataset #1"
   ]
  },
  {
   "cell_type": "code",
   "execution_count": 5,
   "metadata": {
    "collapsed": false
   },
   "outputs": [
    {
     "name": "stdout",
     "output_type": "stream",
     "text": [
      "20160429_113914\n",
      "   Author:\t AA\n",
      "   Description:  n = 10 low res lineshape\n"
     ]
    }
   ],
   "source": [
    "rid_1 = '20160429_113914'\n",
    "h5_1 = oskar.H5Data(rid_1)              # dataset #1\n",
    "h5_1.load_log()\n",
    "vDF_1 = h5_1.var_df()\n",
    "h5_1.pprint()"
   ]
  },
  {
   "cell_type": "code",
   "execution_count": 6,
   "metadata": {
    "collapsed": false
   },
   "outputs": [
    {
     "data": {
      "text/html": [
       "<div>\n",
       "<table border=\"1\" class=\"dataframe\">\n",
       "  <thead>\n",
       "    <tr style=\"text-align: right;\">\n",
       "      <th></th>\n",
       "      <th>DLY_EA</th>\n",
       "      <th>IR</th>\n",
       "      <th>VOL_u101</th>\n",
       "      <th>VOL_u104</th>\n",
       "      <th>WAV</th>\n",
       "    </tr>\n",
       "    <tr>\n",
       "      <th>SQUID</th>\n",
       "      <th></th>\n",
       "      <th></th>\n",
       "      <th></th>\n",
       "      <th></th>\n",
       "      <th></th>\n",
       "    </tr>\n",
       "  </thead>\n",
       "  <tbody>\n",
       "    <tr>\n",
       "      <th>17</th>\n",
       "      <td>6.350000e-07</td>\n",
       "      <td>759.1086</td>\n",
       "      <td>2200</td>\n",
       "      <td>2200</td>\n",
       "      <td>243.2</td>\n",
       "    </tr>\n",
       "    <tr>\n",
       "      <th>51</th>\n",
       "      <td>6.350000e-07</td>\n",
       "      <td>759.1086</td>\n",
       "      <td>2200</td>\n",
       "      <td>2200</td>\n",
       "      <td>243.2</td>\n",
       "    </tr>\n",
       "  </tbody>\n",
       "</table>\n",
       "</div>"
      ],
      "text/plain": [
       "             DLY_EA        IR  VOL_u101  VOL_u104    WAV\n",
       "SQUID                                                   \n",
       "17     6.350000e-07  759.1086      2200      2200  243.2\n",
       "51     6.350000e-07  759.1086      2200      2200  243.2"
      ]
     },
     "execution_count": 6,
     "metadata": {},
     "output_type": "execute_result"
    }
   ],
   "source": [
    "vDF_0[vDF_0.IR == 759.1086]"
   ]
  },
  {
   "cell_type": "code",
   "execution_count": 7,
   "metadata": {
    "collapsed": false
   },
   "outputs": [
    {
     "name": "stdout",
     "output_type": "stream",
     "text": [
      "(116L, 2858L)\n",
      "{u'Manufacturer': 'Agilent',\n",
      " u'Model': 'DSO6104A,MY51510237,06.17.0001\\n',\n",
      " u'dt': 3.5000000000000003e-09,\n",
      " u'input impedance': '50 ohms',\n",
      " u'name': 'Channel 1',\n",
      " u'probe attenuation': 1.0,\n",
      " u't0': 2.9999999999995308e-07,\n",
      " u'vertical coupling': 'DC',\n",
      " u'vertical offset': -0.035000000000000003,\n",
      " u'vertical range': 0.080000000000000002}\n"
     ]
    }
   ],
   "source": [
    "# data\n",
    "ftype_1 = 'CH_A0'\n",
    "squids_1 = [17, 51]\n",
    "trace_1, info_1 = h5_1.load_array(squids_1, ftype_1)\n",
    "print(np.shape(trace_1))\n",
    "pprint.pprint(info_1)"
   ]
  },
  {
   "cell_type": "markdown",
   "metadata": {},
   "source": [
    "## Average traces"
   ]
  },
  {
   "cell_type": "code",
   "execution_count": 8,
   "metadata": {
    "collapsed": false
   },
   "outputs": [],
   "source": [
    "# get x-axis values\n",
    "scale = 1E-9 #convert to nano seconds\n",
    "points_0 = len(trace_0[0])\n",
    "x_vals_0 = (np.arange(points_0)*info_0['dt'])/scale\n",
    "points_1 = len(trace_1[0])\n",
    "x_vals_1 = (np.arange(points_1)*info_1['dt'])/scale"
   ]
  },
  {
   "cell_type": "code",
   "execution_count": 9,
   "metadata": {
    "collapsed": false
   },
   "outputs": [
    {
     "data": {
      "image/png": "[encoded data removed]",
      "text/plain": [
       "<matplotlib.figure.Figure at 0x9c9eb38>"
      ]
     },
     "metadata": {},
     "output_type": "display_data"
    }
   ],
   "source": [
    "# plot setup\n",
    "fig, ax = plt.subplots(1, 1)\n",
    "#data\n",
    "y_vals_0 = np.mean(trace_0, axis=0)\n",
    "ax.plot(x_vals_0, y_vals_0, label='data 0', c=oskar.colors[0])\n",
    "\n",
    "y_vals_1 = np.mean(trace_1, axis=0)\n",
    "ax.plot(x_vals_1, y_vals_1, label='data 1', c=oskar.colors[1])\n",
    "\n",
    "# labels\n",
    "ax.set_title(rid_0)    \n",
    "ax.set_xlabel(r'Time ($\\mu$s)')  \n",
    "ax.set_ylabel('Signal (V)')    \n",
    "ax.legend(loc=0)\n",
    "\n",
    "#output\n",
    "plt.tight_layout()\n",
    "fileout = os.path.join(out_dire, ftype_0+\"_av.png\")\n",
    "plt.savefig(fileout, dpi=300)\n",
    "plt.show()"
   ]
  },
  {
   "cell_type": "markdown",
   "metadata": {
    "collapsed": true
   },
   "source": [
    "## Background subtraction\n",
    "\n",
    "If the x-scales are the same it's trivial to subtract one trace from the other."
   ]
  },
  {
   "cell_type": "code",
   "execution_count": 10,
   "metadata": {
    "collapsed": false
   },
   "outputs": [
    {
     "data": {
      "image/png": "[encoded data removed]",
      "text/plain": [
       "<matplotlib.figure.Figure at 0x9c9e5c0>"
      ]
     },
     "metadata": {},
     "output_type": "display_data"
    }
   ],
   "source": [
    "# plot setup\n",
    "fig, ax = plt.subplots(1, 1)\n",
    "#data\n",
    "ax.plot(x_vals_1, y_vals_0 - y_vals_1, label='backsub', c=oskar.colors[2])\n",
    "\n",
    "# labels\n",
    "ax.set_title(rid_0)    \n",
    "ax.set_xlabel(r'Time ($\\mu$s)')  \n",
    "ax.set_ylabel('Signal (V)')    \n",
    "ax.legend(loc=0)\n",
    "\n",
    "#output\n",
    "plt.tight_layout()\n",
    "fileout = os.path.join(out_dire, ftype_0+\"_bs.png\")\n",
    "plt.savefig(fileout, dpi=300)\n",
    "plt.show()"
   ]
  },
  {
   "cell_type": "code",
   "execution_count": null,
   "metadata": {
    "collapsed": true
   },
   "outputs": [],
   "source": []
  }
 ],
 "metadata": {
  "kernelspec": {
   "display_name": "Python 2",
   "language": "python",
   "name": "python2"
  },
  "language_info": {
   "codemirror_mode": {
    "name": "ipython",
    "version": 2
   },
   "file_extension": ".py",
   "mimetype": "text/x-python",
   "name": "python",
   "nbconvert_exporter": "python",
   "pygments_lexer": "ipython2",
   "version": "2.7.11"
  }
 },
 "nbformat": 4,
 "nbformat_minor": 0
}
