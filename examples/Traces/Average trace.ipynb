{
 "cells": [
  {
   "cell_type": "markdown",
   "metadata": {},
   "source": [
    "# Average hdf5 traces"
   ]
  },
  {
   "cell_type": "markdown",
   "metadata": {},
   "source": [
    "<span style=\"color:red\">IMPORTANT</span> - This notebook reads HDF5 files. Always PAUSE Sequencer.vi to run analysis for current sequence (HDF5 r/w conflict)!"
   ]
  },
  {
   "cell_type": "markdown",
   "metadata": {},
   "source": [
    "### Configure Ipython"
   ]
  },
  {
   "cell_type": "code",
   "execution_count": 1,
   "metadata": {
    "collapsed": false
   },
   "outputs": [],
   "source": [
    "#import python packages\n",
    "import os\n",
    "import numpy as np\n",
    "import matplotlib.pyplot as plt\n",
    "%matplotlib inline\n",
    "from matplotlib.ticker import MultipleLocator\n",
    "import oskar"
   ]
  },
  {
   "cell_type": "markdown",
   "metadata": {},
   "source": [
    "### Import"
   ]
  },
  {
   "cell_type": "code",
   "execution_count": 12,
   "metadata": {
    "collapsed": false
   },
   "outputs": [
    {
     "name": "stdout",
     "output_type": "stream",
     "text": [
      "20160429_113914\n",
      "   Author:\t AA\n",
      "   Description:  n = 10 low res lineshape\n"
     ]
    }
   ],
   "source": [
    "rid = '20160429_113914'\n",
    "h5 = oskar.H5Data(rid)              # data\n",
    "h5.load_log()\n",
    "vDF = h5.var_df()\n",
    "out_dire = h5.out_dire(\"Traces\")    # output\n",
    "h5.pprint()"
   ]
  },
  {
   "cell_type": "code",
   "execution_count": 14,
   "metadata": {
    "collapsed": false
   },
   "outputs": [
    {
     "data": {
      "text/html": [
       "<div>\n",
       "<table border=\"1\" class=\"dataframe\">\n",
       "  <thead>\n",
       "    <tr style=\"text-align: right;\">\n",
       "      <th></th>\n",
       "      <th>DLY_EA</th>\n",
       "      <th>IR</th>\n",
       "      <th>VOL_u101</th>\n",
       "      <th>VOL_u104</th>\n",
       "      <th>WAV</th>\n",
       "    </tr>\n",
       "    <tr>\n",
       "      <th>SQUID</th>\n",
       "      <th></th>\n",
       "      <th></th>\n",
       "      <th></th>\n",
       "      <th></th>\n",
       "      <th></th>\n",
       "    </tr>\n",
       "  </thead>\n",
       "  <tbody>\n",
       "    <tr>\n",
       "      <th>2</th>\n",
       "      <td>6.350000e-07</td>\n",
       "      <td>758.9336</td>\n",
       "      <td>2200</td>\n",
       "      <td>2200</td>\n",
       "      <td>243.2</td>\n",
       "    </tr>\n",
       "    <tr>\n",
       "      <th>46</th>\n",
       "      <td>6.350000e-07</td>\n",
       "      <td>758.9336</td>\n",
       "      <td>2200</td>\n",
       "      <td>2200</td>\n",
       "      <td>243.2</td>\n",
       "    </tr>\n",
       "    <tr>\n",
       "      <th>67</th>\n",
       "      <td>6.350000e-07</td>\n",
       "      <td>758.9336</td>\n",
       "      <td>2200</td>\n",
       "      <td>2200</td>\n",
       "      <td>243.2</td>\n",
       "    </tr>\n",
       "  </tbody>\n",
       "</table>\n",
       "</div>"
      ],
      "text/plain": [
       "             DLY_EA        IR  VOL_u101  VOL_u104    WAV\n",
       "SQUID                                                   \n",
       "2      6.350000e-07  758.9336      2200      2200  243.2\n",
       "46     6.350000e-07  758.9336      2200      2200  243.2\n",
       "67     6.350000e-07  758.9336      2200      2200  243.2"
      ]
     },
     "execution_count": 14,
     "metadata": {},
     "output_type": "execute_result"
    }
   ],
   "source": [
    "vDF[vDF.IR == 758.9336]"
   ]
  },
  {
   "cell_type": "code",
   "execution_count": 22,
   "metadata": {
    "collapsed": false
   },
   "outputs": [
    {
     "name": "stdout",
     "output_type": "stream",
     "text": [
      "(179L, 2858L)\n",
      "{u'Manufacturer': 'Agilent',\n",
      " u'Model': 'DSO6104A,MY51510237,06.17.0001\\n',\n",
      " u'dt': 3.5000000000000003e-09,\n",
      " u'input impedance': '50 ohms',\n",
      " u'name': 'Channel 1',\n",
      " u'probe attenuation': 1.0,\n",
      " u't0': 2.9999999999995308e-07,\n",
      " u'vertical coupling': 'DC',\n",
      " u'vertical offset': -0.035000000000000003,\n",
      " u'vertical range': 0.080000000000000002}\n"
     ]
    }
   ],
   "source": [
    "# data\n",
    "ftype = 'CH_A0'\n",
    "squid = [2, 46, 67]\n",
    "trace, info = h5.load_array(squid, ftype)\n",
    "print(np.shape(trace))\n",
    "pprint.pprint(info)"
   ]
  },
  {
   "cell_type": "markdown",
   "metadata": {},
   "source": [
    "### Plot Traces"
   ]
  },
  {
   "cell_type": "code",
   "execution_count": 23,
   "metadata": {
    "collapsed": false
   },
   "outputs": [
    {
     "data": {
      "image/png": "[encoded data removed]",
      "text/plain": [
       "<matplotlib.figure.Figure at 0xb63c320>"
      ]
     },
     "metadata": {},
     "output_type": "display_data"
    }
   ],
   "source": [
    "reps = [0, 1]\n",
    "# xdata\n",
    "scale = 1E-9 #convert to nano seconds\n",
    "points = len(trace[0])\n",
    "x = (np.arange(points)*info['dt'])/scale\n",
    "# plot setup\n",
    "fig, ax = plt.subplots()\n",
    "for r in reps:\n",
    "    ax.plot(x, trace[r], label=r)\n",
    "\n",
    "# labels\n",
    "tit = rid + ': ' + str(squid)\n",
    "ax.set_title(tit)    \n",
    "ax.set_xlabel('Time (ns)')  \n",
    "ax.set_ylabel('PMT (V)')    \n",
    "\n",
    "# format\n",
    "ax.set_xlim([x.min(), x.max()])\n",
    "plt.legend(loc=0)\n",
    "\n",
    "#output\n",
    "plt.tight_layout()\n",
    "fileout = os.path.join(out_dire, str(reps) + \"_\"+ftype+\".png\")\n",
    "#plt.savefig(fileout, dpi=300)\n",
    "plt.show()"
   ]
  },
  {
   "cell_type": "markdown",
   "metadata": {},
   "source": [
    "### Average Trace"
   ]
  },
  {
   "cell_type": "code",
   "execution_count": 24,
   "metadata": {
    "collapsed": false
   },
   "outputs": [
    {
     "data": {
      "image/png": "[encoded data removed]",
      "text/plain": [
       "<matplotlib.figure.Figure at 0xc611278>"
      ]
     },
     "metadata": {},
     "output_type": "display_data"
    }
   ],
   "source": [
    "# plot setup\n",
    "fig, ax = plt.subplots()\n",
    "y = np.mean(trace, axis=0)\n",
    "ax.plot(x, y)\n",
    "\n",
    "# format\n",
    "ax.set_title(tit)    \n",
    "#ax.set_xlim([100, 700])\n",
    "ax.set_xlabel('Time (ns)')  \n",
    "ax.set_ylabel('LYSO / PMT (V)')  \n",
    "\n",
    "#output\n",
    "plt.tight_layout()\n",
    "fileout = os.path.join(out_dire, str(squid) + \"_\"+ftype+\"_av.png\")\n",
    "plt.savefig(fileout, dpi=300)\n",
    "plt.show()"
   ]
  },
  {
   "cell_type": "code",
   "execution_count": null,
   "metadata": {
    "collapsed": true
   },
   "outputs": [],
   "source": []
  }
 ],
 "metadata": {
  "kernelspec": {
   "display_name": "Python 2",
   "language": "python",
   "name": "python2"
  },
  "language_info": {
   "codemirror_mode": {
    "name": "ipython",
    "version": 2
   },
   "file_extension": ".py",
   "mimetype": "text/x-python",
   "name": "python",
   "nbconvert_exporter": "python",
   "pygments_lexer": "ipython2",
   "version": "2.7.11"
  }
 },
 "nbformat": 4,
 "nbformat_minor": 0
}
