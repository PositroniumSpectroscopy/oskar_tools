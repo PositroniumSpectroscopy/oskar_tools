{
 "cells": [
  {
   "cell_type": "markdown",
   "metadata": {
    "collapsed": true
   },
   "source": [
    "# Export Notebooks to HTML\n",
    "\n",
    "Warning.  Do not run this code blindly without understanding it.\n",
    "\n",
    "The first cell uses javascript to get the name of THIS notebook.\n",
    "\n",
    "The second uses the run ID attributed to the H5Data class instance 'h5', and builds from\n",
    "it an output path to the webdav on the Z: drive, as well as a corresponding url link to it.\n",
    "\n",
    "The thrid cell builds the output folder and then converts the LAST SAVED VERSION of this \n",
    "notebook to it.  Thus, the proper procedure is:\n",
    "\n",
    "    - run the analysis cells above\n",
    "    - save the notebook\n",
    "    - run the cells below\n",
    "    - copy the url to the elog.\n",
    "    \n",
    "It would be better to impliment this as a Jupyter extension......"
   ]
  },
  {
   "cell_type": "code",
   "execution_count": 6,
   "metadata": {
    "collapsed": false
   },
   "outputs": [
    {
     "data": {
      "application/javascript": [
       "// get the name of this current notebook\n",
       "var kernel = IPython.notebook.kernel;\n",
       "var thename = window.document.getElementById(\"notebook_name\").innerHTML;\n",
       "var command = \"theNotebook = \" + \"'\"+thename+\"'\";\n",
       "kernel.execute(command);"
      ],
      "text/plain": [
       "<IPython.core.display.Javascript object>"
      ]
     },
     "metadata": {},
     "output_type": "display_data"
    }
   ],
   "source": [
    "%%javascript\n",
    "// get the name of this current notebook\n",
    "var kernel = IPython.notebook.kernel;\n",
    "var thename = window.document.getElementById(\"notebook_name\").innerHTML;\n",
    "var command = \"theNotebook = \" + \"'\"+thename+\"'\";\n",
    "kernel.execute(command);"
   ]
  },
  {
   "cell_type": "code",
   "execution_count": 7,
   "metadata": {
    "collapsed": false
   },
   "outputs": [
    {
     "data": {
      "text/html": [
       "<a href=\"https://pyf2-elog.phys.ucl.ac.uk/webdav/IPython/2016/04/24/20160424_115511/Stability_Analysis.html\" target=\"_blank\">https://pyf2-elog.phys.ucl.ac.uk/webdav/IPython/2016/04/24/20160424_115511/Stability_Analysis.html</a>"
      ],
      "text/plain": [
       "<IPython.core.display.HTML object>"
      ]
     },
     "execution_count": 7,
     "metadata": {},
     "output_type": "execute_result"
    }
   ],
   "source": [
    "# output file \n",
    "import os\n",
    "from IPython.core.display import HTML\n",
    "html_dir = h5.build(\"Z:\\webdav\\IPython\")\n",
    "html_fil = os.path.join(html_dir, theNotebook.replace(' ', '_') + '.html')\n",
    "html_url = html_fil.replace(\"Z:\\webdav\\IPython\", \"https://pyf2-elog.phys.ucl.ac.uk/webdav/IPython\").replace('\\\\', '/')\n",
    "HTML('<a href=\"'+html_url+'\" target=\"_blank\">'+html_url+'</a>')"
   ]
  },
  {
   "cell_type": "code",
   "execution_count": 9,
   "metadata": {
    "collapsed": false
   },
   "outputs": [
    {
     "name": "stderr",
     "output_type": "stream",
     "text": [
      "[NbConvertApp] Converting notebook Stability Analysis.ipynb to html\n",
      "[NbConvertApp] Writing 315284 bytes to Z:\\webdav\\IPython\\2016\\04\\24\\20160424_115511\\Stability_Analysis.html\n"
     ]
    }
   ],
   "source": [
    "# export to html\n",
    "if not os.path.exists(html_dir):\n",
    "    os.makedirs(html_dir)\n",
    "!jupyter nbconvert --to html \"$theNotebook\" --output \"$html_fil\""
   ]
  },
  {
   "cell_type": "code",
   "execution_count": null,
   "metadata": {
    "collapsed": true
   },
   "outputs": [],
   "source": []
  }
 ],
 "metadata": {
  "kernelspec": {
   "display_name": "Python 2",
   "language": "python",
   "name": "python2"
  },
  "language_info": {
   "codemirror_mode": {
    "name": "ipython",
    "version": 2
   },
   "file_extension": ".py",
   "mimetype": "text/x-python",
   "name": "python",
   "nbconvert_exporter": "python",
   "pygments_lexer": "ipython2",
   "version": "2.7.11"
  }
 },
 "nbformat": 4,
 "nbformat_minor": 0
}
