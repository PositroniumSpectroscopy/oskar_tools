{
 "cells": [
  {
   "cell_type": "markdown",
   "metadata": {},
   "source": [
    "# Plot the output of count_events.py"
   ]
  },
  {
   "cell_type": "code",
   "execution_count": 2,
   "metadata": {
    "collapsed": false
   },
   "outputs": [],
   "source": [
    "#import python packages\n",
    "import os\n",
    "import numpy as np\n",
    "import pandas as pd\n",
    "import matplotlib.pyplot as plt\n",
    "%matplotlib inline\n",
    "import oskar"
   ]
  },
  {
   "cell_type": "markdown",
   "metadata": {},
   "source": [
    "### Import data"
   ]
  },
  {
   "cell_type": "code",
   "execution_count": 3,
   "metadata": {
    "collapsed": false
   },
   "outputs": [
    {
     "name": "stdout",
     "output_type": "stream",
     "text": [
      "20160507_145210\n",
      "   Author:\t AA\n",
      "   Description:  n = 10 high res lineshape\n"
     ]
    }
   ],
   "source": [
    "rid = '20160507_145210'\n",
    "h5 = oskar.H5Data(rid)              # data\n",
    "h5.load_log()\n",
    "h5.pprint()\n",
    "logDF = h5.log\n",
    "vDF = h5.var_df()\n",
    "uDF = h5.unique_df()\n",
    "out_dire = h5.out_dire(\"Events\")    # output\n",
    "# count data\n",
    "channels = ['CH_A0']\n",
    "eventDF = h5.load_count(channels, include_vars=True)"
   ]
  },
  {
   "cell_type": "code",
   "execution_count": 4,
   "metadata": {
    "collapsed": false
   },
   "outputs": [
    {
     "data": {
      "text/html": [
       "<div>\n",
       "<table border=\"1\" class=\"dataframe\">\n",
       "  <thead>\n",
       "    <tr style=\"text-align: right;\">\n",
       "      <th></th>\n",
       "      <th>DLY_EA</th>\n",
       "      <th>DLY_GA</th>\n",
       "      <th>IR</th>\n",
       "      <th>VOL_u100</th>\n",
       "      <th>VOL_u101</th>\n",
       "    </tr>\n",
       "    <tr>\n",
       "      <th>VID</th>\n",
       "      <th></th>\n",
       "      <th></th>\n",
       "      <th></th>\n",
       "      <th></th>\n",
       "      <th></th>\n",
       "    </tr>\n",
       "  </thead>\n",
       "  <tbody>\n",
       "    <tr>\n",
       "      <th>1</th>\n",
       "      <td>6.470000e-07</td>\n",
       "      <td>0.000001</td>\n",
       "      <td>756.20</td>\n",
       "      <td>2000</td>\n",
       "      <td>1600</td>\n",
       "    </tr>\n",
       "    <tr>\n",
       "      <th>2</th>\n",
       "      <td>6.470000e-07</td>\n",
       "      <td>0.000001</td>\n",
       "      <td>756.21</td>\n",
       "      <td>2000</td>\n",
       "      <td>1600</td>\n",
       "    </tr>\n",
       "    <tr>\n",
       "      <th>3</th>\n",
       "      <td>6.470000e-07</td>\n",
       "      <td>0.000001</td>\n",
       "      <td>757.50</td>\n",
       "      <td>2000</td>\n",
       "      <td>1600</td>\n",
       "    </tr>\n",
       "    <tr>\n",
       "      <th>4</th>\n",
       "      <td>6.470000e-07</td>\n",
       "      <td>0.000001</td>\n",
       "      <td>757.53</td>\n",
       "      <td>2000</td>\n",
       "      <td>1600</td>\n",
       "    </tr>\n",
       "    <tr>\n",
       "      <th>5</th>\n",
       "      <td>6.470000e-07</td>\n",
       "      <td>0.000001</td>\n",
       "      <td>757.56</td>\n",
       "      <td>2000</td>\n",
       "      <td>1600</td>\n",
       "    </tr>\n",
       "  </tbody>\n",
       "</table>\n",
       "</div>"
      ],
      "text/plain": [
       "           DLY_EA    DLY_GA      IR  VOL_u100  VOL_u101\n",
       "VID                                                    \n",
       "1    6.470000e-07  0.000001  756.20      2000      1600\n",
       "2    6.470000e-07  0.000001  756.21      2000      1600\n",
       "3    6.470000e-07  0.000001  757.50      2000      1600\n",
       "4    6.470000e-07  0.000001  757.53      2000      1600\n",
       "5    6.470000e-07  0.000001  757.56      2000      1600"
      ]
     },
     "execution_count": 4,
     "metadata": {},
     "output_type": "execute_result"
    }
   ],
   "source": [
    "uDF.head()"
   ]
  },
  {
   "cell_type": "code",
   "execution_count": 5,
   "metadata": {
    "collapsed": false
   },
   "outputs": [
    {
     "data": {
      "text/html": [
       "<div>\n",
       "<table border=\"1\" class=\"dataframe\">\n",
       "  <thead>\n",
       "    <tr style=\"text-align: right;\">\n",
       "      <th></th>\n",
       "      <th></th>\n",
       "      <th>trigger</th>\n",
       "      <th>width</th>\n",
       "      <th>amp</th>\n",
       "      <th>squid</th>\n",
       "      <th>rep</th>\n",
       "      <th>DLY_EA</th>\n",
       "      <th>DLY_GA</th>\n",
       "      <th>IR</th>\n",
       "      <th>VOL_u100</th>\n",
       "      <th>VOL_u101</th>\n",
       "    </tr>\n",
       "    <tr>\n",
       "      <th>FTYPE</th>\n",
       "      <th>EVENT</th>\n",
       "      <th></th>\n",
       "      <th></th>\n",
       "      <th></th>\n",
       "      <th></th>\n",
       "      <th></th>\n",
       "      <th></th>\n",
       "      <th></th>\n",
       "      <th></th>\n",
       "      <th></th>\n",
       "      <th></th>\n",
       "    </tr>\n",
       "  </thead>\n",
       "  <tbody>\n",
       "    <tr>\n",
       "      <th rowspan=\"5\" valign=\"top\">CH_A0</th>\n",
       "      <th>0</th>\n",
       "      <td>5.460000e-07</td>\n",
       "      <td>3.395000e-07</td>\n",
       "      <td>0.060920</td>\n",
       "      <td>1</td>\n",
       "      <td>1</td>\n",
       "      <td>6.470000e-07</td>\n",
       "      <td>0.000001</td>\n",
       "      <td>759.51</td>\n",
       "      <td>2000</td>\n",
       "      <td>1600</td>\n",
       "    </tr>\n",
       "    <tr>\n",
       "      <th>1</th>\n",
       "      <td>8.925000e-07</td>\n",
       "      <td>4.200000e-08</td>\n",
       "      <td>0.009853</td>\n",
       "      <td>1</td>\n",
       "      <td>1</td>\n",
       "      <td>6.470000e-07</td>\n",
       "      <td>0.000001</td>\n",
       "      <td>759.51</td>\n",
       "      <td>2000</td>\n",
       "      <td>1600</td>\n",
       "    </tr>\n",
       "    <tr>\n",
       "      <th>2</th>\n",
       "      <td>1.022000e-06</td>\n",
       "      <td>2.310000e-07</td>\n",
       "      <td>0.035527</td>\n",
       "      <td>1</td>\n",
       "      <td>1</td>\n",
       "      <td>6.470000e-07</td>\n",
       "      <td>0.000001</td>\n",
       "      <td>759.51</td>\n",
       "      <td>2000</td>\n",
       "      <td>1600</td>\n",
       "    </tr>\n",
       "    <tr>\n",
       "      <th>3</th>\n",
       "      <td>1.274000e-06</td>\n",
       "      <td>7.700000e-08</td>\n",
       "      <td>0.017687</td>\n",
       "      <td>1</td>\n",
       "      <td>1</td>\n",
       "      <td>6.470000e-07</td>\n",
       "      <td>0.000001</td>\n",
       "      <td>759.51</td>\n",
       "      <td>2000</td>\n",
       "      <td>1600</td>\n",
       "    </tr>\n",
       "    <tr>\n",
       "      <th>4</th>\n",
       "      <td>1.484000e-06</td>\n",
       "      <td>2.450000e-08</td>\n",
       "      <td>0.006719</td>\n",
       "      <td>1</td>\n",
       "      <td>1</td>\n",
       "      <td>6.470000e-07</td>\n",
       "      <td>0.000001</td>\n",
       "      <td>759.51</td>\n",
       "      <td>2000</td>\n",
       "      <td>1600</td>\n",
       "    </tr>\n",
       "  </tbody>\n",
       "</table>\n",
       "</div>"
      ],
      "text/plain": [
       "                  trigger         width       amp  squid  rep        DLY_EA  \\\n",
       "FTYPE EVENT                                                                   \n",
       "CH_A0 0      5.460000e-07  3.395000e-07  0.060920      1    1  6.470000e-07   \n",
       "      1      8.925000e-07  4.200000e-08  0.009853      1    1  6.470000e-07   \n",
       "      2      1.022000e-06  2.310000e-07  0.035527      1    1  6.470000e-07   \n",
       "      3      1.274000e-06  7.700000e-08  0.017687      1    1  6.470000e-07   \n",
       "      4      1.484000e-06  2.450000e-08  0.006719      1    1  6.470000e-07   \n",
       "\n",
       "               DLY_GA      IR  VOL_u100  VOL_u101  \n",
       "FTYPE EVENT                                        \n",
       "CH_A0 0      0.000001  759.51      2000      1600  \n",
       "      1      0.000001  759.51      2000      1600  \n",
       "      2      0.000001  759.51      2000      1600  \n",
       "      3      0.000001  759.51      2000      1600  \n",
       "      4      0.000001  759.51      2000      1600  "
      ]
     },
     "execution_count": 5,
     "metadata": {},
     "output_type": "execute_result"
    }
   ],
   "source": [
    "eventDF.head()"
   ]
  },
  {
   "cell_type": "code",
   "execution_count": 6,
   "metadata": {
    "collapsed": false
   },
   "outputs": [
    {
     "data": {
      "text/html": [
       "<div>\n",
       "<table border=\"1\" class=\"dataframe\">\n",
       "  <thead>\n",
       "    <tr style=\"text-align: right;\">\n",
       "      <th></th>\n",
       "      <th>trigger</th>\n",
       "      <th>width</th>\n",
       "      <th>amp</th>\n",
       "      <th>squid</th>\n",
       "      <th>rep</th>\n",
       "      <th>DLY_EA</th>\n",
       "      <th>DLY_GA</th>\n",
       "      <th>IR</th>\n",
       "      <th>VOL_u100</th>\n",
       "      <th>VOL_u101</th>\n",
       "    </tr>\n",
       "  </thead>\n",
       "  <tbody>\n",
       "    <tr>\n",
       "      <th>count</th>\n",
       "      <td>7.389970e+05</td>\n",
       "      <td>7.389970e+05</td>\n",
       "      <td>738997.000000</td>\n",
       "      <td>738997.000000</td>\n",
       "      <td>738997.000000</td>\n",
       "      <td>7.389970e+05</td>\n",
       "      <td>7.389970e+05</td>\n",
       "      <td>738997.000000</td>\n",
       "      <td>738997.0</td>\n",
       "      <td>738997.0</td>\n",
       "    </tr>\n",
       "    <tr>\n",
       "      <th>mean</th>\n",
       "      <td>1.647796e-06</td>\n",
       "      <td>1.294072e-07</td>\n",
       "      <td>0.023524</td>\n",
       "      <td>684.285912</td>\n",
       "      <td>50.389742</td>\n",
       "      <td>6.470000e-07</td>\n",
       "      <td>1.100000e-06</td>\n",
       "      <td>758.693936</td>\n",
       "      <td>2000.0</td>\n",
       "      <td>1600.0</td>\n",
       "    </tr>\n",
       "    <tr>\n",
       "      <th>std</th>\n",
       "      <td>1.077548e-06</td>\n",
       "      <td>1.535321e-07</td>\n",
       "      <td>0.018538</td>\n",
       "      <td>388.981059</td>\n",
       "      <td>28.831698</td>\n",
       "      <td>8.490135e-18</td>\n",
       "      <td>1.574614e-17</td>\n",
       "      <td>0.821775</td>\n",
       "      <td>0.0</td>\n",
       "      <td>0.0</td>\n",
       "    </tr>\n",
       "    <tr>\n",
       "      <th>min</th>\n",
       "      <td>0.000000e+00</td>\n",
       "      <td>2.100000e-08</td>\n",
       "      <td>0.004365</td>\n",
       "      <td>1.000000</td>\n",
       "      <td>1.000000</td>\n",
       "      <td>6.470000e-07</td>\n",
       "      <td>1.100000e-06</td>\n",
       "      <td>756.200000</td>\n",
       "      <td>2000.0</td>\n",
       "      <td>1600.0</td>\n",
       "    </tr>\n",
       "    <tr>\n",
       "      <th>25%</th>\n",
       "      <td>9.800000e-07</td>\n",
       "      <td>3.850000e-08</td>\n",
       "      <td>0.010859</td>\n",
       "      <td>349.000000</td>\n",
       "      <td>25.000000</td>\n",
       "      <td>6.470000e-07</td>\n",
       "      <td>1.100000e-06</td>\n",
       "      <td>758.070000</td>\n",
       "      <td>2000.0</td>\n",
       "      <td>1600.0</td>\n",
       "    </tr>\n",
       "    <tr>\n",
       "      <th>50%</th>\n",
       "      <td>1.361500e-06</td>\n",
       "      <td>6.300000e-08</td>\n",
       "      <td>0.016734</td>\n",
       "      <td>691.000000</td>\n",
       "      <td>50.000000</td>\n",
       "      <td>6.470000e-07</td>\n",
       "      <td>1.100000e-06</td>\n",
       "      <td>758.730000</td>\n",
       "      <td>2000.0</td>\n",
       "      <td>1600.0</td>\n",
       "    </tr>\n",
       "    <tr>\n",
       "      <th>75%</th>\n",
       "      <td>2.040500e-06</td>\n",
       "      <td>1.050000e-07</td>\n",
       "      <td>0.024041</td>\n",
       "      <td>1021.000000</td>\n",
       "      <td>75.000000</td>\n",
       "      <td>6.470000e-07</td>\n",
       "      <td>1.100000e-06</td>\n",
       "      <td>759.390000</td>\n",
       "      <td>2000.0</td>\n",
       "      <td>1600.0</td>\n",
       "    </tr>\n",
       "    <tr>\n",
       "      <th>max</th>\n",
       "      <td>5.974500e-06</td>\n",
       "      <td>9.450000e-07</td>\n",
       "      <td>0.070405</td>\n",
       "      <td>1350.000000</td>\n",
       "      <td>104.000000</td>\n",
       "      <td>6.470000e-07</td>\n",
       "      <td>1.100000e-06</td>\n",
       "      <td>760.020000</td>\n",
       "      <td>2000.0</td>\n",
       "      <td>1600.0</td>\n",
       "    </tr>\n",
       "  </tbody>\n",
       "</table>\n",
       "</div>"
      ],
      "text/plain": [
       "            trigger         width            amp          squid  \\\n",
       "count  7.389970e+05  7.389970e+05  738997.000000  738997.000000   \n",
       "mean   1.647796e-06  1.294072e-07       0.023524     684.285912   \n",
       "std    1.077548e-06  1.535321e-07       0.018538     388.981059   \n",
       "min    0.000000e+00  2.100000e-08       0.004365       1.000000   \n",
       "25%    9.800000e-07  3.850000e-08       0.010859     349.000000   \n",
       "50%    1.361500e-06  6.300000e-08       0.016734     691.000000   \n",
       "75%    2.040500e-06  1.050000e-07       0.024041    1021.000000   \n",
       "max    5.974500e-06  9.450000e-07       0.070405    1350.000000   \n",
       "\n",
       "                 rep        DLY_EA        DLY_GA             IR  VOL_u100  \\\n",
       "count  738997.000000  7.389970e+05  7.389970e+05  738997.000000  738997.0   \n",
       "mean       50.389742  6.470000e-07  1.100000e-06     758.693936    2000.0   \n",
       "std        28.831698  8.490135e-18  1.574614e-17       0.821775       0.0   \n",
       "min         1.000000  6.470000e-07  1.100000e-06     756.200000    2000.0   \n",
       "25%        25.000000  6.470000e-07  1.100000e-06     758.070000    2000.0   \n",
       "50%        50.000000  6.470000e-07  1.100000e-06     758.730000    2000.0   \n",
       "75%        75.000000  6.470000e-07  1.100000e-06     759.390000    2000.0   \n",
       "max       104.000000  6.470000e-07  1.100000e-06     760.020000    2000.0   \n",
       "\n",
       "       VOL_u101  \n",
       "count  738997.0  \n",
       "mean     1600.0  \n",
       "std         0.0  \n",
       "min      1600.0  \n",
       "25%      1600.0  \n",
       "50%      1600.0  \n",
       "75%      1600.0  \n",
       "max      1600.0  "
      ]
     },
     "execution_count": 6,
     "metadata": {},
     "output_type": "execute_result"
    }
   ],
   "source": [
    "eventDF.describe()"
   ]
  },
  {
   "cell_type": "markdown",
   "metadata": {},
   "source": [
    "## Estimate positron implanation time"
   ]
  },
  {
   "cell_type": "code",
   "execution_count": 7,
   "metadata": {
    "collapsed": false
   },
   "outputs": [
    {
     "name": "stdout",
     "output_type": "stream",
     "text": [
      "t0 = 0.55 us\n"
     ]
    }
   ],
   "source": [
    "# check the event spectra to ensure this makes sense\n",
    "t0 = (eventDF[eventDF.amp > 0.07].trigger).mean()\n",
    "print('t0 = %.2f us'%(t0*1e6))"
   ]
  },
  {
   "cell_type": "markdown",
   "metadata": {},
   "source": [
    "## Total triggers"
   ]
  },
  {
   "cell_type": "code",
   "execution_count": 10,
   "metadata": {
    "collapsed": false
   },
   "outputs": [],
   "source": [
    "total = []\n",
    "acquisition = []\n",
    "for vid in uDF.index:\n",
    "    # select data\n",
    "    data = eventDF[(eventDF[uDF.columns] == uDF.loc[vid]).all(1)]\n",
    "    acq_on = logDF.loc[np.unique(data.squid.values), 'ACQUIRE'].sum()\n",
    "    acquisition.append(acq_on)\n",
    "    trigs = (data['trigger'].values)*1e6\n",
    "    total.append((trigs > 2.5).sum())\n",
    "acquisition = np.array(acquisition)\n",
    "total = np.array(total)"
   ]
  },
  {
   "cell_type": "code",
   "execution_count": 11,
   "metadata": {
    "collapsed": false
   },
   "outputs": [
    {
     "data": {
      "image/png": "[encoded data removed]",
      "text/plain": [
       "<matplotlib.figure.Figure at 0x95789e8>"
      ]
     },
     "metadata": {},
     "output_type": "display_data"
    }
   ],
   "source": [
    "#plot setup\n",
    "fig, ax = plt.subplots(figsize=(6,4))\n",
    "ax.errorbar(uDF.IR, total/acquisition, yerr=np.sqrt(total)/acquisition,\n",
    "           marker='o', ms=5, color=oskar.colors[0])\n",
    "ax.set_xlim(757.5, 760)\n",
    "\n",
    "# labels\n",
    "ax.set_title(rid)\n",
    "ax.set_xlabel('Radiant wavelength (nm)')\n",
    "ax.set_ylabel('Trigger rate')\n",
    "# save data\n",
    "plt.tight_layout();\n",
    "fileout = os.path.join(out_dire, 'total.png')\n",
    "plt.savefig(fileout, dpi=150)\n",
    "plt.show()"
   ]
  },
  {
   "cell_type": "code",
   "execution_count": null,
   "metadata": {
    "collapsed": true
   },
   "outputs": [],
   "source": []
  }
 ],
 "metadata": {
  "kernelspec": {
   "display_name": "Python 2",
   "language": "python",
   "name": "python2"
  },
  "language_info": {
   "codemirror_mode": {
    "name": "ipython",
    "version": 2
   },
   "file_extension": ".py",
   "mimetype": "text/x-python",
   "name": "python",
   "nbconvert_exporter": "python",
   "pygments_lexer": "ipython2",
   "version": "2.7.11"
  }
 },
 "nbformat": 4,
 "nbformat_minor": 0
}
