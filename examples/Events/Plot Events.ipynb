{
 "cells": [
  {
   "cell_type": "markdown",
   "metadata": {},
   "source": [
    "# Plot the output of count_events.py"
   ]
  },
  {
   "cell_type": "code",
   "execution_count": 1,
   "metadata": {
    "collapsed": false
   },
   "outputs": [],
   "source": [
    "#import python packages\n",
    "import os\n",
    "import numpy as np\n",
    "import pandas as pd\n",
    "import matplotlib.pyplot as plt\n",
    "%matplotlib inline\n",
    "import oskar"
   ]
  },
  {
   "cell_type": "markdown",
   "metadata": {},
   "source": [
    "### Import data"
   ]
  },
  {
   "cell_type": "code",
   "execution_count": 2,
   "metadata": {
    "collapsed": false
   },
   "outputs": [
    {
     "name": "stdout",
     "output_type": "stream",
     "text": [
      "20160424_115511\n",
      "   Author:\t AA,BC\n",
      "   Description:  Pulser delay scan, lineshapes at each delay\n",
      "\t\t (pulser) DLY_GA: 1.05u, 1.4u, 10u\n",
      "\t\t (lasers) DLY_EA: 635ns\n",
      "\t\t IR: 755.63 - 761.81 (0.06)nm\n",
      "\t\t T = 2.2kV\n",
      "\t\t G = 200 V\n",
      "\t\t Initial temp: 97.1deg \n"
     ]
    }
   ],
   "source": [
    "rid = '20160507_145210'\n",
    "h5 = oskar.H5Data(rid)              # data\n",
    "h5.load_log()\n",
    "h5.pprint()\n",
    "logDF = h5.log\n",
    "vDF = h5.var_df()\n",
    "uDF = h5.unique_df()\n",
    "out_dire = h5.out_dire(\"Events\")    # output\n",
    "# count data\n",
    "channels = ['CH_A0', 'CH_A1']\n",
    "eventDF = h5.load_count(channels, include_vars=True)"
   ]
  },
  {
   "cell_type": "code",
   "execution_count": 3,
   "metadata": {
    "collapsed": false
   },
   "outputs": [
    {
     "data": {
      "text/html": [
       "<div>\n",
       "<table border=\"1\" class=\"dataframe\">\n",
       "  <thead>\n",
       "    <tr style=\"text-align: right;\">\n",
       "      <th></th>\n",
       "      <th>DLY_EA</th>\n",
       "      <th>DLY_GA</th>\n",
       "      <th>IR</th>\n",
       "      <th>VOL_u101</th>\n",
       "      <th>VOL_u104</th>\n",
       "    </tr>\n",
       "    <tr>\n",
       "      <th>VID</th>\n",
       "      <th></th>\n",
       "      <th></th>\n",
       "      <th></th>\n",
       "      <th></th>\n",
       "      <th></th>\n",
       "    </tr>\n",
       "  </thead>\n",
       "  <tbody>\n",
       "    <tr>\n",
       "      <th>1</th>\n",
       "      <td>6.350000e-07</td>\n",
       "      <td>0.000001</td>\n",
       "      <td>755.63</td>\n",
       "      <td>200</td>\n",
       "      <td>2200</td>\n",
       "    </tr>\n",
       "    <tr>\n",
       "      <th>2</th>\n",
       "      <td>6.350000e-07</td>\n",
       "      <td>0.000001</td>\n",
       "      <td>755.69</td>\n",
       "      <td>200</td>\n",
       "      <td>2200</td>\n",
       "    </tr>\n",
       "    <tr>\n",
       "      <th>3</th>\n",
       "      <td>6.350000e-07</td>\n",
       "      <td>0.000001</td>\n",
       "      <td>755.75</td>\n",
       "      <td>200</td>\n",
       "      <td>2200</td>\n",
       "    </tr>\n",
       "    <tr>\n",
       "      <th>4</th>\n",
       "      <td>6.350000e-07</td>\n",
       "      <td>0.000001</td>\n",
       "      <td>755.81</td>\n",
       "      <td>200</td>\n",
       "      <td>2200</td>\n",
       "    </tr>\n",
       "    <tr>\n",
       "      <th>5</th>\n",
       "      <td>6.350000e-07</td>\n",
       "      <td>0.000001</td>\n",
       "      <td>755.87</td>\n",
       "      <td>200</td>\n",
       "      <td>2200</td>\n",
       "    </tr>\n",
       "  </tbody>\n",
       "</table>\n",
       "</div>"
      ],
      "text/plain": [
       "           DLY_EA    DLY_GA      IR  VOL_u101  VOL_u104\n",
       "VID                                                    \n",
       "1    6.350000e-07  0.000001  755.63       200      2200\n",
       "2    6.350000e-07  0.000001  755.69       200      2200\n",
       "3    6.350000e-07  0.000001  755.75       200      2200\n",
       "4    6.350000e-07  0.000001  755.81       200      2200\n",
       "5    6.350000e-07  0.000001  755.87       200      2200"
      ]
     },
     "execution_count": 3,
     "metadata": {},
     "output_type": "execute_result"
    }
   ],
   "source": [
    "uDF.head()"
   ]
  },
  {
   "cell_type": "code",
   "execution_count": 4,
   "metadata": {
    "collapsed": false
   },
   "outputs": [
    {
     "data": {
      "text/html": [
       "<div>\n",
       "<table border=\"1\" class=\"dataframe\">\n",
       "  <thead>\n",
       "    <tr style=\"text-align: right;\">\n",
       "      <th></th>\n",
       "      <th></th>\n",
       "      <th>trigger</th>\n",
       "      <th>width</th>\n",
       "      <th>amp</th>\n",
       "      <th>squid</th>\n",
       "      <th>rep</th>\n",
       "      <th>DLY_EA</th>\n",
       "      <th>DLY_GA</th>\n",
       "      <th>IR</th>\n",
       "      <th>VOL_u101</th>\n",
       "      <th>VOL_u104</th>\n",
       "    </tr>\n",
       "    <tr>\n",
       "      <th>FTYPE</th>\n",
       "      <th>EVENT</th>\n",
       "      <th></th>\n",
       "      <th></th>\n",
       "      <th></th>\n",
       "      <th></th>\n",
       "      <th></th>\n",
       "      <th></th>\n",
       "      <th></th>\n",
       "      <th></th>\n",
       "      <th></th>\n",
       "      <th></th>\n",
       "    </tr>\n",
       "  </thead>\n",
       "  <tbody>\n",
       "    <tr>\n",
       "      <th rowspan=\"5\" valign=\"top\">CH_A0</th>\n",
       "      <th>0</th>\n",
       "      <td>7.860000e-07</td>\n",
       "      <td>7.260000e-07</td>\n",
       "      <td>0.088722</td>\n",
       "      <td>1</td>\n",
       "      <td>1</td>\n",
       "      <td>6.350000e-07</td>\n",
       "      <td>0.000001</td>\n",
       "      <td>756.77</td>\n",
       "      <td>200</td>\n",
       "      <td>2200</td>\n",
       "    </tr>\n",
       "    <tr>\n",
       "      <th>1</th>\n",
       "      <td>1.590000e-06</td>\n",
       "      <td>4.200000e-08</td>\n",
       "      <td>0.009707</td>\n",
       "      <td>1</td>\n",
       "      <td>1</td>\n",
       "      <td>6.350000e-07</td>\n",
       "      <td>0.000001</td>\n",
       "      <td>756.77</td>\n",
       "      <td>200</td>\n",
       "      <td>2200</td>\n",
       "    </tr>\n",
       "    <tr>\n",
       "      <th>2</th>\n",
       "      <td>3.984000e-06</td>\n",
       "      <td>6.000000e-08</td>\n",
       "      <td>0.017290</td>\n",
       "      <td>1</td>\n",
       "      <td>1</td>\n",
       "      <td>6.350000e-07</td>\n",
       "      <td>0.000001</td>\n",
       "      <td>756.77</td>\n",
       "      <td>200</td>\n",
       "      <td>2200</td>\n",
       "    </tr>\n",
       "    <tr>\n",
       "      <th>3</th>\n",
       "      <td>4.992000e-06</td>\n",
       "      <td>4.200000e-08</td>\n",
       "      <td>0.013464</td>\n",
       "      <td>1</td>\n",
       "      <td>1</td>\n",
       "      <td>6.350000e-07</td>\n",
       "      <td>0.000001</td>\n",
       "      <td>756.77</td>\n",
       "      <td>200</td>\n",
       "      <td>2200</td>\n",
       "    </tr>\n",
       "    <tr>\n",
       "      <th>4</th>\n",
       "      <td>5.466000e-06</td>\n",
       "      <td>4.200000e-08</td>\n",
       "      <td>0.009707</td>\n",
       "      <td>1</td>\n",
       "      <td>1</td>\n",
       "      <td>6.350000e-07</td>\n",
       "      <td>0.000001</td>\n",
       "      <td>756.77</td>\n",
       "      <td>200</td>\n",
       "      <td>2200</td>\n",
       "    </tr>\n",
       "  </tbody>\n",
       "</table>\n",
       "</div>"
      ],
      "text/plain": [
       "                  trigger         width       amp  squid  rep        DLY_EA  \\\n",
       "FTYPE EVENT                                                                   \n",
       "CH_A0 0      7.860000e-07  7.260000e-07  0.088722      1    1  6.350000e-07   \n",
       "      1      1.590000e-06  4.200000e-08  0.009707      1    1  6.350000e-07   \n",
       "      2      3.984000e-06  6.000000e-08  0.017290      1    1  6.350000e-07   \n",
       "      3      4.992000e-06  4.200000e-08  0.013464      1    1  6.350000e-07   \n",
       "      4      5.466000e-06  4.200000e-08  0.009707      1    1  6.350000e-07   \n",
       "\n",
       "               DLY_GA      IR  VOL_u101  VOL_u104  \n",
       "FTYPE EVENT                                        \n",
       "CH_A0 0      0.000001  756.77       200      2200  \n",
       "      1      0.000001  756.77       200      2200  \n",
       "      2      0.000001  756.77       200      2200  \n",
       "      3      0.000001  756.77       200      2200  \n",
       "      4      0.000001  756.77       200      2200  "
      ]
     },
     "execution_count": 4,
     "metadata": {},
     "output_type": "execute_result"
    }
   ],
   "source": [
    "eventDF.head()"
   ]
  },
  {
   "cell_type": "code",
   "execution_count": 5,
   "metadata": {
    "collapsed": false
   },
   "outputs": [
    {
     "data": {
      "text/html": [
       "<div>\n",
       "<table border=\"1\" class=\"dataframe\">\n",
       "  <thead>\n",
       "    <tr style=\"text-align: right;\">\n",
       "      <th></th>\n",
       "      <th>trigger</th>\n",
       "      <th>width</th>\n",
       "      <th>amp</th>\n",
       "      <th>squid</th>\n",
       "      <th>rep</th>\n",
       "      <th>DLY_EA</th>\n",
       "      <th>DLY_GA</th>\n",
       "      <th>IR</th>\n",
       "      <th>VOL_u101</th>\n",
       "      <th>VOL_u104</th>\n",
       "    </tr>\n",
       "  </thead>\n",
       "  <tbody>\n",
       "    <tr>\n",
       "      <th>count</th>\n",
       "      <td>6.387770e+05</td>\n",
       "      <td>6.387770e+05</td>\n",
       "      <td>638777.000000</td>\n",
       "      <td>638777.000000</td>\n",
       "      <td>638777.000000</td>\n",
       "      <td>6.387770e+05</td>\n",
       "      <td>638777.000000</td>\n",
       "      <td>638777.000000</td>\n",
       "      <td>638777.0</td>\n",
       "      <td>638777.0</td>\n",
       "    </tr>\n",
       "    <tr>\n",
       "      <th>mean</th>\n",
       "      <td>2.011700e-06</td>\n",
       "      <td>1.756689e-07</td>\n",
       "      <td>0.029479</td>\n",
       "      <td>365.922060</td>\n",
       "      <td>50.535467</td>\n",
       "      <td>6.350000e-07</td>\n",
       "      <td>0.000004</td>\n",
       "      <td>758.716698</td>\n",
       "      <td>200.0</td>\n",
       "      <td>2200.0</td>\n",
       "    </tr>\n",
       "    <tr>\n",
       "      <th>std</th>\n",
       "      <td>1.494315e-06</td>\n",
       "      <td>2.169283e-07</td>\n",
       "      <td>0.032574</td>\n",
       "      <td>210.648949</td>\n",
       "      <td>28.866381</td>\n",
       "      <td>9.533363e-18</td>\n",
       "      <td>0.000004</td>\n",
       "      <td>1.808765</td>\n",
       "      <td>0.0</td>\n",
       "      <td>0.0</td>\n",
       "    </tr>\n",
       "    <tr>\n",
       "      <th>min</th>\n",
       "      <td>0.000000e+00</td>\n",
       "      <td>2.400000e-08</td>\n",
       "      <td>0.004070</td>\n",
       "      <td>1.000000</td>\n",
       "      <td>1.000000</td>\n",
       "      <td>6.350000e-07</td>\n",
       "      <td>0.000001</td>\n",
       "      <td>755.630000</td>\n",
       "      <td>200.0</td>\n",
       "      <td>2200.0</td>\n",
       "    </tr>\n",
       "    <tr>\n",
       "      <th>25%</th>\n",
       "      <td>8.520000e-07</td>\n",
       "      <td>4.200000e-08</td>\n",
       "      <td>0.008737</td>\n",
       "      <td>184.000000</td>\n",
       "      <td>26.000000</td>\n",
       "      <td>6.350000e-07</td>\n",
       "      <td>0.000001</td>\n",
       "      <td>757.130000</td>\n",
       "      <td>200.0</td>\n",
       "      <td>2200.0</td>\n",
       "    </tr>\n",
       "    <tr>\n",
       "      <th>50%</th>\n",
       "      <td>1.614000e-06</td>\n",
       "      <td>6.000000e-08</td>\n",
       "      <td>0.012613</td>\n",
       "      <td>366.000000</td>\n",
       "      <td>51.000000</td>\n",
       "      <td>6.350000e-07</td>\n",
       "      <td>0.000001</td>\n",
       "      <td>758.750000</td>\n",
       "      <td>200.0</td>\n",
       "      <td>2200.0</td>\n",
       "    </tr>\n",
       "    <tr>\n",
       "      <th>75%</th>\n",
       "      <td>2.202000e-06</td>\n",
       "      <td>1.740000e-07</td>\n",
       "      <td>0.026113</td>\n",
       "      <td>550.000000</td>\n",
       "      <td>76.000000</td>\n",
       "      <td>6.350000e-07</td>\n",
       "      <td>0.000010</td>\n",
       "      <td>760.310000</td>\n",
       "      <td>200.0</td>\n",
       "      <td>2200.0</td>\n",
       "    </tr>\n",
       "    <tr>\n",
       "      <th>max</th>\n",
       "      <td>9.966000e-06</td>\n",
       "      <td>1.098000e-06</td>\n",
       "      <td>0.089101</td>\n",
       "      <td>730.000000</td>\n",
       "      <td>103.000000</td>\n",
       "      <td>6.350000e-07</td>\n",
       "      <td>0.000010</td>\n",
       "      <td>761.810000</td>\n",
       "      <td>200.0</td>\n",
       "      <td>2200.0</td>\n",
       "    </tr>\n",
       "  </tbody>\n",
       "</table>\n",
       "</div>"
      ],
      "text/plain": [
       "            trigger         width            amp          squid  \\\n",
       "count  6.387770e+05  6.387770e+05  638777.000000  638777.000000   \n",
       "mean   2.011700e-06  1.756689e-07       0.029479     365.922060   \n",
       "std    1.494315e-06  2.169283e-07       0.032574     210.648949   \n",
       "min    0.000000e+00  2.400000e-08       0.004070       1.000000   \n",
       "25%    8.520000e-07  4.200000e-08       0.008737     184.000000   \n",
       "50%    1.614000e-06  6.000000e-08       0.012613     366.000000   \n",
       "75%    2.202000e-06  1.740000e-07       0.026113     550.000000   \n",
       "max    9.966000e-06  1.098000e-06       0.089101     730.000000   \n",
       "\n",
       "                 rep        DLY_EA         DLY_GA             IR  VOL_u101  \\\n",
       "count  638777.000000  6.387770e+05  638777.000000  638777.000000  638777.0   \n",
       "mean       50.535467  6.350000e-07       0.000004     758.716698     200.0   \n",
       "std        28.866381  9.533363e-18       0.000004       1.808765       0.0   \n",
       "min         1.000000  6.350000e-07       0.000001     755.630000     200.0   \n",
       "25%        26.000000  6.350000e-07       0.000001     757.130000     200.0   \n",
       "50%        51.000000  6.350000e-07       0.000001     758.750000     200.0   \n",
       "75%        76.000000  6.350000e-07       0.000010     760.310000     200.0   \n",
       "max       103.000000  6.350000e-07       0.000010     761.810000     200.0   \n",
       "\n",
       "       VOL_u104  \n",
       "count  638777.0  \n",
       "mean     2200.0  \n",
       "std         0.0  \n",
       "min      2200.0  \n",
       "25%      2200.0  \n",
       "50%      2200.0  \n",
       "75%      2200.0  \n",
       "max      2200.0  "
      ]
     },
     "execution_count": 5,
     "metadata": {},
     "output_type": "execute_result"
    }
   ],
   "source": [
    "eventDF.describe()"
   ]
  },
  {
   "cell_type": "markdown",
   "metadata": {},
   "source": [
    "## Estimate positron implanation time"
   ]
  },
  {
   "cell_type": "code",
   "execution_count": 6,
   "metadata": {
    "collapsed": false
   },
   "outputs": [
    {
     "name": "stdout",
     "output_type": "stream",
     "text": [
      "t0 = 0.85 us\n"
     ]
    }
   ],
   "source": [
    "# check the event spectra to ensure this makes sense\n",
    "t0 = (eventDF[eventDF.amp > 0.07].trigger).mean()\n",
    "print('t0 = %.2f us'%(t0*1e6))"
   ]
  },
  {
   "cell_type": "markdown",
   "metadata": {},
   "source": [
    "## Plot trigger time histogram"
   ]
  },
  {
   "cell_type": "code",
   "execution_count": 25,
   "metadata": {
    "collapsed": false
   },
   "outputs": [
    {
     "data": {
      "image/png": "[encoded data removed]",
      "text/plain": [
       "<matplotlib.figure.Figure at 0xf093940>"
      ]
     },
     "metadata": {},
     "output_type": "display_data"
    }
   ],
   "source": [
    "# histogram bins\n",
    "bin_width = 0.5\n",
    "bins=np.arange(0,10 + bin_width, bin_width)\n",
    "x_vals = bins[:-1] + bin_width/2.0  # center of each bin\n",
    "\n",
    "# data\n",
    "VIDS = [31, 2]\n",
    "#plot setup\n",
    "fig, ax = plt.subplots(figsize=(6,4))\n",
    "j = 0\n",
    "for vid in VIDS:\n",
    "    # select data\n",
    "    data = eventDF[(eventDF[uDF.columns] == uDF.loc[vid]).all(1)]\n",
    "    acq_on = logDF.loc[np.unique(data.squid.values), 'ACQUIRE'].sum()\n",
    "    trigs = (data['trigger'].values)*1e6\n",
    "    n_on = np.histogram(trigs, bins=bins)\n",
    "    # y-axis, normalise data to acquisition time\n",
    "    y_vals =  np.divide(n_on[0], acq_on)\n",
    "    yerr  = np.sqrt(n_on[0])/ acq_on\n",
    "    ax.errorbar(x_vals - t0*1e6, y_vals, yerr=yerr, drawstyle='steps-mid',\n",
    "                label='%d'%vid, color=oskar.colors[j])\n",
    "    ax.set_ylabel(\"Trigger rate / 500 ns\")\n",
    "    ax.axhline(0, color='k', alpha=0.5)\n",
    "    j = j + 1\n",
    "\n",
    "# format\n",
    "ax.legend(loc=0, fontsize=10, title='vid')\n",
    "ax.set_xlabel(r\"Time ($\\mu$s)\");\n",
    "ax.set_title(rid);\n",
    "\n",
    "# save data\n",
    "plt.tight_layout();\n",
    "fileout = os.path.join(out_dire, 'hist_total.png')\n",
    "#plt.savefig(fileout, dpi=150)\n",
    "plt.show()"
   ]
  },
  {
   "cell_type": "markdown",
   "metadata": {},
   "source": [
    "## Background subtract"
   ]
  },
  {
   "cell_type": "code",
   "execution_count": 26,
   "metadata": {
    "collapsed": false
   },
   "outputs": [
    {
     "data": {
      "image/png": "[encoded data removed]",
      "text/plain": [
       "<matplotlib.figure.Figure at 0xf7ef780>"
      ]
     },
     "metadata": {},
     "output_type": "display_data"
    }
   ],
   "source": [
    "# background\n",
    "vid_off = 1\n",
    "background = eventDF[(eventDF[uDF.columns] == uDF.loc[vid_off]).all(1)]\n",
    "acq_off = logDF.loc[np.unique(background.squid.values), 'ACQUIRE'].sum()\n",
    "bktrigs = (background['trigger'].values)*1e6\n",
    "n_off = np.histogram(bktrigs, bins=bins)\n",
    "\n",
    "# data\n",
    "VIDS = [31]\n",
    "#plot setup\n",
    "fig, ax = plt.subplots(figsize=(6,4))\n",
    "j = 0\n",
    "for vid in VIDS:\n",
    "    # select data\n",
    "    data = eventDF[(eventDF[uDF.columns] == uDF.loc[vid]).all(1)]\n",
    "    acq_on = logDF.loc[np.unique(data.squid.values), 'ACQUIRE'].sum()\n",
    "    trigs = (data['trigger'].values)*1e6\n",
    "    n_on = np.histogram(trigs, bins=bins)\n",
    "    # y-axis, normalise data to acquisition time\n",
    "    y_vals =  n_on[0] / float(acq_on) - n_off[0] / float(acq_off)\n",
    "    # error\n",
    "    yerr  = np.sqrt(n_on[0]/ float(acq_on**2.0) + n_off[0] / float(acq_off**2.0))\n",
    "    ax.errorbar(x_vals - t0*1e6, y_vals, yerr=yerr, drawstyle='steps-mid',\n",
    "                label='%d'%vid, color=oskar.colors[j])\n",
    "    ax.set_ylabel(\"Backsub trigger rate / 500 ns\")\n",
    "    ax.axhline(0, color='k', alpha=0.5)\n",
    "    j = j + 1\n",
    "\n",
    "# format\n",
    "ax.legend(loc=0, fontsize=10, title='vid')\n",
    "ax.set_xlabel(r\"Time ($\\mu$s)\");\n",
    "ax.set_title(rid + \"(\" + str(vid_off)+ \")\");\n",
    "\n",
    "# save data\n",
    "plt.tight_layout();\n",
    "fileout = os.path.join(out_dire, 'hist_bksub.png')\n",
    "#plt.savefig(fileout, dpi=150)\n",
    "plt.show()"
   ]
  },
  {
   "cell_type": "code",
   "execution_count": null,
   "metadata": {
    "collapsed": true
   },
   "outputs": [],
   "source": []
  }
 ],
 "metadata": {
  "kernelspec": {
   "display_name": "Python 2",
   "language": "python",
   "name": "python2"
  },
  "language_info": {
   "codemirror_mode": {
    "name": "ipython",
    "version": 2
   },
   "file_extension": ".py",
   "mimetype": "text/x-python",
   "name": "python",
   "nbconvert_exporter": "python",
   "pygments_lexer": "ipython2",
   "version": "2.7.11"
  }
 },
 "nbformat": 4,
 "nbformat_minor": 0
}
