{
 "cells": [
  {
   "cell_type": "markdown",
   "metadata": {},
   "source": [
    "# Counting Events in HDF5 data\n",
    "<span style=\"color:red\">IMPORTANT</span> - This notebook reads HDF5 files. Always PAUSE Sequencer.vi to run analysis for current sequence (HDF5 r/w conflict)!"
   ]
  },
  {
   "cell_type": "code",
   "execution_count": 1,
   "metadata": {
    "collapsed": false
   },
   "outputs": [],
   "source": [
    "#import python packages\n",
    "import os\n",
    "import numpy as np\n",
    "import matplotlib.pyplot as plt\n",
    "%matplotlib inline\n",
    "import oskar\n",
    "scripts = oskar.Scripts()"
   ]
  },
  {
   "cell_type": "markdown",
   "metadata": {},
   "source": [
    "## Import Data"
   ]
  },
  {
   "cell_type": "code",
   "execution_count": 2,
   "metadata": {
    "collapsed": false
   },
   "outputs": [
    {
     "name": "stdout",
     "output_type": "stream",
     "text": [
      "20160504_051854\n",
      "   Author:\t AA\n",
      "   Description:  n = 10 on off wavelength  pulser on off (10us, 1.1us), guiding attept\n"
     ]
    }
   ],
   "source": [
    "rid = '20160504_051854'\n",
    "h5 = oskar.H5Data(rid)              # data\n",
    "h5.load_log()\n",
    "vDF = h5.var_df()\n",
    "uDF = h5.unique_df()\n",
    "out_dire = h5.out_dire(\"Events\")    # output\n",
    "h5.pprint()"
   ]
  },
  {
   "cell_type": "code",
   "execution_count": 3,
   "metadata": {
    "collapsed": false
   },
   "outputs": [
    {
     "name": "stdout",
     "output_type": "stream",
     "text": [
      "{u'probe attenuation': 1.0, u'name': 'Channel 1', u'vertical range': 0.070000000000000007, u't0': 5.9999999999996037e-07, u'vertical coupling': 'DC', u'Model': 'DSO6104A,MY51510237,06.17.0001\\n', u'input impedance': '50 ohms', u'vertical offset': -0.029999999999999999, u'dt': 3.5000000000000003e-09, u'Manufacturer': 'Agilent'}\n"
     ]
    }
   ],
   "source": [
    "# data\n",
    "ftype = 'CH_A0'\n",
    "squid = 4\n",
    "trace, info = h5.load_array(squid, ftype)\n",
    "print(info)"
   ]
  },
  {
   "cell_type": "markdown",
   "metadata": {},
   "source": [
    "## Trigger Settings"
   ]
  },
  {
   "cell_type": "code",
   "execution_count": 7,
   "metadata": {
    "collapsed": false
   },
   "outputs": [],
   "source": [
    "min_level = 0.005 # minimum threshold (V)\n",
    "min_width = 2E-8 # minimum pulse width (s)\n",
    "min_x = min_width / info['dt']"
   ]
  },
  {
   "cell_type": "code",
   "execution_count": 8,
   "metadata": {
    "collapsed": false
   },
   "outputs": [
    {
     "name": "stdout",
     "output_type": "stream",
     "text": [
      "trigger : [155 339 461 527 882]\n",
      "width : [  5.46000000e-07   3.15000000e-08   6.30000000e-08   4.55000000e-08\n",
      "   5.25000000e-08]\n",
      "amp : [-0.065992512, -0.012153216, -0.021715717, -0.0096219657, -0.021916611]\n"
     ]
    },
    {
     "data": {
      "image/png": "[encoded data removed]",
      "text/plain": [
       "<matplotlib.figure.Figure at 0xa134978>"
      ]
     },
     "metadata": {},
     "output_type": "display_data"
    }
   ],
   "source": [
    "rep = 1\n",
    "ydata = trace[rep]\n",
    "offset = np.mean(ydata[:50])\n",
    "ydata = ydata - offset\n",
    "xdata = np.arange(len(ydata)) * info['dt'] / 1E-6\n",
    "\n",
    "#plot\n",
    "fig, ax = plt.subplots()\n",
    "ax.plot(xdata, ydata, 'k')\n",
    "# find where trace exceeds threshold\n",
    "threshold = -ydata > min_level\n",
    "ax.plot(xdata, np.int_(threshold)*min_level, '-r')\n",
    "# first and last element must be False\n",
    "threshold[0] = False\n",
    "threshold[-1] = False\n",
    "# find where True goes to False (pulse start/ stop)\n",
    "rngs = np.where(np.diff(threshold))[0].reshape(-1, 2)\n",
    "# find the pulses wider than the min_width\n",
    "pulse = rngs[rngs[:,1]-rngs[:,0] > min_x]\n",
    "#leading edge, width, and max value (assume negative)\n",
    "trigger = pulse[:,0]\n",
    "print \"trigger : \" + str(trigger)\n",
    "width = (pulse[:,1] - pulse[:,0]) * info['dt']\n",
    "print \"width : \" + str(width)\n",
    "amp = [np.min(ydata[p[0]:p[1]]) for p in pulse]\n",
    "print \"amp : \" + str(amp)\n",
    "for trig in trigger:\n",
    "    ax.axvline(x=xdata[trig])\n",
    "    \n",
    "#format\n",
    "ax.set_ylabel(\"Background Subtracted (mV)\");\n",
    "ax.set_xlabel(r\"Time ($\\mu$s)\");\n",
    "plt.title(rid + ' [' + str(rep) + ']');\n",
    "plt.axhline(0, color='k', alpha=0.5)\n",
    "plt.axvline(0, color='k', alpha=0.5)\n",
    "ax.grid(True)\n",
    "\n",
    "#save data\n",
    "plt.tight_layout();\n",
    "fileout = os.path.join(out_dire, \"LYSO_trigger.png\")\n",
    "plt.savefig(fileout, dpi=300)\n",
    "plt.show()"
   ]
  },
  {
   "cell_type": "code",
   "execution_count": 9,
   "metadata": {
    "collapsed": false
   },
   "outputs": [
    {
     "name": "stdout",
     "output_type": "stream",
     "text": [
      "usage: count.py [-h] [-b BASE] [-d DIRE] [-r RID] [-f FTYPE [FTYPE ...]] [-n]\n",
      "                [--n_bsub N_BSUB] [-l MIN_LEVEL] [-w MIN_WIDTH] [-i] [-t] [-q]\n",
      "                [-v] [-s]\n",
      "\n",
      "Count the triggers per trace in FTYPE. Output DataFrame to .pkl file.\n",
      "\n",
      "optional arguments:\n",
      "  -h, --help            show this help message and exit\n",
      "\n",
      "HDF5 data:\n",
      "  -b BASE, --base BASE  base directory, e.g. --base \"Z:\\Data\"\n",
      "  -d DIRE, --dire DIRE  data directory. Defaults to \"[base]\\YYYY\\mm\\dd\\rid\"\n",
      "  -r RID, --rid RID     rid, e.g. --rid \"20160203_185633\"\n",
      "  -f FTYPE [FTYPE ...], --ftype FTYPE [FTYPE ...]\n",
      "                        file type(s) to read, e.g. -f \"CH_A0\"\n",
      "\n",
      "trigger:\n",
      "  -n, --negative        negative trigger [default: False]\n",
      "  --n_bsub N_BSUB       number of data points to use for background\n",
      "                        subtraction, default 50.\n",
      "  -l MIN_LEVEL, --min_level MIN_LEVEL\n",
      "                        trigger level (V) [default: 0.001]\n",
      "  -w MIN_WIDTH, --min_width MIN_WIDTH\n",
      "                        minimum trigger pulse width (s) [default: 1E-7]\n",
      "\n",
      "script options:\n",
      "  -i, --info            pprint h5 file attributes\n",
      "  -t, --progress        display tqdm progress bar\n",
      "  -q, --quiet           surpress script output\n",
      "  -v, --verbose         verbose script information\n",
      "\n",
      "defaults.json:\n",
      "  -s, --set             save args. (dire/ rid/ ftype) as default values\n"
     ]
    }
   ],
   "source": [
    "# find all triggers\n",
    "%run $scripts.count --help"
   ]
  },
  {
   "cell_type": "code",
   "execution_count": 10,
   "metadata": {
    "collapsed": false
   },
   "outputs": [
    {
     "name": "stdout",
     "output_type": "stream",
     "text": [
      "20160504_051854\n"
     ]
    },
    {
     "name": "stderr",
     "output_type": "stream",
     "text": [
      "100%|███████████████████████████████████| 268/268 [01:20<00:00,  3.43 squids/s]\n"
     ]
    },
    {
     "name": "stdout",
     "output_type": "stream",
     "text": [
      "CH_A0 : Found 155889  trigger events from 26770 traces, for 268 out of 268 seqs.\n"
     ]
    }
   ],
   "source": [
    "# runtime ~ 5 mins per 24 hours of data (dt = 5 ns)\n",
    "%run $scripts.count -r $rid -f \"CH_A0\" --negative --min_level=$min_level --min_width=$min_width --n_bsub 50 -t"
   ]
  },
  {
   "cell_type": "code",
   "execution_count": null,
   "metadata": {
    "collapsed": true
   },
   "outputs": [],
   "source": []
  }
 ],
 "metadata": {
  "kernelspec": {
   "display_name": "Python 2",
   "language": "python",
   "name": "python2"
  },
  "language_info": {
   "codemirror_mode": {
    "name": "ipython",
    "version": 2
   },
   "file_extension": ".py",
   "mimetype": "text/x-python",
   "name": "python",
   "nbconvert_exporter": "python",
   "pygments_lexer": "ipython2",
   "version": "2.7.11"
  }
 },
 "nbformat": 4,
 "nbformat_minor": 0
}
