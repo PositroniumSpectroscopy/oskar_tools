{
 "cells": [
  {
   "cell_type": "markdown",
   "metadata": {},
   "source": [
    "# Counting Events in HDF5 data\n",
    "<span style=\"color:red\">IMPORTANT</span> - This notebook reads HDF5 files. Always PAUSE Sequencer.vi to run analysis for current sequence (HDF5 r/w conflict)!"
   ]
  },
  {
   "cell_type": "code",
   "execution_count": 2,
   "metadata": {
    "collapsed": false
   },
   "outputs": [],
   "source": [
    "#import python packages\n",
    "import os\n",
    "import numpy as np\n",
    "import matplotlib.pyplot as plt\n",
    "%matplotlib inline\n",
    "import oskar\n",
    "scripts = oskar.Scripts()"
   ]
  },
  {
   "cell_type": "markdown",
   "metadata": {},
   "source": [
    "## Import Data"
   ]
  },
  {
   "cell_type": "code",
   "execution_count": 3,
   "metadata": {
    "collapsed": false
   },
   "outputs": [
    {
     "name": "stdout",
     "output_type": "stream",
     "text": [
      "20160424_115511\n",
      "   Author:\t AA,BC\n",
      "   Description:  Pulser delay scan, lineshapes at each delay\n",
      "\t\t (pulser) DLY_GA: 1.05u, 1.4u, 10u\n",
      "\t\t (lasers) DLY_EA: 635ns\n",
      "\t\t IR: 755.63 - 761.81 (0.06)nm\n",
      "\t\t T = 2.2kV\n",
      "\t\t G = 200 V\n",
      "\t\t Initial temp: 97.1deg \n"
     ]
    }
   ],
   "source": [
    "rid = '20160424_115511'\n",
    "h5 = oskar.H5Data(rid)              # data\n",
    "h5.load_log()\n",
    "vDF = h5.var_df()\n",
    "uDF = h5.unique_df()\n",
    "out_dire = h5.out_dire(\"Events\")    # output\n",
    "h5.pprint()"
   ]
  },
  {
   "cell_type": "code",
   "execution_count": 4,
   "metadata": {
    "collapsed": false
   },
   "outputs": [
    {
     "name": "stdout",
     "output_type": "stream",
     "text": [
      "{u'probe attenuation': 1.0, u'name': 'Channel 1', u'vertical range': 0.10000000000000001, u't0': 2.9999999999995308e-07, u'vertical coupling': 'DC', u'Model': 'DSO6104A,MY51510237,06.17.0001\\n', u'input impedance': '50 ohms', u'vertical offset': -0.035000000000000003, u'dt': 6.0000000000000008e-09, u'Manufacturer': 'Agilent'}\n"
     ]
    }
   ],
   "source": [
    "# data\n",
    "ftype = 'CH_A0'\n",
    "squid = 4\n",
    "trace, info = h5.load_array(squid, ftype)\n",
    "print(info)"
   ]
  },
  {
   "cell_type": "markdown",
   "metadata": {},
   "source": [
    "## Trigger Settings"
   ]
  },
  {
   "cell_type": "code",
   "execution_count": 13,
   "metadata": {
    "collapsed": false
   },
   "outputs": [],
   "source": [
    "min_level = 0.004 # minimum threshold (V)\n",
    "min_width = 2E-8 # minimum pulse width (s)\n",
    "min_x = min_width / info['dt']"
   ]
  },
  {
   "cell_type": "code",
   "execution_count": 14,
   "metadata": {
    "collapsed": false
   },
   "outputs": [
    {
     "name": "stdout",
     "output_type": "stream",
     "text": [
      "trigger : [131 141 276 401 518]\n",
      "width : [  2.40000000e-08   6.06000000e-07   5.40000000e-08   4.80000000e-08\n",
      "   6.60000000e-08]\n",
      "amp : [-0.007409323, -0.088727027, -0.015195781, -0.010320781, -0.015500468]\n"
     ]
    },
    {
     "data": {
      "image/png": "[encoded data removed]",
      "text/plain": [
       "<matplotlib.figure.Figure at 0x20dbe6d8>"
      ]
     },
     "metadata": {},
     "output_type": "display_data"
    }
   ],
   "source": [
    "rep = 1\n",
    "ydata = trace[rep]\n",
    "offset = np.mean(ydata[:50])\n",
    "ydata = ydata - offset\n",
    "xdata = np.arange(len(ydata)) * info['dt'] / 1E-6\n",
    "\n",
    "#plot\n",
    "fig, ax = plt.subplots()\n",
    "ax.plot(xdata, ydata, 'k')\n",
    "# find where trace exceeds threshold\n",
    "threshold = -ydata > min_y\n",
    "ax.plot(xdata, np.int_(threshold)*min_y, '-r')\n",
    "# first and last element must be False\n",
    "threshold[0] = False\n",
    "threshold[-1] = False\n",
    "# find where True goes to False (pulse start/ stop)\n",
    "rngs = np.where(np.diff(threshold))[0].reshape(-1, 2)\n",
    "# find the pulses wider than the min_width\n",
    "pulse = rngs[rngs[:,1]-rngs[:,0] > min_x]\n",
    "#leading edge, width, and max value (assume negative)\n",
    "trigger = pulse[:,0]\n",
    "print \"trigger : \" + str(trigger)\n",
    "width = (pulse[:,1] - pulse[:,0]) * info['dt']\n",
    "print \"width : \" + str(width)\n",
    "amp = [np.min(ydata[p[0]:p[1]]) for p in pulse]\n",
    "print \"amp : \" + str(amp)\n",
    "for trig in trigger:\n",
    "    ax.axvline(x=xdata[trig])\n",
    "    \n",
    "#format\n",
    "ax.set_ylabel(\"Background Subtracted (mV)\");\n",
    "ax.set_xlabel(r\"Time ($\\mu$s)\");\n",
    "plt.title(rid + ' [' + str(rep) + ']');\n",
    "plt.axhline(0, color='k', alpha=0.5)\n",
    "plt.axvline(0, color='k', alpha=0.5)\n",
    "ax.grid(True)\n",
    "\n",
    "#save data\n",
    "plt.tight_layout();\n",
    "fileout = os.path.join(out_dire, \"LYSO_trigger.png\")\n",
    "plt.savefig(fileout, dpi=300)\n",
    "plt.show()"
   ]
  },
  {
   "cell_type": "code",
   "execution_count": 15,
   "metadata": {
    "collapsed": false
   },
   "outputs": [
    {
     "name": "stdout",
     "output_type": "stream",
     "text": [
      "usage: count.py [-h] [-b BASE] [-d DIRE] [-r RID] [-f FTYPE [FTYPE ...]] [-n]\n",
      "                [--n_bsub N_BSUB] [-l MIN_LEVEL] [-w MIN_WIDTH] [-i] [-t] [-q]\n",
      "                [-v] [-s]\n",
      "\n",
      "Count the triggers per trace in FTYPE. Output DataFrame to .pkl file.\n",
      "\n",
      "optional arguments:\n",
      "  -h, --help            show this help message and exit\n",
      "\n",
      "HDF5 data:\n",
      "  -b BASE, --base BASE  base directory, e.g. --base \"Z:\\Data\"\n",
      "  -d DIRE, --dire DIRE  data directory. Defaults to \"[base]\\YYYY\\mm\\dd\\rid\"\n",
      "  -r RID, --rid RID     rid, e.g. --rid \"20160203_185633\"\n",
      "  -f FTYPE [FTYPE ...], --ftype FTYPE [FTYPE ...]\n",
      "                        file type(s) to read, e.g. -f \"CH_A0\"\n",
      "\n",
      "trigger:\n",
      "  -n, --negative        negative trigger [default: False]\n",
      "  --n_bsub N_BSUB       number of data points to use for background\n",
      "                        subtraction, default 50.\n",
      "  -l MIN_LEVEL, --min_level MIN_LEVEL\n",
      "                        trigger level (V) [default: 0.001]\n",
      "  -w MIN_WIDTH, --min_width MIN_WIDTH\n",
      "                        minimum trigger pulse width (s) [default: 1E-7]\n",
      "\n",
      "script options:\n",
      "  -i, --info            pprint h5 file attributes\n",
      "  -t, --progress        display tqdm progress bar\n",
      "  -q, --quiet           surpress script output\n",
      "  -v, --verbose         verbose script information\n",
      "\n",
      "defaults.json:\n",
      "  -s, --set             save args. (dire/ rid/ ftype) as default values\n"
     ]
    }
   ],
   "source": [
    "# find all triggers\n",
    "%run $scripts.count --help"
   ]
  },
  {
   "cell_type": "code",
   "execution_count": 16,
   "metadata": {
    "collapsed": false
   },
   "outputs": [
    {
     "name": "stdout",
     "output_type": "stream",
     "text": [
      "20160424_115511\n"
     ]
    },
    {
     "name": "stderr",
     "output_type": "stream",
     "text": [
      "100%|███████████████████████████████████| 730/730 [03:29<00:00,  3.42 squids/s]\n"
     ]
    },
    {
     "name": "stdout",
     "output_type": "stream",
     "text": [
      "CH_A0 : Found 330532  trigger events from 72962 traces, for 730 out of 730 seqs.\n"
     ]
    },
    {
     "name": "stderr",
     "output_type": "stream",
     "text": [
      "100%|███████████████████████████████████| 730/730 [03:07<00:00,  4.09 squids/s]\n"
     ]
    },
    {
     "name": "stdout",
     "output_type": "stream",
     "text": [
      "CH_A1 : Found 308245  trigger events from 72962 traces, for 730 out of 730 seqs.\n"
     ]
    }
   ],
   "source": [
    "# runtime ~ 5 mins per 24 hours of data (dt = 5 ns)\n",
    "%run $scripts.count -r $rid -f \"CH_A0\" \"CH_A1\" --negative --min_level=$min_y --min_width=$min_width --n_bsub 50 -t"
   ]
  },
  {
   "cell_type": "code",
   "execution_count": null,
   "metadata": {
    "collapsed": true
   },
   "outputs": [],
   "source": []
  }
 ],
 "metadata": {
  "kernelspec": {
   "display_name": "Python 2",
   "language": "python",
   "name": "python2"
  },
  "language_info": {
   "codemirror_mode": {
    "name": "ipython",
    "version": 2
   },
   "file_extension": ".py",
   "mimetype": "text/x-python",
   "name": "python",
   "nbconvert_exporter": "python",
   "pygments_lexer": "ipython2",
   "version": "2.7.11"
  }
 },
 "nbformat": 4,
 "nbformat_minor": 0
}
